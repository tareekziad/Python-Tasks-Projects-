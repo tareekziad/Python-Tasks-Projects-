{
 "cells": [
  {
   "cell_type": "code",
   "execution_count": 1,
   "metadata": {},
   "outputs": [],
   "source": [
    "import os\n",
    "import time \n",
    "import random"
   ]
  },
  {
   "cell_type": "code",
   "execution_count": 2,
   "metadata": {},
   "outputs": [],
   "source": [
    "# load data base from file\n",
    "if not os.path.exists('dictdata.txt'):\n",
    "    with open('dictdata.txt' , 'w')as f:\n",
    "        pass\n",
    "data = dict()"
   ]
  },
  {
   "cell_type": "code",
   "execution_count": 3,
   "metadata": {},
   "outputs": [],
   "source": [
    "def load_data():\n",
    "    for item in open('dictdata.txt' , 'r'):\n",
    "        k , val = item.split(':')[0] , item.split(':')[1]\n",
    "        data[k] = val if val[-1] != '\\n' else val[:-1]\n",
    "#load_data()\n",
    "#print(data)"
   ]
  },
  {
   "cell_type": "code",
   "execution_count": 4,
   "metadata": {},
   "outputs": [],
   "source": [
    "def store_data ():\n",
    "    with open('dictdata.txt' , 'w')as f:\n",
    "        for k , val in data.items():\n",
    "            f.writelines(k+':'+val+'\\n')\n",
    "#store_data()"
   ]
  },
  {
   "cell_type": "code",
   "execution_count": 5,
   "metadata": {},
   "outputs": [],
   "source": [
    "def show():\n",
    "    print('press [1] to Add a new word with its meaning'.title())\n",
    "    print('press [2] to Edit the meaning of a certain word'.title())\n",
    "    print('press [3] to Search for the meaning of a word in the dictionary'.title())\n",
    "    print('press [4] to Display all words sorted, along with their corresponding'.title())\n",
    "    print('press [0] to exit from program'.title())\n",
    "    print('-'*30)"
   ]
  },
  {
   "cell_type": "code",
   "execution_count": 6,
   "metadata": {},
   "outputs": [],
   "source": [
    "def add():\n",
    "    load_data()\n",
    "    new_word = input('enter the word you would like to add : '.title())\n",
    "    if new_word not in data.keys():\n",
    "        word_disc = input('enter the discription of the new word you have entered : '.title())\n",
    "        data[new_word] = word_disc\n",
    "        print('word added successfully '.title())\n",
    "    else :\n",
    "        print('the word you have entered is exist ! , you might want to update it ')"
   ]
  },
  {
   "cell_type": "code",
   "execution_count": 7,
   "metadata": {},
   "outputs": [
    {
     "name": "stdout",
     "output_type": "stream",
     "text": [
      "sale : A Period During Which A Shop Sells Goods At Reduced Price\n",
      "management : he process of dealing with or controlling things or people\n"
     ]
    }
   ],
   "source": [
    "def DisplyallWords():\n",
    "    load_data()\n",
    "    for key , val in data.items():\n",
    "        print(f'{key} : {val}')\n",
    "DisplyallWords()"
   ]
  },
  {
   "cell_type": "code",
   "execution_count": 9,
   "metadata": {},
   "outputs": [
    {
     "name": "stdout",
     "output_type": "stream",
     "text": [
      "Enter The Word Would You Like To Update : sale\n",
      "This Is The Description Of The Word  :-> A Period During Which A Shop Sells Goods At Reduced Price\n",
      "Enter New Description Of This Word :  A Period During Which A Shop Sells Goods At Reduced Prices\n",
      "Description Updated Successfully \n"
     ]
    }
   ],
   "source": [
    "def update():\n",
    "    load_data()\n",
    "    word = input('enter the word would you like to update : '.title())\n",
    "    if word not in data.keys():\n",
    "        print('this word is not found !!'.title() + '\\n' + '-'*33)\n",
    "        word = input('try again ! enter the word would you like to update : '.title())\n",
    "        while word not in data.keys():\n",
    "            word = input('try again ! enter the word would you like to update : '.title())\n",
    "            DisplyallWords()\n",
    "    print(f'this is the description of the word  :-> {data[word]}'.title())\n",
    "    new_des = input('enter new description of this word : '.title())\n",
    "    data[word] = new_des\n",
    "    print('description updated successfully '.title())\n",
    "update()"
   ]
  },
  {
   "cell_type": "code",
   "execution_count": 11,
   "metadata": {},
   "outputs": [],
   "source": [
    "def main ():\n",
    "    print('welcome to our english dictionary '.title())\n",
    "    print('-' * 33)\n",
    "    show()\n",
    "    choice = input()\n",
    "    while True:\n",
    "        if choice == '1':\n",
    "            add()\n",
    "            print('-'*33)\n",
    "        elif choice == '2':\n",
    "            update()\n",
    "            print('-'*33)\n",
    "        elif choice == '3':\n",
    "            print('search')\n",
    "        elif choice == '4':\n",
    "            print('display')\n",
    "        elif choice == '0':\n",
    "            store_data()\n",
    "            break\n",
    "        else :\n",
    "            print('wrong choice !!'.title(),'\\n','-'*33)\n",
    "        show()\n",
    "        choice = input()"
   ]
  },
  {
   "cell_type": "code",
   "execution_count": 12,
   "metadata": {},
   "outputs": [
    {
     "name": "stdout",
     "output_type": "stream",
     "text": [
      "Welcome To Our English Dictionary \n",
      "---------------------------------\n",
      "Press [1] To Add A New Word With Its Meaning\n",
      "Press [2] To Edit The Meaning Of A Certain Word\n",
      "Press [3] To Search For The Meaning Of A Word In The Dictionary\n",
      "Press [4] To Display All Words Sorted, Along With Their Corresponding\n",
      "Press [0] To Exit From Program\n",
      "------------------------------\n",
      "2\n",
      "Enter The Word Would You Like To Update : sale\n",
      "This Is The Description Of The Word  :-> A Period During Which A Shop Sells Goods At Reduced Price\n",
      "Enter New Description Of This Word :  A Period During Which A Shop Sells Goods At Reduced Prices\n",
      "Description Updated Successfully \n",
      "---------------------------------\n",
      "Press [1] To Add A New Word With Its Meaning\n",
      "Press [2] To Edit The Meaning Of A Certain Word\n",
      "Press [3] To Search For The Meaning Of A Word In The Dictionary\n",
      "Press [4] To Display All Words Sorted, Along With Their Corresponding\n",
      "Press [0] To Exit From Program\n",
      "------------------------------\n",
      "0\n"
     ]
    }
   ],
   "source": [
    "if __name__ == '__main__':\n",
    "    main()"
   ]
  },
  {
   "cell_type": "code",
   "execution_count": 13,
   "metadata": {},
   "outputs": [],
   "source": [
    "!dictdata.txt"
   ]
  },
  {
   "cell_type": "code",
   "execution_count": null,
   "metadata": {},
   "outputs": [],
   "source": []
  }
 ],
 "metadata": {
  "kernelspec": {
   "display_name": "Python 3",
   "language": "python",
   "name": "python3"
  },
  "language_info": {
   "codemirror_mode": {
    "name": "ipython",
    "version": 3
   },
   "file_extension": ".py",
   "mimetype": "text/x-python",
   "name": "python",
   "nbconvert_exporter": "python",
   "pygments_lexer": "ipython3",
   "version": "3.7.6"
  }
 },
 "nbformat": 4,
 "nbformat_minor": 4
}
