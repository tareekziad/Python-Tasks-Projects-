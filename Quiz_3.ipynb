{
 "cells": [
  {
   "cell_type": "code",
   "execution_count": 1,
   "metadata": {},
   "outputs": [],
   "source": [
    "import requests\n",
    "from bs4 import BeautifulSoup\n",
    "import csv \n",
    "import json"
   ]
  },
  {
   "cell_type": "code",
   "execution_count": 2,
   "metadata": {},
   "outputs": [],
   "source": [
    "req = requests.get('https://disease.sh/v3/covid-19/historical/all?lastdays=all')"
   ]
  },
  {
   "cell_type": "code",
   "execution_count": 5,
   "metadata": {},
   "outputs": [
    {
     "name": "stdout",
     "output_type": "stream",
     "text": [
      "dict_keys(['cases', 'deaths', 'recovered'])\n"
     ]
    }
   ],
   "source": [
    "data = json.loads(req.content)\n",
    "print(data.keys()) "
   ]
  },
  {
   "cell_type": "code",
   "execution_count": 28,
   "metadata": {},
   "outputs": [],
   "source": [
    "fieldsname = ['days' , 'cases' , 'deathes' , 'recovered']\n",
    "with open('Covid_19.csv' , 'w' , newline='')as f:\n",
    "    writer = csv.DictWriter(f , fieldnames=fieldsname)\n",
    "    writer.writeheader()\n",
    "    for day , case , death , rcovered in zip(data['cases'].keys() , data['cases'].values() , data['deaths'].values() , data['recovered'].values()):\n",
    "        writer.writerow({'days' : day , 'cases' : case , 'deathes' : death , 'recovered' : rcovered})"
   ]
  },
  {
   "cell_type": "code",
   "execution_count": 29,
   "metadata": {},
   "outputs": [],
   "source": [
    "!Covid_19.csv"
   ]
  },
  {
   "cell_type": "code",
   "execution_count": 31,
   "metadata": {},
   "outputs": [
    {
     "name": "stdout",
     "output_type": "stream",
     "text": [
      "3/8/22 Is The Day That Has Max Cases = 449728702 \n",
      " ----------------------------------------------\n",
      "3/8/22 Is The Day That Has Max Deathes = 6014690 \n",
      " ----------------------------------------------\n",
      "8/4/21 Is The Day That Has Max Recoverd Cases = 130899061\n"
     ]
    }
   ],
   "source": [
    "MaxCaseVal = max(data['cases'].values())\n",
    "for k , val in data['cases'].items():\n",
    "    if val == MaxCaseVal:\n",
    "        print(f'{k} is the day that has max cases = {MaxCaseVal}'.title(),'\\n','-'*46)\n",
    "        break\n",
    "MaxDeathVal = max(data['deaths'].values())\n",
    "for k , val in data['deaths'].items():\n",
    "    if val == MaxDeathVal:\n",
    "        print(f'{k} is the day that has max deathes = {MaxDeathVal}'.title() , '\\n' , '-'*46)\n",
    "        break\n",
    "MaxrecoveredVal = max(data['recovered'].values())\n",
    "for k , val in data['recovered'].items():\n",
    "    if val == MaxrecoveredVal:\n",
    "        print(f'{k} is the day that has max recoverd cases = {MaxrecoveredVal}'.title())\n",
    "        break"
   ]
  },
  {
   "cell_type": "code",
   "execution_count": 32,
   "metadata": {},
   "outputs": [],
   "source": [
    "req = requests.get('https://twitter.com/10Tareek/status/1499472492997525507')"
   ]
  },
  {
   "cell_type": "code",
   "execution_count": null,
   "metadata": {},
   "outputs": [],
   "source": []
  }
 ],
 "metadata": {
  "kernelspec": {
   "display_name": "Python 3",
   "language": "python",
   "name": "python3"
  },
  "language_info": {
   "codemirror_mode": {
    "name": "ipython",
    "version": 3
   },
   "file_extension": ".py",
   "mimetype": "text/x-python",
   "name": "python",
   "nbconvert_exporter": "python",
   "pygments_lexer": "ipython3",
   "version": "3.7.6"
  }
 },
 "nbformat": 4,
 "nbformat_minor": 4
}
