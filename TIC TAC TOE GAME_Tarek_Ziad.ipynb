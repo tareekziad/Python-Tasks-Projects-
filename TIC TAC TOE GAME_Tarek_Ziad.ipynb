{
 "cells": [
  {
   "cell_type": "markdown",
   "metadata": {},
   "source": [
    "## TIC TAC TOE \n",
    "* Game start with 2 players {player1 : x , player2 : o}\n",
    "* player1 starts play and player2 after him untill one of them win or them are draw\n",
    "* A board appeard numberd from 1 - 9 \n",
    "* each number represent the cell number \n",
    "* once you press on cell number your mark (x , o) will appear in this cell "
   ]
  },
  {
   "cell_type": "markdown",
   "metadata": {},
   "source": [
    "#### Import some helper modules "
   ]
  },
  {
   "cell_type": "code",
   "execution_count": 1,
   "metadata": {},
   "outputs": [],
   "source": [
    "import os\n",
    "import time    \n",
    "from IPython.display import clear_output\n",
    "from colorama import Fore, Back, Style"
   ]
  },
  {
   "cell_type": "markdown",
   "metadata": {},
   "source": [
    "#### Board Drawer \n",
    "* a list numberd from 1 - 9 \n",
    "* each number represent cell number "
   ]
  },
  {
   "cell_type": "code",
   "execution_count": 2,
   "metadata": {},
   "outputs": [],
   "source": [
    "def DrawBoard(board):\n",
    "    print()\n",
    "    print(' '*30 + f' {Fore.BLACK +board[1]} | {Fore.BLACK +board[2]} | {Fore.BLACK +board[3]} ')    \n",
    "    print(' '*30 + Fore.BLACK + '___|___|___')\n",
    "    print(' '*30 + f' {Fore.BLACK +board[4]} | {Fore.BLACK +board[5]} | {Fore.BLACK +board[6]} ')    \n",
    "    print(' '*30 + Fore.BLACK + '___|___|___') \n",
    "    print(' '*30 + f' {Fore.BLACK +board[7]} | {Fore.BLACK +board[8]} | {Fore.BLACK +board[9]} \\n')    \n",
    "#DrawBoard()"
   ]
  },
  {
   "cell_type": "markdown",
   "metadata": {},
   "source": [
    "#### Cell checker \n",
    "* check if the cell the user choose is valid to play on it or not "
   ]
  },
  {
   "cell_type": "code",
   "execution_count": 3,
   "metadata": {},
   "outputs": [],
   "source": [
    "def CheckPosition(pos):\n",
    "    return True if board[pos] not in [Fore.GREEN +'X' , Fore.BLUE +'O'] else False"
   ]
  },
  {
   "cell_type": "markdown",
   "metadata": {},
   "source": [
    "#### Check game status \n",
    "* check if there is a winner or the game end with draw"
   ]
  },
  {
   "cell_type": "code",
   "execution_count": 4,
   "metadata": {},
   "outputs": [],
   "source": [
    "def CheckWin(board , GameStatus):   \n",
    "    \n",
    "    # Horizontal check\n",
    "    if(board[1] == board[2] and board[2] == board[3] and board[1] == board[3]):    \n",
    "        GameStatus = 1\n",
    "    elif(board[4] == board[5] and board[5] == board[6] and board[4] == board[6]):\n",
    "        GameStatus = 1    \n",
    "    elif(board[7] == board[8] and board[8] == board[9] and board[7] ==  board[9]):\n",
    "        GameStatus = 1\n",
    "        \n",
    "    # Vertical check\n",
    "    elif(board[1] == board[4] and board[4] == board[7] and board[1] ==  board[7]):\n",
    "        GameStatus = 1    \n",
    "    elif(board[2] == board[5] and board[5] == board[8] and board[2] ==  board[8]):\n",
    "        GameStatus = 1\n",
    "    elif(board[3] == board[6] and board[6] == board[9] and board[3] ==  board[9]):\n",
    "        GameStatus = 1\n",
    "        \n",
    "    #Diagonal check    \n",
    "    elif(board[1] == board[5] and board[5] == board[9] and board[1] ==  board[9]):\n",
    "        GameStatus = 1\n",
    "    elif(board[3] == board[5] and board[5] == board[7] and board[3] ==  board[7]):\n",
    "        GameStatus = 1  \n",
    "        \n",
    "    # Draw Case\n",
    "    elif(board[1]!= '1'\n",
    "         and board[2]!= '2'\n",
    "         and board[3]!= '3'\n",
    "         and board[4]!= '4'\n",
    "         and board[5]!= '5'\n",
    "         and board[6]!= '6'\n",
    "         and board[7]!= '7'\n",
    "         and board[8]!= '8'\n",
    "         and board[9]!= '9'):\n",
    "        GameStatus = -1   \n",
    "        \n",
    "    else:            \n",
    "        GameStatus = 0 \n",
    "        \n",
    "    return GameStatus"
   ]
  },
  {
   "cell_type": "markdown",
   "metadata": {},
   "source": [
    "#### Game Engine\n",
    "* board is a list of 9 items numbered from 1 - 9\n",
    "* player is the counter of the game player1 is the even values player2 is the odd values\n",
    "* GameStatus use to know the run time status of the game (running , draw , win)\n",
    "* while GameStatus is running :\n",
    "    * the board appeared and as the players to input the position position number where you want to mark\n",
    "    * if they input nonnumeric values or numeric values that not between [0 - 9] ask them to enter valid input \n",
    "    * once Game Status is changed the game is ended and report who is the winner or ending the game with draw"
   ]
  },
  {
   "cell_type": "code",
   "execution_count": 5,
   "metadata": {
    "scrolled": true
   },
   "outputs": [
    {
     "name": "stdout",
     "output_type": "stream",
     "text": [
      "\n",
      "                               \u001b[30m\u001b[32mX | \u001b[30m\u001b[34mO | \u001b[30m\u001b[32mX \n",
      "                              \u001b[30m___|___|___\n",
      "                               \u001b[30m\u001b[34mO | \u001b[30m\u001b[34mO | \u001b[30m\u001b[32mX \n",
      "                              \u001b[30m___|___|___\n",
      "                               \u001b[30m\u001b[32mX | \u001b[30m\u001b[32mX | \u001b[30m\u001b[34mO \n",
      "\n",
      "                              \u001b[31mGame Draw\n"
     ]
    }
   ],
   "source": [
    "board = [' ','1','2','3','4','5','6','7','8','9']\n",
    "player , GameStatus , Mark = 0 , 0 , 'X'\n",
    "print(' '*30 + 'Welcome To TIC TAC TOE Game ')\n",
    "print('player1 [X] --- player2 [O]'.title())\n",
    "time.sleep(2)\n",
    "while GameStatus == 0:\n",
    "    clear_output()\n",
    "    DrawBoard(board)\n",
    "    if not player & 1:  \n",
    "        print(Fore.BLACK + \"Player 1's turn\".title())\n",
    "        Mark = Fore.GREEN + 'X'    \n",
    "    else:    \n",
    "        print(Fore.BLACK +\"Player 2's turn\".title())    \n",
    "        Mark = Fore.BLUE + 'O'    \n",
    "    try:\n",
    "        choice = int(input(Fore.BLACK +'Enter the position number where you want to mark : '.title()))\n",
    "        if choice > 0 and choice < 10 :\n",
    "            if CheckPosition(choice) :    \n",
    "                board[choice] = Mark\n",
    "                player += 1    \n",
    "                GameStatus = CheckWin(board,GameStatus)\n",
    "            else :\n",
    "                print(Fore.RED +'choose free position to play !! '.title())\n",
    "                time.sleep(3)\n",
    "        else :\n",
    "            print(Fore.RED +'wrong chioce !! input number from 1 - 9 as shown on the board'.title())\n",
    "            time.sleep(3)\n",
    "    except :\n",
    "        print(Fore.RED +'input numeric value !!'.title())\n",
    "        time.sleep(3)\n",
    "clear_output()\n",
    "DrawBoard(board) \n",
    "if GameStatus == -1 :    \n",
    "    print(' '*30 + Fore.RED +'game draw'.title())\n",
    "elif GameStatus == 1 :\n",
    "    print(' '*25 + Fore.RED +'player 1 is the winner'.title() if player & 1 else ' '*25 + Fore.RED +'player 2 is the winner'.title())"
   ]
  },
  {
   "cell_type": "code",
   "execution_count": null,
   "metadata": {},
   "outputs": [],
   "source": []
  }
 ],
 "metadata": {
  "kernelspec": {
   "display_name": "Python 3",
   "language": "python",
   "name": "python3"
  },
  "language_info": {
   "codemirror_mode": {
    "name": "ipython",
    "version": 3
   },
   "file_extension": ".py",
   "mimetype": "text/x-python",
   "name": "python",
   "nbconvert_exporter": "python",
   "pygments_lexer": "ipython3",
   "version": "3.7.6"
  }
 },
 "nbformat": 4,
 "nbformat_minor": 4
}
