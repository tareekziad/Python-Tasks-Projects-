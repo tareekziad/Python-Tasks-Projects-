{
 "cells": [
  {
   "cell_type": "code",
   "execution_count": 1,
   "metadata": {},
   "outputs": [],
   "source": [
    "def leter_num_special(s):\n",
    "    cn , cc , cs = 0,0,0\n",
    "    for i in s:\n",
    "        if ord(i) in range (ord('a') , ord('z')) :\n",
    "            cc += 1\n",
    "        elif ord(i) in range (48,48 + 9):\n",
    "            cn+=1\n",
    "        else :\n",
    "            cs+=1\n",
    "            \n",
    "    print(f'letters {cc}')\n",
    "    print(f'digits {cn}')\n",
    "    print(f'special {cs}')"
   ]
  },
  {
   "cell_type": "code",
   "execution_count": 2,
   "metadata": {},
   "outputs": [
    {
     "name": "stdout",
     "output_type": "stream",
     "text": [
      "letters 3\n",
      "digits 3\n",
      "special 1\n"
     ]
    }
   ],
   "source": [
    "leter_num_special('123#abc')"
   ]
  },
  {
   "cell_type": "code",
   "execution_count": 3,
   "metadata": {},
   "outputs": [],
   "source": [
    "def return_reverse (lst):\n",
    "    print([i[::-1] for i in lst])"
   ]
  },
  {
   "cell_type": "code",
   "execution_count": 4,
   "metadata": {},
   "outputs": [
    {
     "name": "stdout",
     "output_type": "stream",
     "text": [
      "['demahoM', 'leaW', 'amlaS', 'arimA', 'demhA']\n"
     ]
    }
   ],
   "source": [
    "lst = ['Mohamed' , 'Wael' , 'Salma' , 'Amira' , 'Ahmed']\n",
    "return_reverse(lst)"
   ]
  },
  {
   "cell_type": "code",
   "execution_count": 6,
   "metadata": {},
   "outputs": [],
   "source": [
    "def string_contain_string (a,b):\n",
    "    mp = {i : False for i in a}\n",
    "    for i in b:\n",
    "        if i in a:\n",
    "            mp[i] = True\n",
    "    flag = False \n",
    "    for i in mp.values():\n",
    "        if not i :\n",
    "            print ('False')\n",
    "            flag = True\n",
    "    if not flag :\n",
    "        print('True')"
   ]
  },
  {
   "cell_type": "code",
   "execution_count": 7,
   "metadata": {},
   "outputs": [
    {
     "name": "stdout",
     "output_type": "stream",
     "text": [
      "True\n"
     ]
    }
   ],
   "source": [
    "string_contain_string('abc','jjjjjjjakkkkcllllllb')"
   ]
  },
  {
   "cell_type": "code",
   "execution_count": 8,
   "metadata": {},
   "outputs": [
    {
     "name": "stdout",
     "output_type": "stream",
     "text": [
      "False\n"
     ]
    }
   ],
   "source": [
    "string_contain_string('abc','aaaaaaaaaaaaaabbbbbbbbbbbbb')"
   ]
  },
  {
   "cell_type": "code",
   "execution_count": 9,
   "metadata": {},
   "outputs": [
    {
     "name": "stdout",
     "output_type": "stream",
     "text": [
      "True\n"
     ]
    }
   ],
   "source": [
    "string_contain_string('abc','cba')"
   ]
  },
  {
   "cell_type": "markdown",
   "metadata": {},
   "source": [
    "# optional problem:"
   ]
  },
  {
   "cell_type": "markdown",
   "metadata": {},
   "source": [
    "# Get maxiumu City for each country  >> EGy : Damietta"
   ]
  },
  {
   "cell_type": "code",
   "execution_count": 11,
   "metadata": {},
   "outputs": [
    {
     "name": "stdout",
     "output_type": "stream",
     "text": [
      "Damietta\n",
      "California\n",
      "Manchester\n",
      "Lyon\n"
     ]
    }
   ],
   "source": [
    "countries = {'Egy' : {'Cairo' : 1200 , 'Luxor' : 198 , 'Giza' : 1987 , 'Damietta' : 19870},\n",
    "            'US' : {'new Yourk' : 15500 , 'Los Angeles' : 1650 , 'California' : 18062} , \n",
    "            'UK' : {'London' : 1800 ,  'Bristol' : 1890 , 'Manchester' : 19850} , \n",
    "            'france' : {'Paris' : 19820 , 'Marseille' : 1980 ,  'Lyon' : 19875 } \n",
    "            }\n",
    "maxone = ''\n",
    "max_val = -1\n",
    "lst_val = {}\n",
    "for i , j in countries.items():\n",
    "    for k , c in j.items():\n",
    "        if c > max_val:\n",
    "            max_val = c\n",
    "            maxone = k\n",
    "    print(maxone)\n",
    "    lst_val [maxone] = max_val\n",
    "    maxone = ''\n",
    "    max_val = -1"
   ]
  },
  {
   "cell_type": "code",
   "execution_count": 12,
   "metadata": {},
   "outputs": [
    {
     "name": "stdout",
     "output_type": "stream",
     "text": [
      "23255\n",
      "35212\n",
      "23540\n",
      "41675\n"
     ]
    }
   ],
   "source": [
    "for i , j in countries.items():\n",
    "    print(sum(j.values()))"
   ]
  },
  {
   "cell_type": "code",
   "execution_count": 13,
   "metadata": {},
   "outputs": [
    {
     "name": "stdout",
     "output_type": "stream",
     "text": [
      "19875\n"
     ]
    }
   ],
   "source": [
    "print (max(lst_val.values()))"
   ]
  },
  {
   "cell_type": "code",
   "execution_count": null,
   "metadata": {},
   "outputs": [],
   "source": []
  }
 ],
 "metadata": {
  "kernelspec": {
   "display_name": "Python 3",
   "language": "python",
   "name": "python3"
  },
  "language_info": {
   "codemirror_mode": {
    "name": "ipython",
    "version": 3
   },
   "file_extension": ".py",
   "mimetype": "text/x-python",
   "name": "python",
   "nbconvert_exporter": "python",
   "pygments_lexer": "ipython3",
   "version": "3.7.6"
  }
 },
 "nbformat": 4,
 "nbformat_minor": 4
}
