{
 "cells": [
  {
   "cell_type": "code",
   "execution_count": 6,
   "metadata": {},
   "outputs": [
    {
     "name": "stderr",
     "output_type": "stream",
     "text": [
      "<>:13: DeprecationWarning: invalid escape sequence \\s\n",
      "<>:13: DeprecationWarning: invalid escape sequence \\s\n",
      "<>:13: DeprecationWarning: invalid escape sequence \\s\n",
      "<ipython-input-6-89bc7cb45ca3>:13: DeprecationWarning: invalid escape sequence \\s\n",
      "  reg = '\\s*.youtube.\\s*'\n"
     ]
    },
    {
     "name": "stdout",
     "output_type": "stream",
     "text": [
      "Input Youtube Url : https://www.youtube.com/watch?v=PRXCbRzTeGA\n"
     ]
    },
    {
     "name": "stderr",
     "output_type": "stream",
     "text": [
      "C:\\Users\\tarek\\anaconda3\\lib\\site-packages\\ipykernel_launcher.py:23: DeprecationWarning: Call to deprecated function all (This object can be treated as a list, all() is useless).\n"
     ]
    },
    {
     "name": "stdout",
     "output_type": "stream",
     "text": [
      " recommended quality : 144, 360, 720\n",
      " input video quality : 720\n",
      " ↳ |██████████████████████████████████████████████████████████████████| 100.0%\r"
     ]
    },
    {
     "data": {
      "text/plain": [
       "'C:\\\\Users\\\\tarek\\\\Downloads\\\\Downloads\\\\Anne-Marie - 2002 (Glastonbury 2019).mp4'"
      ]
     },
     "execution_count": 6,
     "metadata": {},
     "output_type": "execute_result"
    }
   ],
   "source": [
    "import os\n",
    "import re\n",
    "from pytube.cli import on_progress\n",
    "from pytube import YouTube\n",
    "warnings.filterwarnings('ignore')\n",
    "url = input('input youtube url : '.title())\n",
    "reg = '\\s*.youtube.\\s*'\n",
    "checkurl = re.findall(reg , url)\n",
    "while len(checkurl) == 0:\n",
    "    print('input valid youtube url !'.title())\n",
    "    url = input('input youtube url : '.title())\n",
    "    checkurl = re.findall(reg , url)\n",
    "yt = YouTube(url, on_progress_callback=on_progress)\n",
    "def GetVedioQuality(yt):\n",
    "    quality_lst = list()\n",
    "    reg = r'res=\"\\w*\"'\n",
    "    VedioStreams = yt.streams.filter(progressive=True).all()\n",
    "    for i in VedioStreams:\n",
    "        res = re.findall(reg , str(i))\n",
    "        quality_lst.append(res[0].split('\"')[1][:-1])\n",
    "    return quality_lst\n",
    "quality_lst = GetVedioQuality(yt)\n",
    "print(f' recommended quality : {\", \".join(quality_lst)}')\n",
    "quality = input(f' input video quality : ')\n",
    "print('start downloading'.title())\n",
    "yt.streams.filter(res = quality+'p').first().download(output_path = 'Downloads')"
   ]
  },
  {
   "cell_type": "code",
   "execution_count": null,
   "metadata": {},
   "outputs": [],
   "source": []
  }
 ],
 "metadata": {
  "kernelspec": {
   "display_name": "Python 3",
   "language": "python",
   "name": "python3"
  },
  "language_info": {
   "codemirror_mode": {
    "name": "ipython",
    "version": 3
   },
   "file_extension": ".py",
   "mimetype": "text/x-python",
   "name": "python",
   "nbconvert_exporter": "python",
   "pygments_lexer": "ipython3",
   "version": "3.7.6"
  }
 },
 "nbformat": 4,
 "nbformat_minor": 4
}
