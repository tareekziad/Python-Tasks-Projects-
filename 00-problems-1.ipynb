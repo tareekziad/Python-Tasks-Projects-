{
 "cells": [
  {
   "cell_type": "markdown",
   "metadata": {},
   "source": [
    "## 2 Write a Python program to get the Python version you are using.\n",
    "\n"
   ]
  },
  {
   "cell_type": "code",
   "execution_count": 4,
   "metadata": {},
   "outputs": [
    {
     "name": "stdout",
     "output_type": "stream",
     "text": [
      "Python version\n",
      "3.7.6 (default, Jan  8 2020, 20:23:39) [MSC v.1916 64 bit (AMD64)]\n",
      "Version info.\n",
      "sys.version_info(major=3, minor=7, micro=6, releaselevel='final', serial=0)\n"
     ]
    }
   ],
   "source": [
    "import sys\n",
    "print(\"Python version\")\n",
    "print (sys.version)\n",
    "print(\"Version info.\")\n",
    "print (sys.version_info)"
   ]
  },
  {
   "cell_type": "markdown",
   "metadata": {},
   "source": [
    "## 3 Write a Python program to display the current date and time.\n",
    "\n"
   ]
  },
  {
   "cell_type": "code",
   "execution_count": 5,
   "metadata": {},
   "outputs": [
    {
     "name": "stdout",
     "output_type": "stream",
     "text": [
      "The current time is :\n",
      "2022-02-16 01:39:43.028070\n",
      "2022-02-16 01:39:43\n"
     ]
    }
   ],
   "source": [
    "import datetime\n",
    "now = datetime.datetime.now()\n",
    "print('The current time is :')\n",
    "print(now)\n",
    "print(now.strftime('%Y-%m-%d %H:%M:%S'))"
   ]
  },
  {
   "cell_type": "markdown",
   "metadata": {},
   "source": [
    "## 4 Write a Python program which accepts the radius of a circle from the user and compute the area.\n",
    "\n"
   ]
  },
  {
   "cell_type": "code",
   "execution_count": 6,
   "metadata": {},
   "outputs": [
    {
     "name": "stdout",
     "output_type": "stream",
     "text": [
      "enter the radius:12\n",
      "The area of the circle with radius 12.0 is 452.3893421169302\n"
     ]
    }
   ],
   "source": [
    "from math import pi\n",
    "r = float(input('enter the radius:'))\n",
    "print(\"The area of the circle with radius \" + str(r) + \" is \" + str(pi * pow(r,2)))"
   ]
  },
  {
   "cell_type": "markdown",
   "metadata": {},
   "source": [
    "## 5 Write a Python program which accepts the user's first and last name and print them in reverse order with a space between them.\n",
    "\n"
   ]
  },
  {
   "cell_type": "code",
   "execution_count": 7,
   "metadata": {},
   "outputs": [
    {
     "name": "stdout",
     "output_type": "stream",
     "text": [
      "enter your first name :f\n",
      "enter your second name :s\n",
      "s f\n"
     ]
    }
   ],
   "source": [
    "fname = input('enter your first name :')\n",
    "sname = input('enter your second name :')\n",
    "print(f'{sname } {fname}')"
   ]
  },
  {
   "cell_type": "code",
   "execution_count": 8,
   "metadata": {},
   "outputs": [
    {
     "name": "stdout",
     "output_type": "stream",
     "text": [
      "enter your first namef\n",
      "enter your last names\n",
      "s f\n"
     ]
    }
   ],
   "source": [
    "print(\"{1} {0}\".format(input(\"enter your first name\"),input(\"enter your last name\")))"
   ]
  },
  {
   "cell_type": "markdown",
   "metadata": {},
   "source": [
    "## 6 Write a Python program which accepts a sequence of comma-separated numbers from user and generate a list and a tuple with those numbers.\n",
    "\n"
   ]
  },
  {
   "cell_type": "code",
   "execution_count": 9,
   "metadata": {},
   "outputs": [
    {
     "name": "stdout",
     "output_type": "stream",
     "text": [
      "enter different numbers :1,2,3\n",
      "list :  ['1', '2', '3']\n",
      "tuple :  ('1', '2', '3')\n"
     ]
    }
   ],
   "source": [
    "values = input('enter different numbers :')\n",
    "lst = values.split(',')\n",
    "tup = tuple(lst)\n",
    "print('list : ' ,lst)\n",
    "print('tuple : ',tup)\n"
   ]
  },
  {
   "cell_type": "code",
   "execution_count": 10,
   "metadata": {},
   "outputs": [
    {
     "name": "stdout",
     "output_type": "stream",
     "text": [
      "Enter numbers separated by commas:1,2,3\n",
      "List: ['1', '2', '3']\n",
      "Tuple: ('1', '2', '3')\n"
     ]
    }
   ],
   "source": [
    "seq = input(\"Enter numbers separated by commas:\").split(\",\")\n",
    "print(\"List: {}\\nTuple: {}\".format(seq,tuple(seq)))"
   ]
  },
  {
   "cell_type": "markdown",
   "metadata": {},
   "source": [
    "## 7 Write a Python program to accept a filename from the user and print the extension of that.\n",
    "\n"
   ]
  },
  {
   "cell_type": "code",
   "execution_count": 11,
   "metadata": {},
   "outputs": [
    {
     "name": "stdout",
     "output_type": "stream",
     "text": [
      "text.txt\n",
      "txt\n"
     ]
    }
   ],
   "source": [
    "fn=(input(\"\")).split(\".\")\n",
    "print(fn[-1])"
   ]
  },
  {
   "cell_type": "markdown",
   "metadata": {},
   "source": [
    "## here is a question about %s"
   ]
  },
  {
   "cell_type": "code",
   "execution_count": 17,
   "metadata": {},
   "outputs": [
    {
     "name": "stdout",
     "output_type": "stream",
     "text": [
      "who are you? fati\n",
      "hello fati \n"
     ]
    }
   ],
   "source": [
    "name = input(\"who are you? \")\n",
    "print(\"hello %s \" %(name,))"
   ]
  },
  {
   "cell_type": "markdown",
   "metadata": {},
   "source": [
    "## 8 Write a Python program to display the first and last colors from the following list.\n",
    "\n"
   ]
  },
  {
   "cell_type": "code",
   "execution_count": 18,
   "metadata": {
    "scrolled": true
   },
   "outputs": [
    {
     "name": "stdout",
     "output_type": "stream",
     "text": [
      " Red Black\n"
     ]
    }
   ],
   "source": [
    "color_list = [\"Red\",\"Green\",\"White\" ,\"Black\"]\n",
    "print(\" %s %s\" %(color_list[0],color_list[-1]))"
   ]
  },
  {
   "cell_type": "code",
   "execution_count": 20,
   "metadata": {},
   "outputs": [
    {
     "name": "stdout",
     "output_type": "stream",
     "text": [
      "Red\n",
      "Black\n"
     ]
    }
   ],
   "source": [
    "colour_list =[\"Red\" , \"Green\" , \"White\" , \"Black\"]\n",
    "print(colour_list[0])\n",
    "print(colour_list[-1])"
   ]
  },
  {
   "cell_type": "markdown",
   "metadata": {},
   "source": [
    "## 9 Write a Python program to display the examination schedule. (extract the date from exam_st_date).\n",
    "\n"
   ]
  },
  {
   "cell_type": "code",
   "execution_count": 23,
   "metadata": {},
   "outputs": [
    {
     "name": "stdout",
     "output_type": "stream",
     "text": [
      "the excamination will strat from : 11/12/2014\n"
     ]
    }
   ],
   "source": [
    "exam_st_date = (11,12,2014)\n",
    "print('the excamination will strat from : %i/%i/%i'%exam_st_date)\n"
   ]
  },
  {
   "cell_type": "markdown",
   "metadata": {},
   "source": [
    "## 10 Write a Python program that accepts an integer (n) and computes the value of n+nn+nnn.\n",
    "\n"
   ]
  },
  {
   "cell_type": "code",
   "execution_count": 25,
   "metadata": {},
   "outputs": [
    {
     "name": "stdout",
     "output_type": "stream",
     "text": [
      "enter anum :3\n",
      "3 33 333\n"
     ]
    }
   ],
   "source": [
    "a = int(input('enter anum :'))\n",
    "n1 = int('%s' % a)\n",
    "n2 = int('%s%s' % (a,a))\n",
    "n3 = int('%s%s%s' % (a,a,a))\n",
    "print(n1,n2,n3)"
   ]
  },
  {
   "cell_type": "code",
   "execution_count": 26,
   "metadata": {
    "scrolled": true
   },
   "outputs": [
    {
     "name": "stdout",
     "output_type": "stream",
     "text": [
      "enter a value of n :3\n",
      "369\n"
     ]
    }
   ],
   "source": [
    "n=int((input('enter a value of n :')))\n",
    "n1=n*10+n\n",
    "n2=n*100+n1\n",
    "print(n+n1+n2)"
   ]
  },
  {
   "cell_type": "code",
   "execution_count": 27,
   "metadata": {},
   "outputs": [
    {
     "name": "stdout",
     "output_type": "stream",
     "text": [
      "Input an integer :3\n",
      "369\n"
     ]
    }
   ],
   "source": [
    "# perfect\n",
    "n1 = input(\"Input an integer :\")\n",
    "x = int(n1) * 123\n",
    "print(x)"
   ]
  },
  {
   "cell_type": "markdown",
   "metadata": {},
   "source": [
    "## 11 Write a Python program to print the documents (syntax, description etc.) of Python built-in function(s).\n",
    "\n"
   ]
  },
  {
   "cell_type": "code",
   "execution_count": 28,
   "metadata": {
    "scrolled": true
   },
   "outputs": [
    {
     "name": "stdout",
     "output_type": "stream",
     "text": [
      "Return the absolute value of the argument.\n"
     ]
    }
   ],
   "source": [
    "print(abs.__doc__)"
   ]
  },
  {
   "cell_type": "markdown",
   "metadata": {},
   "source": [
    "## 12 Write a Python program to print the calendar of a given month and year.\n",
    "\n"
   ]
  },
  {
   "cell_type": "code",
   "execution_count": 29,
   "metadata": {},
   "outputs": [
    {
     "name": "stdout",
     "output_type": "stream",
     "text": [
      "enter the year :1998\n",
      "enter the month :4\n",
      "     April 1998\n",
      "Mo Tu We Th Fr Sa Su\n",
      "       1  2  3  4  5\n",
      " 6  7  8  9 10 11 12\n",
      "13 14 15 16 17 18 19\n",
      "20 21 22 23 24 25 26\n",
      "27 28 29 30\n",
      "\n"
     ]
    }
   ],
   "source": [
    "import calendar\n",
    "y=int(input('enter the year :'))\n",
    "m=int(input('enter the month :'))\n",
    "print(calendar.month(y,m))"
   ]
  },
  {
   "cell_type": "code",
   "execution_count": 30,
   "metadata": {},
   "outputs": [
    {
     "name": "stdout",
     "output_type": "stream",
     "text": [
      "    August 2020\n",
      "Mo Tu We Th Fr Sa Su\n",
      "                1  2\n",
      " 3  4  5  6  7  8  9\n",
      "10 11 12 13 14 15 16\n",
      "17 18 19 20 21 22 23\n",
      "24 25 26 27 28 29 30\n",
      "31\n",
      "\n"
     ]
    }
   ],
   "source": [
    "print(calendar.month(2020,8))"
   ]
  },
  {
   "cell_type": "code",
   "execution_count": 32,
   "metadata": {},
   "outputs": [
    {
     "name": "stdout",
     "output_type": "stream",
     "text": [
      " Sample string:\n",
      " astring that you 'don't have to escape \n",
      " This \n",
      " is a ....... multi-line\n",
      " herdoc string-----------> example\n"
     ]
    }
   ],
   "source": [
    "'''\n",
    "Write a Python program to print the following 'here document'.\n",
    "\n",
    "Sample string:\n",
    "a string that you \"don't\" have to escape\n",
    "This\n",
    "is a ....... multi-line\n",
    "heredoc string --------> example\n",
    "'''\n",
    "print(\" Sample string:\\n astring that you 'don't have to escape \\n This \\n is a ....... multi-line\\n herdoc string-----------> example\")"
   ]
  },
  {
   "cell_type": "code",
   "execution_count": 33,
   "metadata": {},
   "outputs": [
    {
     "name": "stdout",
     "output_type": "stream",
     "text": [
      "\n",
      "astring that you \"don't\" have to escape\n",
      "this\n",
      "is a .......... multi-line\n",
      "herdoc string-------> example\n"
     ]
    }
   ],
   "source": [
    "print(\"\"\"\n",
    "astring that you \"don't\" have to escape\n",
    "this\n",
    "is a .......... multi-line\n",
    "herdoc string-------> example\"\"\")"
   ]
  },
  {
   "cell_type": "markdown",
   "metadata": {},
   "source": [
    "## 14 Write a Python program to calculate number of days between two dates.\n",
    "\n"
   ]
  },
  {
   "cell_type": "code",
   "execution_count": 35,
   "metadata": {},
   "outputs": [
    {
     "name": "stdout",
     "output_type": "stream",
     "text": [
      "2020-03-22 2020-07-19\n",
      "119\n"
     ]
    }
   ],
   "source": [
    "from datetime import date\n",
    "first_date=date(2020,3,22)\n",
    "print(first_date , second_date)\n",
    "second_date=date(2020,7,19)\n",
    "delta = second_date-first_date\n",
    "print(delta.days)"
   ]
  },
  {
   "cell_type": "markdown",
   "metadata": {},
   "source": [
    "## 15 Write a Python program to get the the volume of a sphere with radius 6.\n",
    "\n"
   ]
  },
  {
   "cell_type": "code",
   "execution_count": 36,
   "metadata": {},
   "outputs": [
    {
     "name": "stdout",
     "output_type": "stream",
     "text": [
      "the volume is : 904.3199999999999\n"
     ]
    }
   ],
   "source": [
    "pi=3.14\n",
    "r=6\n",
    "v=4/3*pi*r**3\n",
    "print('the volume is :', v)"
   ]
  },
  {
   "cell_type": "markdown",
   "metadata": {},
   "source": [
    "## 16 Write a Python program to get the difference between a given number and 17, if the number is greater than 17 return double the absolute difference.\n"
   ]
  },
  {
   "cell_type": "code",
   "execution_count": 40,
   "metadata": {},
   "outputs": [
    {
     "data": {
      "text/plain": [
       "2"
      ]
     },
     "execution_count": 40,
     "metadata": {},
     "output_type": "execute_result"
    }
   ],
   "source": [
    "def diffrence(n):\n",
    "    if n <= 17:\n",
    "        return 17-n\n",
    "    else:\n",
    "        return (n-17)*2\n",
    "diffrence(18)"
   ]
  },
  {
   "cell_type": "markdown",
   "metadata": {},
   "source": [
    "\n",
    "## 17 Write a Python program to test whether a number is within 100 of 1000 or 2000.\n",
    "\n"
   ]
  },
  {
   "cell_type": "code",
   "execution_count": 41,
   "metadata": {},
   "outputs": [
    {
     "data": {
      "text/plain": [
       "False"
      ]
     },
     "execution_count": 41,
     "metadata": {},
     "output_type": "execute_result"
    }
   ],
   "source": [
    "def difference(n):\n",
    "    return abs(1000-n) <= 100 or abs(2000-n) <=100\n",
    "difference(6)"
   ]
  },
  {
   "cell_type": "code",
   "execution_count": 42,
   "metadata": {},
   "outputs": [
    {
     "name": "stdout",
     "output_type": "stream",
     "text": [
      "Enter a number: 6\n",
      "False\n"
     ]
    }
   ],
   "source": [
    "x=int(input(\"Enter a number: \"))\n",
    "if x in range(900,1001) or x in range(1900,2001):\n",
    "    print(\"True\")\n",
    "else:\n",
    "    print(\"False\")"
   ]
  },
  {
   "cell_type": "markdown",
   "metadata": {},
   "source": [
    "## 18 Write a Python program to calculate the sum of three given numbers, if the values are equal then return thrice of their sum.\n",
    "\n"
   ]
  },
  {
   "cell_type": "code",
   "execution_count": 43,
   "metadata": {},
   "outputs": [
    {
     "data": {
      "text/plain": [
       "54"
      ]
     },
     "execution_count": 43,
     "metadata": {},
     "output_type": "execute_result"
    }
   ],
   "source": [
    "def summ(n1,n2,n3):\n",
    "    if n1 == n2 ==n3:\n",
    "        return (n1+n2+n3)*3\n",
    "    else:\n",
    "        return n1+n2+n3\n",
    "summ(6,6,6)"
   ]
  },
  {
   "cell_type": "markdown",
   "metadata": {},
   "source": [
    "## 19 Write a Python program to get a new string from a given string where \"Is\" has been added to the front. If the given string already begins with \"Is\" then return the string unchanged. Go to the editor\n",
    "\n",
    "\n"
   ]
  },
  {
   "cell_type": "code",
   "execution_count": 44,
   "metadata": {},
   "outputs": [
    {
     "data": {
      "text/plain": [
       "'isarray'"
      ]
     },
     "execution_count": 44,
     "metadata": {},
     "output_type": "execute_result"
    }
   ],
   "source": [
    "def word(str):\n",
    "    if str[:2] == 'is':\n",
    "        return str\n",
    "    else:\n",
    "        return 'is'+str\n",
    "word('array')"
   ]
  },
  {
   "cell_type": "code",
   "execution_count": 46,
   "metadata": {},
   "outputs": [
    {
     "data": {
      "text/plain": [
       "'Isarray'"
      ]
     },
     "execution_count": 46,
     "metadata": {},
     "output_type": "execute_result"
    }
   ],
   "source": [
    "def NewString(str):\n",
    "    if len(str) >= 2 and str[0:2]=='Is':\n",
    "        return str\n",
    "    return 'is'+str\n",
    "NewString('Isarray')"
   ]
  },
  {
   "cell_type": "markdown",
   "metadata": {},
   "source": [
    "## 20 Write a Python program to get a string which is n (non-negative integer) copies of a given string.\n",
    "\n"
   ]
  },
  {
   "cell_type": "code",
   "execution_count": 47,
   "metadata": {},
   "outputs": [
    {
     "data": {
      "text/plain": [
       "'bola bola bola bola '"
      ]
     },
     "execution_count": 47,
     "metadata": {},
     "output_type": "execute_result"
    }
   ],
   "source": [
    "def largerString(s, n):\n",
    "    result=\"\"\n",
    "    for i in range(n):\n",
    "        result = result + s\n",
    "    return result\n",
    "largerString('bola ', 4)"
   ]
  },
  {
   "cell_type": "markdown",
   "metadata": {},
   "source": [
    "## 21 Write a Python program to find whether a given number (accept from the user) is even or odd, print out an appropriate message to the user.\n",
    "\n"
   ]
  },
  {
   "cell_type": "code",
   "execution_count": 48,
   "metadata": {},
   "outputs": [
    {
     "name": "stdout",
     "output_type": "stream",
     "text": [
      "enter a number :8\n",
      "the number you entered is an even number\n"
     ]
    }
   ],
   "source": [
    "num = int(input('enter a number :'))\n",
    "if num % 2 == 0:\n",
    "    print('the number you entered is an even number')\n",
    "else:\n",
    "    print('the number you entered is an odd number')"
   ]
  },
  {
   "cell_type": "code",
   "execution_count": 50,
   "metadata": {},
   "outputs": [
    {
     "data": {
      "text/plain": [
       "2"
      ]
     },
     "execution_count": 50,
     "metadata": {},
     "output_type": "execute_result"
    }
   ],
   "source": [
    "def count_num_4(*args)-> int:\n",
    "    lists = [i for i in args]\n",
    "    return lists.count(4)\n",
    "count_num_4(3,4,7,4,2,7)"
   ]
  },
  {
   "cell_type": "code",
   "execution_count": 52,
   "metadata": {},
   "outputs": [
    {
     "data": {
      "text/plain": [
       "3"
      ]
     },
     "execution_count": 52,
     "metadata": {},
     "output_type": "execute_result"
    }
   ],
   "source": [
    "def count_num_4(nums)-> int:\n",
    "    count=0\n",
    "    for i in nums:\n",
    "        if i==4:\n",
    "            count=count+1\n",
    "    return count\n",
    "count_num_4([4,3,6,8,7,9,4,8,4])"
   ]
  },
  {
   "cell_type": "markdown",
   "metadata": {},
   "source": [
    "## 23 Write a Python program to get the n (non-negative integer) copies of the first 2 characters of a given string. Return the n copies of the whole string if the length is less than 2.\n",
    "\n"
   ]
  },
  {
   "cell_type": "code",
   "execution_count": 53,
   "metadata": {},
   "outputs": [
    {
     "name": "stdout",
     "output_type": "stream",
     "text": [
      "abab\n",
      "ppp\n",
      "mu\n"
     ]
    }
   ],
   "source": [
    "def substring_copy(str, n):\n",
    "    flen = 2\n",
    "    if flen > len(str):\n",
    "        flen = len(str)\n",
    "    substr = str[:flen]\n",
    "  \n",
    "    result = \"\"\n",
    "    for i in range(n):\n",
    "        result = result + substr\n",
    "    return result\n",
    "print(substring_copy('abcdef', 2))\n",
    "print(substring_copy('p', 3));\n",
    "print(substring_copy('muythgrdf', 1));\n"
   ]
  },
  {
   "cell_type": "code",
   "execution_count": 54,
   "metadata": {},
   "outputs": [
    {
     "name": "stdout",
     "output_type": "stream",
     "text": [
      "Enter text:wewe\n",
      "Enter copy:3\n",
      "wewewe\n"
     ]
    }
   ],
   "source": [
    "#perfect\n",
    "word = input(\"Enter text:\")\n",
    "copys = int(input(\"Enter copy:\"))\n",
    "print(word[0:2]*copys)"
   ]
  },
  {
   "cell_type": "markdown",
   "metadata": {},
   "source": [
    "## 24 Write a Python program to test whether a passed letter is a vowel or not.\n",
    "\n"
   ]
  },
  {
   "cell_type": "code",
   "execution_count": 55,
   "metadata": {},
   "outputs": [
    {
     "data": {
      "text/plain": [
       "False"
      ]
     },
     "execution_count": 55,
     "metadata": {},
     "output_type": "execute_result"
    }
   ],
   "source": [
    "def is_vowel(char):\n",
    "    all_vowel='aeiou'\n",
    "    return char in all_vowel\n",
    "is_vowel('l')"
   ]
  },
  {
   "cell_type": "markdown",
   "metadata": {},
   "source": [
    "## 25 Write a Python program to check whether a specified value is contained in a group of values.\n",
    "\n"
   ]
  },
  {
   "cell_type": "code",
   "execution_count": 56,
   "metadata": {},
   "outputs": [
    {
     "name": "stdout",
     "output_type": "stream",
     "text": [
      "3\n"
     ]
    },
    {
     "data": {
      "text/plain": [
       "True"
      ]
     },
     "execution_count": 56,
     "metadata": {},
     "output_type": "execute_result"
    }
   ],
   "source": [
    "def values(*args):\n",
    "    lists=[i for i in args]\n",
    "    n=int(input())\n",
    "    return n in lists\n",
    "values(2,3,4,5,6,7)\n"
   ]
  },
  {
   "cell_type": "code",
   "execution_count": 57,
   "metadata": {},
   "outputs": [
    {
     "data": {
      "text/plain": [
       "True"
      ]
     },
     "execution_count": 57,
     "metadata": {},
     "output_type": "execute_result"
    }
   ],
   "source": [
    "def find_value(values, value):\n",
    "    if value in values:\n",
    "        return True\n",
    "    else:\n",
    "        return False\n",
    "find_value([2,3,4,5,6,7,8,9],4)"
   ]
  },
  {
   "cell_type": "code",
   "execution_count": 58,
   "metadata": {},
   "outputs": [
    {
     "name": "stdout",
     "output_type": "stream",
     "text": [
      "enter a num :5\n"
     ]
    },
    {
     "data": {
      "text/plain": [
       "True"
      ]
     },
     "execution_count": 58,
     "metadata": {},
     "output_type": "execute_result"
    }
   ],
   "source": [
    "def values(nums):\n",
    "    num=int(input('enter a num :'))\n",
    "    return num in nums\n",
    "values([4,5,2,4,6])"
   ]
  },
  {
   "cell_type": "code",
   "execution_count": 59,
   "metadata": {},
   "outputs": [
    {
     "data": {
      "text/plain": [
       "True"
      ]
     },
     "execution_count": 59,
     "metadata": {},
     "output_type": "execute_result"
    }
   ],
   "source": [
    "def values(groupOfValues,n):\n",
    "    for i in groupOfValues:\n",
    "        if n ==i:\n",
    "            return True\n",
    "    return False\n",
    "values([2,4,5,6,7,8,9,0],4)"
   ]
  },
  {
   "cell_type": "code",
   "execution_count": 60,
   "metadata": {},
   "outputs": [
    {
     "name": "stdout",
     "output_type": "stream",
     "text": [
      "True\n",
      "False\n"
     ]
    }
   ],
   "source": [
    "def is_group_member(group_data, n):\n",
    "    for value in group_data:\n",
    "        if n == value:\n",
    "            return True\n",
    "    return False\n",
    "print(is_group_member([1, 5, 8, 3], 3))\n",
    "print(is_group_member([5, 8, 3], -1))\n"
   ]
  },
  {
   "cell_type": "markdown",
   "metadata": {},
   "source": [
    "## 26 Write a Python program to create a histogram from a given list of integers.\n",
    "\n",
    "\n"
   ]
  },
  {
   "cell_type": "code",
   "execution_count": 61,
   "metadata": {},
   "outputs": [
    {
     "name": "stdout",
     "output_type": "stream",
     "text": [
      "@@\n",
      "@@@\n",
      "@@@@@@\n",
      "@@@@@\n"
     ]
    }
   ],
   "source": [
    "def histogram(*args):\n",
    "    n=[o for o in args]\n",
    "    for i in n:\n",
    "        for m in range(i):\n",
    "            print('@',end=\"\")\n",
    "        print()\n",
    "histogram(2,3,6,5)"
   ]
  },
  {
   "cell_type": "code",
   "execution_count": 62,
   "metadata": {},
   "outputs": [
    {
     "name": "stdout",
     "output_type": "stream",
     "text": [
      "*\n",
      "**\n",
      "***\n",
      "****\n",
      "*****\n",
      "******\n",
      "*******\n",
      "********\n",
      "*********\n"
     ]
    }
   ],
   "source": [
    "lst=[1,2,3,4,5,6,7,8,9]\n",
    "for i in lst:\n",
    "    for m in range(i):\n",
    "        print('*',end='')\n",
    "    print()"
   ]
  },
  {
   "cell_type": "code",
   "execution_count": 63,
   "metadata": {},
   "outputs": [
    {
     "name": "stdout",
     "output_type": "stream",
     "text": [
      "**\n",
      "***\n",
      "******\n",
      "*****\n"
     ]
    }
   ],
   "source": [
    "def histogram( items ):\n",
    "    for n in items:\n",
    "        output = ''\n",
    "        times = n\n",
    "        while( times > 0 ):\n",
    "            output += '*'\n",
    "            times = times - 1\n",
    "        print(output)\n",
    "\n",
    "histogram([2, 3, 6, 5])\n"
   ]
  },
  {
   "cell_type": "code",
   "execution_count": 64,
   "metadata": {},
   "outputs": [
    {
     "data": {
      "text/plain": [
       "27"
      ]
     },
     "execution_count": 64,
     "metadata": {},
     "output_type": "execute_result"
    }
   ],
   "source": [
    "def concat(*args):\n",
    "    for n in args:\n",
    "        return sum(args)\n",
    "concat(2,3,4,5,6,7)"
   ]
  },
  {
   "cell_type": "markdown",
   "metadata": {},
   "source": [
    "## 27 Write a Python program to concatenate all elements in a list into a string and return it.\n"
   ]
  },
  {
   "cell_type": "code",
   "execution_count": 65,
   "metadata": {},
   "outputs": [
    {
     "name": "stdout",
     "output_type": "stream",
     "text": [
      "234567\n"
     ]
    }
   ],
   "source": [
    "def concat(list):\n",
    "    result=''\n",
    "    for element in list:\n",
    "        result += str(element)\n",
    "    return result\n",
    "print(concat([2,3,4,5,6,7]))"
   ]
  },
  {
   "cell_type": "code",
   "execution_count": 66,
   "metadata": {},
   "outputs": [
    {
     "name": "stdout",
     "output_type": "stream",
     "text": [
      "15142\n"
     ]
    }
   ],
   "source": [
    "def concatenate_list_data(list):\n",
    "    result= ''\n",
    "    for element in list:\n",
    "        result += str(element)\n",
    "    return result\n",
    "\n",
    "print(concatenate_list_data([1, 5, 14, 2]))\n"
   ]
  },
  {
   "cell_type": "code",
   "execution_count": 69,
   "metadata": {},
   "outputs": [
    {
     "name": "stdout",
     "output_type": "stream",
     "text": [
      "23334\n"
     ]
    }
   ],
   "source": [
    "li=[2,3,3,34]\n",
    "st=\"\".join(str(i) for i in li )\n",
    "print(st)"
   ]
  },
  {
   "cell_type": "markdown",
   "metadata": {},
   "source": [
    "## 29 Write a Python program to print out all even numbers from a given numbers list in the same order and stop the printing if any numbers that come after 237 in the sequence."
   ]
  },
  {
   "cell_type": "code",
   "execution_count": 71,
   "metadata": {},
   "outputs": [
    {
     "name": "stdout",
     "output_type": "stream",
     "text": [
      "386\n",
      "462\n",
      "418\n",
      "344\n",
      "236\n",
      "566\n",
      "978\n",
      "328\n",
      "162\n",
      "758\n",
      "918\n",
      "237\n"
     ]
    }
   ],
   "source": [
    "numbers = [    \n",
    "    386, 462, 47, 418, 907, 344, 236, 375, 823, 566, 597, 978, 328, 615, 953, 345, \n",
    "    399, 162, 758, 219, 918, 237, 412, 566, 826, 248, 866, 950, 626, 949, 687, 217, \n",
    "    815, 67, 104, 58, 512, 24, 892, 894, 767, 553, 81, 379, 843, 831, 445, 742, 717, \n",
    "    958,743, 527\n",
    "    ]\n",
    "\n",
    "for x in numbers:\n",
    "    if x == 237:\n",
    "        print(x)\n",
    "        break\n",
    "    elif x % 2 == 0:\n",
    "        print(x)\n",
    "\t\t"
   ]
  },
  {
   "cell_type": "code",
   "execution_count": 72,
   "metadata": {},
   "outputs": [
    {
     "name": "stdout",
     "output_type": "stream",
     "text": [
      "386\n",
      "462\n",
      "418\n",
      "344\n",
      "236\n",
      "566\n",
      "978\n",
      "328\n",
      "162\n",
      "758\n",
      "918\n",
      "237\n"
     ]
    }
   ],
   "source": [
    "numbers = [    \n",
    "    386, 462, 47, 418, 907, 344, 236, 375, 823, 566, 597, 978, 328, 615, 953, 345, \n",
    "    399, 162, 758, 219, 918, 237, 412, 566, 826, 248, 866, 950, 626, 949, 687, 217, \n",
    "    815, 67, 104, 58, 512, 24, 892, 894, 767, 553, 81, 379, 843, 831, 445, 742, 717, \n",
    "    958,743, 527\n",
    "    ]\n",
    "for num in numbers:\n",
    "    if num == 237:\n",
    "        print (237)\n",
    "        break\n",
    "    elif num%2==0:\n",
    "        print(num)"
   ]
  },
  {
   "cell_type": "markdown",
   "metadata": {},
   "source": [
    "## 29 Write a Python program to print out a set containing all the colors from color_list_1 which are not present in color_list_2.\n",
    "\n"
   ]
  },
  {
   "cell_type": "code",
   "execution_count": 73,
   "metadata": {},
   "outputs": [
    {
     "name": "stdout",
     "output_type": "stream",
     "text": [
      "red\n",
      "green\n",
      "white\n"
     ]
    }
   ],
   "source": [
    "def color(lst1,lst2):\n",
    "    for i in lst1:\n",
    "        if i not in lst2:\n",
    "            print(i)\n",
    "color(['red','blue','green','white'],['black','yellow','gray','blue'])"
   ]
  },
  {
   "cell_type": "code",
   "execution_count": 74,
   "metadata": {},
   "outputs": [
    {
     "name": "stdout",
     "output_type": "stream",
     "text": [
      "{'black', 'blue'}\n"
     ]
    }
   ],
   "source": [
    "color_lst1=set(['black','white','blue'])\n",
    "color_lst2=set(['red','green','blck','white'])\n",
    "print(color_lst1.difference(color_lst2))"
   ]
  },
  {
   "cell_type": "markdown",
   "metadata": {},
   "source": [
    "## 30 Write a Python program that will accept the base and height of a triangle and compute the area.\n",
    "\n"
   ]
  },
  {
   "cell_type": "code",
   "execution_count": 75,
   "metadata": {},
   "outputs": [
    {
     "name": "stdout",
     "output_type": "stream",
     "text": [
      "area is 20.0\n"
     ]
    }
   ],
   "source": [
    "def triangle(base,height):\n",
    "    print('area is',(base*height)/2)\n",
    "triangle(8,5)"
   ]
  },
  {
   "cell_type": "markdown",
   "metadata": {},
   "source": [
    "## 31 Write a Python program to compute the greatest common divisor (GCD) of two positive integers.\n",
    "\n"
   ]
  },
  {
   "cell_type": "code",
   "execution_count": 76,
   "metadata": {},
   "outputs": [
    {
     "name": "stdout",
     "output_type": "stream",
     "text": [
      "1\n",
      "6\n"
     ]
    }
   ],
   "source": [
    "def gcd(x, y):\n",
    "    gcd = 1\n",
    "    \n",
    "    if x % y == 0:\n",
    "        return y\n",
    "    \n",
    "    for k in range(int(y / 2), 0, -1):\n",
    "        if x % k == 0 and y % k == 0:\n",
    "            gcd = k\n",
    "            break  \n",
    "    return gcd\n",
    "\n",
    "print(gcd(12, 17))\n",
    "print(gcd(12, 6))\n"
   ]
  },
  {
   "cell_type": "code",
   "execution_count": 77,
   "metadata": {},
   "outputs": [
    {
     "data": {
      "text/plain": [
       "6"
      ]
     },
     "execution_count": 77,
     "metadata": {},
     "output_type": "execute_result"
    }
   ],
   "source": [
    "from math import gcd\n",
    "def GCD(*num):\n",
    "    return gcd(*num)\n",
    "GCD(12,6)"
   ]
  },
  {
   "cell_type": "code",
   "execution_count": 78,
   "metadata": {},
   "outputs": [
    {
     "data": {
      "text/plain": [
       "3"
      ]
     },
     "execution_count": 78,
     "metadata": {},
     "output_type": "execute_result"
    }
   ],
   "source": [
    "def gcd(a,b):\n",
    "    for i in range(1,max(a,b)+1):\n",
    "        if (a%i==0) and (b%i==0):\n",
    "            m = i\n",
    "    return m\n",
    "gcd(12,15)"
   ]
  },
  {
   "cell_type": "code",
   "execution_count": 79,
   "metadata": {},
   "outputs": [
    {
     "data": {
      "text/plain": [
       "3"
      ]
     },
     "execution_count": 79,
     "metadata": {},
     "output_type": "execute_result"
    }
   ],
   "source": [
    "def gcd(a,b):\n",
    "    for i in range(1,max(a,b)+1):\n",
    "        if a%i==0 and b%i==0:\n",
    "            m=i\n",
    "    return m\n",
    "gcd(12,15)"
   ]
  },
  {
   "cell_type": "markdown",
   "metadata": {},
   "source": [
    "## 32 Write a Python program to get the least common multiple (LCM) of two positive integers.\n",
    "\n"
   ]
  },
  {
   "cell_type": "code",
   "execution_count": 80,
   "metadata": {},
   "outputs": [
    {
     "data": {
      "text/plain": [
       "195"
      ]
     },
     "execution_count": 80,
     "metadata": {},
     "output_type": "execute_result"
    }
   ],
   "source": [
    "def lcm(x, y):\n",
    "    if x > y:\n",
    "        z = x\n",
    "    else:\n",
    "        z = y\n",
    "\n",
    "    while True:\n",
    "        if (z % x == 0) and (z % y == 0):\n",
    "            lcm = z\n",
    "            break\n",
    "        z += 1\n",
    "\n",
    "    return lcm\n",
    "lcm(15, 13)\n"
   ]
  },
  {
   "cell_type": "code",
   "execution_count": 82,
   "metadata": {},
   "outputs": [
    {
     "name": "stdout",
     "output_type": "stream",
     "text": [
      "lcm of two numbers: 195\n"
     ]
    }
   ],
   "source": [
    "def lcm(a,b):\n",
    "    for i in range(1,a*b+1):\n",
    "        if i%a == 0 and i%b == 0 :\n",
    "            break\n",
    "    print(\"lcm of two numbers:\",i)\n",
    "lcm(15,13)"
   ]
  },
  {
   "cell_type": "markdown",
   "metadata": {},
   "source": [
    "##  33 Write a Python program to sum of three given integers. However, if two values are equal sum will be zero.\n",
    "\n"
   ]
  },
  {
   "cell_type": "code",
   "execution_count": 83,
   "metadata": {},
   "outputs": [
    {
     "data": {
      "text/plain": [
       "0"
      ]
     },
     "execution_count": 83,
     "metadata": {},
     "output_type": "execute_result"
    }
   ],
   "source": [
    "def sum(x,y,z):\n",
    "    if x==y or x==z or y==z:\n",
    "        sum =0\n",
    "    else:\n",
    "        sum = x+y+z\n",
    "    return sum\n",
    "sum(2,4,2)"
   ]
  },
  {
   "cell_type": "markdown",
   "metadata": {},
   "source": [
    "## 34 Write a Python program to sum of two given integers. However, if the sum is between 15 to 20 it will return 20.\n",
    "\n"
   ]
  },
  {
   "cell_type": "code",
   "execution_count": 84,
   "metadata": {},
   "outputs": [
    {
     "data": {
      "text/plain": [
       "21"
      ]
     },
     "execution_count": 84,
     "metadata": {},
     "output_type": "execute_result"
    }
   ],
   "source": [
    "def sum(x,y):\n",
    "    sum = x+y\n",
    "    if sum in range(15-20):\n",
    "        return 20\n",
    "    else:\n",
    "        return sum\n",
    "sum(12,9)"
   ]
  },
  {
   "cell_type": "code",
   "execution_count": 85,
   "metadata": {},
   "outputs": [
    {
     "data": {
      "text/plain": [
       "26"
      ]
     },
     "execution_count": 85,
     "metadata": {},
     "output_type": "execute_result"
    }
   ],
   "source": [
    "def mmm(x,y):\n",
    "    if x+y >15 and x+y <20:\n",
    "        return 20\n",
    "    else:\n",
    "        return x+y\n",
    "mmm(15,11)"
   ]
  },
  {
   "cell_type": "markdown",
   "metadata": {},
   "source": [
    "## 35 Write a Python program which will return true if the two given integer values are equal or their sum or difference is 5.\n",
    "\n"
   ]
  },
  {
   "cell_type": "code",
   "execution_count": 86,
   "metadata": {},
   "outputs": [
    {
     "data": {
      "text/plain": [
       "True"
      ]
     },
     "execution_count": 86,
     "metadata": {},
     "output_type": "execute_result"
    }
   ],
   "source": [
    "def integer(x,y):\n",
    "    if x==y or abs(x+y)==5 or x-y==5:\n",
    "        return True\n",
    "    else:\n",
    "        return False\n",
    "integer(-8,3)\n",
    "    "
   ]
  },
  {
   "cell_type": "markdown",
   "metadata": {},
   "source": [
    "## 36 Write a Python program to add two objects if both objects are an integer type.\n",
    "\n"
   ]
  },
  {
   "cell_type": "code",
   "execution_count": 91,
   "metadata": {
    "scrolled": true
   },
   "outputs": [
    {
     "data": {
      "text/plain": [
       "30"
      ]
     },
     "execution_count": 91,
     "metadata": {},
     "output_type": "execute_result"
    }
   ],
   "source": [
    "def add_numbers(a, b):\n",
    "    if not (isinstance(a, int)) and (isinstance(b, int)):\n",
    "         raise TypeError(\"Inputs must be integers\")\n",
    "    return a + b\n",
    "\n",
    "add_numbers(10, 20)\n"
   ]
  },
  {
   "cell_type": "code",
   "execution_count": 92,
   "metadata": {},
   "outputs": [
    {
     "name": "stdout",
     "output_type": "stream",
     "text": [
      "5\n",
      "None\n"
     ]
    }
   ],
   "source": [
    "def add_obj(x,y):\n",
    "    if type(x)==int and type(y)==int:\n",
    "        print(x+y)\n",
    "    return None\n",
    "print(add_obj(2,3))"
   ]
  },
  {
   "cell_type": "code",
   "execution_count": 97,
   "metadata": {},
   "outputs": [
    {
     "data": {
      "text/plain": [
       "13"
      ]
     },
     "execution_count": 97,
     "metadata": {},
     "output_type": "execute_result"
    }
   ],
   "source": [
    "def add_two_obj(a,b):\n",
    "    if (isinstance(a,int) and isinstance(b,int)):\n",
    "        return a +b\n",
    "    else:\n",
    "        raise TypeError('must be integers')\n",
    "add_two_obj(5,8)"
   ]
  },
  {
   "cell_type": "markdown",
   "metadata": {},
   "source": [
    "## 37 Write a Python program to display your details like name, age, address in three different lines.\n",
    "\n"
   ]
  },
  {
   "cell_type": "code",
   "execution_count": 98,
   "metadata": {
    "scrolled": true
   },
   "outputs": [
    {
     "name": "stdout",
     "output_type": "stream",
     "text": [
      "your name is mina \n",
      "your age is 25\n",
      "your adress is sohag\n"
     ]
    }
   ],
   "source": [
    "def details(name,age,adress):\n",
    "    print(f'your name is {name} \\nyour age is {age}\\nyour adress is {adress}')\n",
    "details('mina',25,'sohag')"
   ]
  },
  {
   "cell_type": "markdown",
   "metadata": {},
   "source": [
    "## 38 Write a Python program to solve (x + y) * (x + y).\n",
    "\n"
   ]
  },
  {
   "cell_type": "code",
   "execution_count": 99,
   "metadata": {},
   "outputs": [
    {
     "name": "stdout",
     "output_type": "stream",
     "text": [
      "(9 + 3) * (9 + 3) =  144\n"
     ]
    }
   ],
   "source": [
    "def prog(x,y):\n",
    "    print(f'({x} + {y}) * ({x} + {y}) = ',(x + y)*(x+y))\n",
    "prog(9,3)"
   ]
  },
  {
   "cell_type": "markdown",
   "metadata": {},
   "source": [
    "## 39 Write a Python program to compute the future value of a specified principal amount, rate of interest, and a number of years.\n",
    "\n"
   ]
  },
  {
   "cell_type": "code",
   "execution_count": 100,
   "metadata": {},
   "outputs": [
    {
     "name": "stdout",
     "output_type": "stream",
     "text": [
      "12722.79\n"
     ]
    }
   ],
   "source": [
    "amt = 10000\n",
    "int = 3.5\n",
    "years = 7\n",
    "\n",
    "future_value  = amt*((1+(0.01*int)) ** years)\n",
    "print(round(future_value,2))\n"
   ]
  },
  {
   "cell_type": "markdown",
   "metadata": {},
   "source": [
    "## 40 Write a Python program to compute the distance between the points (x1, y1) and (x2, y2).\n",
    "\n",
    "\n"
   ]
  },
  {
   "cell_type": "code",
   "execution_count": 1,
   "metadata": {},
   "outputs": [
    {
     "name": "stdout",
     "output_type": "stream",
     "text": [
      "5.385164807134504\n"
     ]
    }
   ],
   "source": [
    "import math\n",
    "p1 = [8, 9]\n",
    "p2 = [6, 4]\n",
    "distance = math.sqrt( ((p1[0]-p2[0])**2)+((p1[1]-p2[1])**2) )\n",
    "print(distance)"
   ]
  },
  {
   "cell_type": "markdown",
   "metadata": {},
   "source": [
    "## 41 Write a Python program to check whether a file exists.\n",
    "\n"
   ]
  },
  {
   "cell_type": "code",
   "execution_count": 3,
   "metadata": {},
   "outputs": [
    {
     "name": "stdout",
     "output_type": "stream",
     "text": [
      "True\n"
     ]
    }
   ],
   "source": [
    "import os.path\n",
    "open('abc.txt', 'w')\n",
    "print(os.path.isfile('abc.txt'))"
   ]
  },
  {
   "cell_type": "markdown",
   "metadata": {},
   "source": [
    "## 42 Write a Python program to determine whether a Python shell is executing in 32bit or 64bit mode on OS?\n",
    "\n"
   ]
  },
  {
   "cell_type": "code",
   "execution_count": 4,
   "metadata": {},
   "outputs": [
    {
     "name": "stdout",
     "output_type": "stream",
     "text": [
      "64\n"
     ]
    }
   ],
   "source": [
    "import struct\n",
    "print(struct.calcsize(\"P\") * 8)"
   ]
  },
  {
   "cell_type": "markdown",
   "metadata": {},
   "source": [
    "## 43 Write a Python program to get OS name, platform and release information.\n",
    "\n",
    "\n"
   ]
  },
  {
   "cell_type": "code",
   "execution_count": 5,
   "metadata": {
    "scrolled": true
   },
   "outputs": [
    {
     "name": "stdout",
     "output_type": "stream",
     "text": [
      "nt\n",
      "Windows\n"
     ]
    }
   ],
   "source": [
    "import platform\n",
    "import os\n",
    "print(os.name)\n",
    "print(platform.system())"
   ]
  },
  {
   "cell_type": "markdown",
   "metadata": {},
   "source": [
    "## 44 Write a Python program to locate Python site-packages.\n",
    "\n"
   ]
  },
  {
   "cell_type": "code",
   "execution_count": 6,
   "metadata": {},
   "outputs": [
    {
     "data": {
      "text/plain": [
       "['C:\\\\Users\\\\tarek\\\\anaconda3',\n",
       " 'C:\\\\Users\\\\tarek\\\\anaconda3\\\\lib\\\\site-packages']"
      ]
     },
     "execution_count": 6,
     "metadata": {},
     "output_type": "execute_result"
    }
   ],
   "source": [
    "import site\n",
    "site.getsitepackages()"
   ]
  },
  {
   "cell_type": "markdown",
   "metadata": {},
   "source": [
    "## 48 Write a Python program to parse a string to Float or Integer.\n",
    "\n"
   ]
  },
  {
   "cell_type": "code",
   "execution_count": 7,
   "metadata": {},
   "outputs": [
    {
     "name": "stdout",
     "output_type": "stream",
     "text": [
      "246.2458\n",
      "246\n"
     ]
    }
   ],
   "source": [
    "n = \"246.2458\"\n",
    "print(float(n))\n",
    "print(int(float(n)))"
   ]
  },
  {
   "cell_type": "markdown",
   "metadata": {},
   "source": [
    "## 49 Write a Python program to list all files in a directory in Python.\n",
    "\n",
    "\n"
   ]
  },
  {
   "cell_type": "code",
   "execution_count": 8,
   "metadata": {},
   "outputs": [
    {
     "ename": "FileNotFoundError",
     "evalue": "[WinError 3] The system cannot find the path specified: 'ayam el kolia'",
     "output_type": "error",
     "traceback": [
      "\u001b[1;31m---------------------------------------------------------------------------\u001b[0m",
      "\u001b[1;31mFileNotFoundError\u001b[0m                         Traceback (most recent call last)",
      "\u001b[1;32m<ipython-input-8-3d0027737ced>\u001b[0m in \u001b[0;36m<module>\u001b[1;34m\u001b[0m\n\u001b[0;32m      1\u001b[0m \u001b[1;32mfrom\u001b[0m \u001b[0mos\u001b[0m \u001b[1;32mimport\u001b[0m \u001b[0mlistdir\u001b[0m\u001b[1;33m\u001b[0m\u001b[1;33m\u001b[0m\u001b[0m\n\u001b[0;32m      2\u001b[0m \u001b[1;32mfrom\u001b[0m \u001b[0mos\u001b[0m\u001b[1;33m.\u001b[0m\u001b[0mpath\u001b[0m \u001b[1;32mimport\u001b[0m \u001b[0misfile\u001b[0m\u001b[1;33m,\u001b[0m \u001b[0mjoin\u001b[0m\u001b[1;33m\u001b[0m\u001b[1;33m\u001b[0m\u001b[0m\n\u001b[1;32m----> 3\u001b[1;33m \u001b[0mfiles_list\u001b[0m \u001b[1;33m=\u001b[0m \u001b[1;33m[\u001b[0m\u001b[0mf\u001b[0m \u001b[1;32mfor\u001b[0m \u001b[0mf\u001b[0m \u001b[1;32min\u001b[0m \u001b[0mlistdir\u001b[0m\u001b[1;33m(\u001b[0m\u001b[1;34m'ayam el kolia'\u001b[0m\u001b[1;33m)\u001b[0m \u001b[1;32mif\u001b[0m \u001b[0misfile\u001b[0m\u001b[1;33m(\u001b[0m\u001b[0mjoin\u001b[0m\u001b[1;33m(\u001b[0m\u001b[1;34m'ayam el kolia'\u001b[0m\u001b[1;33m,\u001b[0m \u001b[0mf\u001b[0m\u001b[1;33m)\u001b[0m\u001b[1;33m)\u001b[0m\u001b[1;33m]\u001b[0m\u001b[1;33m\u001b[0m\u001b[1;33m\u001b[0m\u001b[0m\n\u001b[0m\u001b[0;32m      4\u001b[0m \u001b[0mfiles_list\u001b[0m\u001b[1;33m\u001b[0m\u001b[1;33m\u001b[0m\u001b[0m\n",
      "\u001b[1;31mFileNotFoundError\u001b[0m: [WinError 3] The system cannot find the path specified: 'ayam el kolia'"
     ]
    }
   ],
   "source": [
    "from os import listdir\n",
    "from os.path import isfile, join\n",
    "files_list = [f for f in listdir('ayam el kolia') if isfile(join('ayam el kolia', f))]\n",
    "files_list"
   ]
  },
  {
   "cell_type": "code",
   "execution_count": 25,
   "metadata": {},
   "outputs": [
    {
     "name": "stdout",
     "output_type": "stream",
     "text": [
      "['02-Python Statements\\\\00-if, elif, and else Statements.ipynb', '02-Python Statements\\\\01-for Loops.ipynb', '02-Python Statements\\\\02-while Loops.ipynb', '02-Python Statements\\\\03-Useful-Operators.ipynb', '02-Python Statements\\\\test.txt']\n",
      "{\n",
      " \"cells\": [\n",
      "  {\n",
      "   \"cell_type\": \"markdown\",\n",
      "   \"metadata\": {},\n",
      "   \"source\": [\n",
      "    \"# if, elif, else Statements\\n\",\n",
      "    \"\\n\",\n",
      "    \"<code>if</code> Statements in Python allows us to tell the computer to perform alternative actions based on a certain set of results.\\n\",\n",
      "    \"\\n\",\n",
      "    \"Verbally, we can imagine we are telling the computer:\\n\",\n",
      "    \"\\n\",\n",
      "    \"\\\"Hey if this case happens, perform some action\\\"\\n\",\n",
      "    \"\\n\",\n",
      "    \"We can then expand the idea further with <code>elif</code> and <code>else</code> statements, which allow us to tell the computer:\\n\",\n",
      "    \"\\n\",\n",
      "    \"\\\"Hey if this case happens, perform some action. Else, if another case happens, perform some other action. Else, if *none* of the above cases happened, perform this action.\\\"\\n\",\n",
      "    \"\\n\",\n",
      "    \"Let's go ahead and look at the syntax format for <code>if</code> statements to get a better idea of this:\\n\",\n",
      "    \"\\n\",\n",
      "    \"    if case1:\\n\",\n",
      "    \"        perform action1\\n\",\n",
      "    \"    elif case2:\\n\",\n",
      "    \"        perform action2\\n\",\n",
      "    \"    else: \\n\",\n",
      "    \"        perform action3\\n\",\n",
      "    \"        \"\n",
      "   ]\n",
      "  },\n",
      "  {\n",
      "   \"cell_type\": \"markdown\",\n",
      "   \"metadata\": {},\n",
      "   \"source\": [\n",
      "    \"## 1) `if`, `else` statments\\n\",\n",
      "    \"\\n\",\n",
      "    \"Let's see a quick example of this:\"\n",
      "   ]\n",
      "  },\n",
      "  {\n",
      "   \"cell_type\": \"code\",\n",
      "   \"execution_count\": 1,\n",
      "   \"metadata\": {},\n",
      "   \"outputs\": [\n",
      "    {\n",
      "     \"name\": \"stdout\",\n",
      "     \"output_type\": \"stream\",\n",
      "     \"text\": [\n",
      "      \"hello\\n\",\n",
      "      \"python\\n\",\n",
      "      \"hi\\n\"\n",
      "     ]\n",
      "    }\n",
      "   ],\n",
      "   \"source\": [\n",
      "    \"if True:\\n\",\n",
      "    \"    print('hello')\\n\",\n",
      "    \"    print('python')\\n\",\n",
      "    \"print('hi')\"\n",
      "   ]\n",
      "  },\n",
      "  {\n",
      "   \"cell_type\": \"code\",\n",
      "   \"execution_count\": 2,\n",
      "   \"metadata\": {},\n",
      "   \"outputs\": [\n",
      "    {\n",
      "     \"name\": \"stdout\",\n",
      "     \"output_type\": \"stream\",\n",
      "     \"text\": [\n",
      "      \"hi\\n\"\n",
      "     ]\n",
      "    }\n",
      "   ],\n",
      "   \"source\": [\n",
      "    \"if False:\\n\",\n",
      "    \"    print('hello')\\n\",\n",
      "    \"    print('python')\\n\",\n",
      "    \"print('hi')\"\n",
      "   ]\n",
      "  },\n",
      "  {\n",
      "   \"cell_type\": \"markdown\",\n",
      "   \"metadata\": {},\n",
      "   \"source\": [\n",
      "    \"Let's add in some else logic:\"\n",
      "   ]\n",
      "  },\n",
      "  {\n",
      "   \"cell_type\": \"code\",\n",
      "   \"execution_count\": 3,\n",
      "   \"metadata\": {},\n",
      "   \"outputs\": [\n",
      "    {\n",
      "     \"name\": \"stdout\",\n",
      "     \"output_type\": \"stream\",\n",
      "     \"text\": [\n",
      "      \"x was True!\\n\"\n",
      "     ]\n",
      "    }\n",
      "   ],\n",
      "   \"source\": [\n",
      "    \"x = True\\n\",\n",
      "    \"\\n\",\n",
      "    \"if x:\\n\",\n",
      "    \"    print('x was True!')\\n\",\n",
      "    \"else:\\n\",\n",
      "    \"    print('I will be printed in any case where x is not true')\\n\",\n",
      "    \"    print('finish')\"\n",
      "   ]\n",
      "  },\n",
      "  {\n",
      "   \"cell_type\": \"code\",\n",
      "   \"execution_count\": 4,\n",
      "   \"metadata\": {},\n",
      "   \"outputs\": [\n",
      "    {\n",
      "     \"name\": \"stdout\",\n",
      "     \"output_type\": \"stream\",\n",
      "     \"text\": [\n",
      "      \"I will be printed in any case where x is not true\\n\",\n",
      "      \"finish\\n\"\n",
      "     ]\n",
      "    }\n",
      "   ],\n",
      "   \"source\": [\n",
      "    \"x = False\\n\",\n",
      "    \"\\n\",\n",
      "    \"if x:\\n\",\n",
      "    \"    print('x was True!')\\n\",\n",
      "    \"else:\\n\",\n",
      "    \"    print('I will be printed in any case where x is not true')\\n\",\n",
      "    \"    print('finish')\"\n",
      "   ]\n",
      "  },\n",
      "  {\n",
      "   \"cell_type\": \"markdown\",\n",
      "   \"metadata\": {},\n",
      "   \"source\": [\n",
      "    \"## 2) Multiple branches with `elif`\\n\",\n",
      "    \"\\n\",\n",
      "    \"Let's get a fuller picture of how far <code>if</code>, <code>elif</code>, and <code>else</code> can take us!\\n\",\n",
      "    \"\\n\",\n",
      "    \"We write this out in a nested structure. Take note of how the <code>if</code>, <code>elif</code>, and <code>else</code> line up in the code. This can help you see what <code>if</code> is related to what <code>elif</code> or <code>else</code> statements.\\n\",\n",
      "    \"\\n\",\n",
      "    \"We'll reintroduce a comparison syntax for Python.\"\n",
      "   ]\n",
      "  },\n",
      "  {\n",
      "   \"cell_type\": \"markdown\",\n",
      "   \"metadata\": {},\n",
      "   \"source\": [\n",
      "    \"Note how the nested <code>if</code> statements are each checked until a True boolean causes the nested code below it to run. You should also note that you can put in as many <code>elif</code> statements as you want before you close off with an <code>else</code>.\\n\",\n",
      "    \"\\n\",\n",
      "    \"Let's create 3 more simple examples for the <code>if</code>, <code>elif</code>, and <code>else</code> statements:\"\n",
      "   ]\n",
      "  },\n",
      "  {\n",
      "   \"cell_type\": \"code\",\n",
      "   \"execution_count\": 5,\n",
      "   \"metadata\": {},\n",
      "   \"outputs\": [\n",
      "    {\n",
      "     \"name\": \"stdout\",\n",
      "     \"output_type\": \"stream\",\n",
      "     \"text\": [\n",
      "      \"Welcome to the Auto Shop!\\n\"\n",
      "     ]\n",
      "    }\n",
      "   ],\n",
      "   \"source\": [\n",
      "    \"loc = 'Auto Shop'\\n\",\n",
      "    \"# loc = 'Bank'\\n\",\n",
      "    \"# loc = 'Park'\\n\",\n",
      "    \"# loc = 'Museum'\\n\",\n",
      "    \"# loc = 'School'\\n\",\n",
      "    \"\\n\",\n",
      "    \"if loc == 'Auto Shop':\\n\",\n",
      "    \"    print('Welcome to the Auto Shop!')\\n\",\n",
      "    \"elif loc == 'Bank':\\n\",\n",
      "    \"    print('Welcome to the bank!')\\n\",\n",
      "    \"elif loc == 'Park':\\n\",\n",
      "    \"    print('Welcome to the Park!')\\n\",\n",
      "    \"    print('have fun')\\n\",\n",
      "    \"elif loc == 'Museum':\\n\",\n",
      "    \"    print('Welcome to the museum!')\\n\",\n",
      "    \"else:\\n\",\n",
      "    \"    print('Where are you?')\\n\",\n",
      "    \"    print('finish')\"\n",
      "   ]\n",
      "  },\n",
      "  {\n",
      "   \"cell_type\": \"code\",\n",
      "   \"execution_count\": 6,\n",
      "   \"metadata\": {},\n",
      "   \"outputs\": [\n",
      "    {\n",
      "     \"name\": \"stdout\",\n",
      "     \"output_type\": \"stream\",\n",
      "     \"text\": [\n",
      "      \"Welcome Eman!\\n\"\n",
      "     ]\n",
      "    }\n",
      "   ],\n",
      "   \"source\": [\n",
      "    \"person = 'Eman'\\n\",\n",
      "    \"\\n\",\n",
      "    \"if person == 'Sammy':\\n\",\n",
      "    \"    print('Welcome Sammy!')\\n\",\n",
      "    \"elif person == 'Ahmed':\\n\",\n",
      "    \"    print('Welcome Ahmed!')\\n\",\n",
      "    \"elif person == 'Eman':\\n\",\n",
      "    \"    print('Welcome Eman!')\\n\",\n",
      "    \"elif person == 'Hany':\\n\",\n",
      "    \"    print('Welcome Hany!')\\n\",\n",
      "    \"else:\\n\",\n",
      "    \"    print(\\\"Welcome, what's your name?\\\")\"\n",
      "   ]\n",
      "  },\n",
      "  {\n",
      "   \"cell_type\": \"code\",\n",
      "   \"execution_count\": 7,\n",
      "   \"metadata\": {},\n",
      "   \"outputs\": [\n",
      "    {\n",
      "     \"name\": \"stdout\",\n",
      "     \"output_type\": \"stream\",\n",
      "     \"text\": [\n",
      "      \"Welcome, what's your name?\\n\"\n",
      "     ]\n",
      "    }\n",
      "   ],\n",
      "   \"source\": [\n",
      "    \"person = 'Ahmed'\\n\",\n",
      "    \"\\n\",\n",
      "    \"if person == 'Sammy':\\n\",\n",
      "    \"    print('Welcome Sammy!')\\n\",\n",
      "    \"elif person =='George':\\n\",\n",
      "    \"    print('Welcome George!')\\n\",\n",
      "    \"else:\\n\",\n",
      "    \"    print(\\\"Welcome, what's your name?\\\")\"\n",
      "   ]\n",
      "  },\n",
      "  {\n",
      "   \"cell_type\": \"markdown\",\n",
      "   \"metadata\": {},\n",
      "   \"source\": [\n",
      "    \"## 3) Many if conditions after each other\\n\",\n",
      "    \"\\n\",\n",
      "    \"note that 'if' comes alone with 'elif' and 'else', if any time you see many 'if' after each other know that they are seperate from each other.\"\n",
      "   ]\n",
      "  },\n",
      "  {\n",
      "   \"cell_type\": \"code\",\n",
      "   \"execution_count\": 8,\n",
      "   \"metadata\": {},\n",
      "   \"outputs\": [\n",
      "    {\n",
      "     \"name\": \"stdout\",\n",
      "     \"output_type\": \"stream\",\n",
      "     \"text\": [\n",
      "      \"Welcome to the Auto Shop!\\n\",\n",
      "      \"i am lost\\n\",\n",
      "      \"Where are you?\\n\",\n",
      "      \"finish\\n\"\n",
      "     ]\n",
      "    }\n",
      "   ],\n",
      "   \"source\": [\n",
      "    \"loc = 'Auto Shop'\\n\",\n",
      "    \"# loc = 'Bank'\\n\",\n",
      "    \"# loc = 'Park'\\n\",\n",
      "    \"# loc = 'Museum'\\n\",\n",
      "    \"# loc = 'School'\\n\",\n",
      "    \"\\n\",\n",
      "    \"if loc == 'Auto Shop':\\n\",\n",
      "    \"    print('Welcome to the Auto Shop!')\\n\",\n",
      "    \"elif loc == 'Park':\\n\",\n",
      "    \"     print('yes')  \\n\",\n",
      "    \"        \\n\",\n",
      "    \"        \\n\",\n",
      "    \"if loc == 'Bank':\\n\",\n",
      "    \"    print('Welcome to the bank!') \\n\",\n",
      "    \"    \\n\",\n",
      "    \"    \\n\",\n",
      "    \"if loc == 'Park':\\n\",\n",
      "    \"    print('Welcome to the Park!')\\n\",\n",
      "    \"    print('have fun')\\n\",\n",
      "    \"elif loc == 'Hotel':\\n\",\n",
      "    \"    print('hotel')\\n\",\n",
      "    \"else:\\n\",\n",
      "    \"    print('i am lost') \\n\",\n",
      "    \"    \\n\",\n",
      "    \"    \\n\",\n",
      "    \"if loc == 'Museum':\\n\",\n",
      "    \"    print('Welcome to the museum!')\\n\",\n",
      "    \"else:\\n\",\n",
      "    \"    print('Where are you?')\\n\",\n",
      "    \"    print('finish')\"\n",
      "   ]\n",
      "  },\n",
      "  {\n",
      "   \"cell_type\": \"markdown\",\n",
      "   \"metadata\": {},\n",
      "   \"source\": [\n",
      "    \"## 4) Nested `if` statments\"\n",
      "   ]\n",
      "  },\n",
      "  {\n",
      "   \"cell_type\": \"markdown\",\n",
      "   \"metadata\": {},\n",
      "   \"source\": [\n",
      "    \"for divide operation we should handle the divison on zero, so we use **nested if**\"\n",
      "   ]\n",
      "  },\n",
      "  {\n",
      "   \"cell_type\": \"code\",\n",
      "   \"execution_count\": 9,\n",
      "   \"metadata\": {},\n",
      "   \"outputs\": [\n",
      "    {\n",
      "     \"ename\": \"ZeroDivisionError\",\n",
      "     \"evalue\": \"division by zero\",\n",
      "     \"output_type\": \"error\",\n",
      "     \"traceback\": [\n",
      "      \"\\u001b[1;31m---------------------------------------------------------------------------\\u001b[0m\",\n",
      "      \"\\u001b[1;31mZeroDivisionError\\u001b[0m                         Traceback (most recent call last)\",\n",
      "      \"\\u001b[1;32m<ipython-input-9-cb132d806265>\\u001b[0m in \\u001b[0;36m<module>\\u001b[1;34m\\u001b[0m\\n\\u001b[0;32m     10\\u001b[0m     \\u001b[0mprint\\u001b[0m\\u001b[1;33m(\\u001b[0m\\u001b[1;34mf\\\"the multpling for {x} * {y} = {x * y}\\\"\\u001b[0m\\u001b[1;33m)\\u001b[0m\\u001b[1;33m\\u001b[0m\\u001b[1;33m\\u001b[0m\\u001b[0m\\n\\u001b[0;32m     11\\u001b[0m \\u001b[1;32melif\\u001b[0m \\u001b[0mop\\u001b[0m \\u001b[1;33m==\\u001b[0m \\u001b[1;34m'/'\\u001b[0m\\u001b[1;33m:\\u001b[0m\\u001b[1;33m\\u001b[0m\\u001b[1;33m\\u001b[0m\\u001b[0m\\n\\u001b[1;32m---> 12\\u001b[1;33m     \\u001b[0mprint\\u001b[0m\\u001b[1;33m(\\u001b[0m\\u001b[1;34mf\\\"the division for {x} / {y} = {x / y}\\\"\\u001b[0m\\u001b[1;33m)\\u001b[0m\\u001b[1;33m\\u001b[0m\\u001b[1;33m\\u001b[0m\\u001b[0m\\n\\u001b[0m\\u001b[0;32m     13\\u001b[0m \\u001b[1;32melse\\u001b[0m\\u001b[1;33m:\\u001b[0m\\u001b[1;33m\\u001b[0m\\u001b[1;33m\\u001b[0m\\u001b[0m\\n\\u001b[0;32m     14\\u001b[0m     \\u001b[0mprint\\u001b[0m\\u001b[1;33m(\\u001b[0m\\u001b[1;34m'wrong operation'\\u001b[0m\\u001b[1;33m)\\u001b[0m\\u001b[1;33m\\u001b[0m\\u001b[1;33m\\u001b[0m\\u001b[0m\\n\",\n",
      "      \"\\u001b[1;31mZeroDivisionError\\u001b[0m: division by zero\"\n",
      "     ]\n",
      "    }\n",
      "   ],\n",
      "   \"source\": [\n",
      "    \"x = 10\\n\",\n",
      "    \"y = 0\\n\",\n",
      "    \"op = '/'\\n\",\n",
      "    \"\\n\",\n",
      "    \"if op == '+':\\n\",\n",
      "    \"    print(f\\\"the sum for {x} + {y} = {x + y}\\\")\\n\",\n",
      "    \"elif op == '-':\\n\",\n",
      "    \"    print(f\\\"the subtraction for {x} - {y} = {x - y}\\\")\\n\",\n",
      "    \"elif op == '*':\\n\",\n",
      "    \"    print(f\\\"the multpling for {x} * {y} = {x * y}\\\")\\n\",\n",
      "    \"elif op == '/':\\n\",\n",
      "    \"    print(f\\\"the division for {x} / {y} = {x / y}\\\")\\n\",\n",
      "    \"else:\\n\",\n",
      "    \"    print('wrong operation')\"\n",
      "   ]\n",
      "  },\n",
      "  {\n",
      "   \"cell_type\": \"code\",\n",
      "   \"execution_count\": 10,\n",
      "   \"metadata\": {},\n",
      "   \"outputs\": [\n",
      "    {\n",
      "     \"name\": \"stdout\",\n",
      "     \"output_type\": \"stream\",\n",
      "     \"text\": [\n",
      "      \"cant divide on zero\\n\"\n",
      "     ]\n",
      "    }\n",
      "   ],\n",
      "   \"source\": [\n",
      "    \"x = 10\\n\",\n",
      "    \"y = 0\\n\",\n",
      "    \"op = '/'\\n\",\n",
      "    \"\\n\",\n",
      "    \"if op == '+':\\n\",\n",
      "    \"    print(f\\\"the sum for {x} + {y} = {x + y}\\\")\\n\",\n",
      "    \"elif op == '-':\\n\",\n",
      "    \"    print(f\\\"the subtraction for {x} - {y} = {x - y}\\\")\\n\",\n",
      "    \"elif op == '*':\\n\",\n",
      "    \"    print(f\\\"the multpling for {x} * {y} = {x * y}\\\")\\n\",\n",
      "    \"elif op == '/':\\n\",\n",
      "    \"    if y == 0:\\n\",\n",
      "    \"        print('cant divide on zero')\\n\",\n",
      "    \"    else:\\n\",\n",
      "    \"        print(f\\\"the division for {x} / {y} = {x / y}\\\")\\n\",\n",
      "    \"else:\\n\",\n",
      "    \"    print('wrong operation')\"\n",
      "   ]\n",
      "  },\n",
      "  {\n",
      "   \"cell_type\": \"markdown\",\n",
      "   \"metadata\": {},\n",
      "   \"source\": [\n",
      "    \"## 5) Ternary operator expression\"\n",
      "   ]\n",
      "  },\n",
      "  {\n",
      "   \"cell_type\": \"code\",\n",
      "   \"execution_count\": 11,\n",
      "   \"metadata\": {},\n",
      "   \"outputs\": [\n",
      "    {\n",
      "     \"name\": \"stdout\",\n",
      "     \"output_type\": \"stream\",\n",
      "     \"text\": [\n",
      "      \"30\\n\"\n",
      "     ]\n",
      "    }\n",
      "   ],\n",
      "   \"source\": [\n",
      "    \"a = 30\\n\",\n",
      "    \"b = 20 \\n\",\n",
      "    \"\\n\",\n",
      "    \"if a > b:\\n\",\n",
      "    \"    print(a)\\n\",\n",
      "    \"else:\\n\",\n",
      "    \"    print(b)\"\n",
      "   ]\n",
      "  },\n",
      "  {\n",
      "   \"cell_type\": \"code\",\n",
      "   \"execution_count\": 12,\n",
      "   \"metadata\": {},\n",
      "   \"outputs\": [\n",
      "    {\n",
      "     \"name\": \"stdout\",\n",
      "     \"output_type\": \"stream\",\n",
      "     \"text\": [\n",
      "      \"30\\n\"\n",
      "     ]\n",
      "    }\n",
      "   ],\n",
      "   \"source\": [\n",
      "    \"print(a if a > b else b)\"\n",
      "   ]\n",
      "  },\n",
      "  {\n",
      "   \"cell_type\": \"markdown\",\n",
      "   \"metadata\": {},\n",
      "   \"source\": [\n",
      "    \"## 6) Examples\"\n",
      "   ]\n",
      "  },\n",
      "  {\n",
      "   \"cell_type\": \"markdown\",\n",
      "   \"metadata\": {},\n",
      "   \"source\": [\n",
      "    \"### Example 1\"\n",
      "   ]\n",
      "  },\n",
      "  {\n",
      "   \"cell_type\": \"code\",\n",
      "   \"execution_count\": 13,\n",
      "   \"metadata\": {},\n",
      "   \"outputs\": [\n",
      "    {\n",
      "     \"name\": \"stdout\",\n",
      "     \"output_type\": \"stream\",\n",
      "     \"text\": [\n",
      "      \"Enter your number: 2\\n\",\n",
      "      \"positive\\n\"\n",
      "     ]\n",
      "    }\n",
      "   ],\n",
      "   \"source\": [\n",
      "    \"number = int(input('Enter your number: '))\\n\",\n",
      "    \"\\n\",\n",
      "    \"if number > 0:\\n\",\n",
      "    \"    print('positive')\\n\",\n",
      "    \"elif number < 0:\\n\",\n",
      "    \"    print('negative')\\n\",\n",
      "    \"else:\\n\",\n",
      "    \"    print('zero')\"\n",
      "   ]\n",
      "  },\n",
      "  {\n",
      "   \"cell_type\": \"markdown\",\n",
      "   \"metadata\": {},\n",
      "   \"source\": [\n",
      "    \"### Example 2\"\n",
      "   ]\n",
      "  },\n",
      "  {\n",
      "   \"cell_type\": \"markdown\",\n",
      "   \"metadata\": {},\n",
      "   \"source\": [\n",
      "    \"for divide operation we should handle the divison on zero, so we use **nested if**\"\n",
      "   ]\n",
      "  },\n",
      "  {\n",
      "   \"cell_type\": \"code\",\n",
      "   \"execution_count\": 14,\n",
      "   \"metadata\": {},\n",
      "   \"outputs\": [\n",
      "    {\n",
      "     \"name\": \"stdout\",\n",
      "     \"output_type\": \"stream\",\n",
      "     \"text\": [\n",
      "      \"Enter your first number: 2\\n\",\n",
      "      \"Enter your second number: 3\\n\",\n",
      "      \"Enter operation, your options +, -, *, /: +\\n\",\n",
      "      \"the sum for 2 + 3 = 5\\n\"\n",
      "     ]\n",
      "    }\n",
      "   ],\n",
      "   \"source\": [\n",
      "    \"x = int(input('Enter your first number: '))\\n\",\n",
      "    \"y = int(input('Enter your second number: '))\\n\",\n",
      "    \"op = input('Enter operation, your options +, -, *, /: ')\\n\",\n",
      "    \"\\n\",\n",
      "    \"if op == '+':\\n\",\n",
      "    \"    print(f\\\"the sum for {x} + {y} = {x + y}\\\")\\n\",\n",
      "    \"elif op == '-':\\n\",\n",
      "    \"    print(f\\\"the subtraction for {x} - {y} = {x - y}\\\")\\n\",\n",
      "    \"elif op == '*':\\n\",\n",
      "    \"    print(f\\\"the multpling for {x} * {y} = {x * y}\\\")\\n\",\n",
      "    \"elif op == '/':\\n\",\n",
      "    \"    if y == 0:\\n\",\n",
      "    \"        print('cant divide on zero')\\n\",\n",
      "    \"    else:\\n\",\n",
      "    \"        print(f\\\"the division for {x} / {y} = {x / y}\\\")\\n\",\n",
      "    \"else:\\n\",\n",
      "    \"    print('wrong operation')\"\n",
      "   ]\n",
      "  },\n",
      "  {\n",
      "   \"cell_type\": \"markdown\",\n",
      "   \"metadata\": {},\n",
      "   \"source\": [\n",
      "    \"### Example 3\"\n",
      "   ]\n",
      "  },\n",
      "  {\n",
      "   \"cell_type\": \"code\",\n",
      "   \"execution_count\": 15,\n",
      "   \"metadata\": {},\n",
      "   \"outputs\": [\n",
      "    {\n",
      "     \"name\": \"stdout\",\n",
      "     \"output_type\": \"stream\",\n",
      "     \"text\": [\n",
      "      \"what is ur score, between -10 and 10: 2\\n\",\n",
      "      \"normal\\n\"\n",
      "     ]\n",
      "    }\n",
      "   ],\n",
      "   \"source\": [\n",
      "    \"score = int(input('what is ur score, between -10 and 10: '))\\n\",\n",
      "    \"\\n\",\n",
      "    \"if score >= -10 and score < -5:   # -10 <= score < -5 \\n\",\n",
      "    \"    print('worse')\\n\",\n",
      "    \"elif score >= -5 and score < 0:   # -5 <= score < 0\\n\",\n",
      "    \"    print('bad')\\n\",\n",
      "    \"elif score >= 0 and score < 5:    # 0 <= score < 5\\n\",\n",
      "    \"    print('normal')\\n\",\n",
      "    \"elif score >= 5 and score < 10:   # 5 <= score < 10\\n\",\n",
      "    \"    print('good')\\n\",\n",
      "    \"elif score == 10:   \\n\",\n",
      "    \"    print('excellent')\\n\",\n",
      "    \"else:\\n\",\n",
      "    \"    print('wrong score')\\n\",\n",
      "    \"    \"\n",
      "   ]\n",
      "  },\n",
      "  {\n",
      "   \"cell_type\": \"markdown\",\n",
      "   \"metadata\": {},\n",
      "   \"source\": [\n",
      "    \"### Example 4\\n\",\n",
      "    \"\\n\",\n",
      "    \"use `or`\"\n",
      "   ]\n",
      "  },\n",
      "  {\n",
      "   \"cell_type\": \"code\",\n",
      "   \"execution_count\": 16,\n",
      "   \"metadata\": {},\n",
      "   \"outputs\": [\n",
      "    {\n",
      "     \"name\": \"stdout\",\n",
      "     \"output_type\": \"stream\",\n",
      "     \"text\": [\n",
      "      \"test\\n\"\n",
      "     ]\n",
      "    }\n",
      "   ],\n",
      "   \"source\": [\n",
      "    \"n = 10\\n\",\n",
      "    \"\\n\",\n",
      "    \"if n >= 20 or n < 30:\\n\",\n",
      "    \"    print('test')\\n\",\n",
      "    \"else:\\n\",\n",
      "    \"    print('test 2')\"\n",
      "   ]\n",
      "  },\n",
      "  {\n",
      "   \"cell_type\": \"markdown\",\n",
      "   \"metadata\": {},\n",
      "   \"source\": [\n",
      "    \"### Example 5\"\n",
      "   ]\n",
      "  },\n",
      "  {\n",
      "   \"cell_type\": \"code\",\n",
      "   \"execution_count\": 17,\n",
      "   \"metadata\": {},\n",
      "   \"outputs\": [\n",
      "    {\n",
      "     \"name\": \"stdout\",\n",
      "     \"output_type\": \"stream\",\n",
      "     \"text\": [\n",
      "      \"enter ur number: 3\\n\",\n",
      "      \"odd\\n\"\n",
      "     ]\n",
      "    }\n",
      "   ],\n",
      "   \"source\": [\n",
      "    \"x = int(input('enter ur number: '))\\n\",\n",
      "    \"\\n\",\n",
      "    \"if x <= 0:\\n\",\n",
      "    \"    print('please input +ve number')\\n\",\n",
      "    \"elif x % 2 == 0:\\n\",\n",
      "    \"    print('even')\\n\",\n",
      "    \"elif x % 2 != 0:\\n\",\n",
      "    \"    print('odd')\"\n",
      "   ]\n",
      "  },\n",
      "  {\n",
      "   \"cell_type\": \"markdown\",\n",
      "   \"metadata\": {},\n",
      "   \"source\": [\n",
      "    \"# Gret Work!\"\n",
      "   ]\n",
      "  }\n",
      " ],\n",
      " \"metadata\": {\n",
      "  \"kernelspec\": {\n",
      "   \"display_name\": \"Python 3\",\n",
      "   \"language\": \"python\",\n",
      "   \"name\": \"python3\"\n",
      "  },\n",
      "  \"language_info\": {\n",
      "   \"codemirror_mode\": {\n",
      "    \"name\": \"ipython\",\n",
      "    \"version\": 3\n",
      "   },\n",
      "   \"file_extension\": \".py\",\n",
      "   \"mimetype\": \"text/x-python\",\n",
      "   \"name\": \"python\",\n",
      "   \"nbconvert_exporter\": \"python\",\n",
      "   \"pygments_lexer\": \"ipython3\",\n",
      "   \"version\": \"3.7.6\"\n",
      "  }\n",
      " },\n",
      " \"nbformat\": 4,\n",
      " \"nbformat_minor\": 1\n",
      "}\n",
      "\n"
     ]
    }
   ],
   "source": [
    "from os import listdir\n",
    "from os.path import isfile, join\n",
    "files_list = [join('02-Python Statements', f) for f in listdir('02-Python Statements') if isfile(join('02-Python Statements', f))]\n",
    "print(files_list)\n",
    "with open (files_list[0] , 'r') as f:\n",
    "    file = f.read()\n",
    "    print(file)"
   ]
  },
  {
   "cell_type": "markdown",
   "metadata": {},
   "source": [
    "## 50 Write a Python program to print without newline or space?\n",
    "\n"
   ]
  },
  {
   "cell_type": "code",
   "execution_count": 26,
   "metadata": {},
   "outputs": [
    {
     "name": "stdout",
     "output_type": "stream",
     "text": [
      "**********"
     ]
    }
   ],
   "source": [
    "for i in range(0, 10):\n",
    "    print('*', end=\"\")"
   ]
  },
  {
   "cell_type": "code",
   "execution_count": null,
   "metadata": {},
   "outputs": [],
   "source": []
  }
 ],
 "metadata": {
  "kernelspec": {
   "display_name": "Python 3",
   "language": "python",
   "name": "python3"
  },
  "language_info": {
   "codemirror_mode": {
    "name": "ipython",
    "version": 3
   },
   "file_extension": ".py",
   "mimetype": "text/x-python",
   "name": "python",
   "nbconvert_exporter": "python",
   "pygments_lexer": "ipython3",
   "version": "3.7.6"
  }
 },
 "nbformat": 4,
 "nbformat_minor": 4
}
