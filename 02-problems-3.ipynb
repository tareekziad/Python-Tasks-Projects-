{
 "cells": [
  {
   "cell_type": "markdown",
   "metadata": {},
   "source": [
    "## 1 Write a Python function that takes a sequence of numbers and determines whether all the numbers are different from each other.\n",
    "\n"
   ]
  },
  {
   "cell_type": "code",
   "execution_count": null,
   "metadata": {},
   "outputs": [],
   "source": [
    "def test_distinct(data):\n",
    "    return len(data) == len(set(data))\n",
    "print(test_distinct([1,5,7,9]))\n",
    "print(test_distinct([2,4,5,2,7,9]))"
   ]
  },
  {
   "cell_type": "markdown",
   "metadata": {},
   "source": [
    "## 2 Write a Python program to create all possible strings by using 'a', 'e', 'i', 'o', 'u'. Use the characters exactly once.\n",
    "\n"
   ]
  },
  {
   "cell_type": "code",
   "execution_count": null,
   "metadata": {},
   "outputs": [],
   "source": [
    "import random\n",
    "charList = ['a','e','i','o','u']\n",
    "random.shuffle(charList)\n",
    "print(''.join(charList))\n"
   ]
  },
  {
   "cell_type": "markdown",
   "metadata": {},
   "source": [
    "## 3 Write a Python program to remove and print every third number from a list of numbers until the list becomes empty.\n",
    "\n"
   ]
  },
  {
   "cell_type": "code",
   "execution_count": null,
   "metadata": {},
   "outputs": [],
   "source": [
    "def remove_nums(int_list):\n",
    "    position = 3 - 1 \n",
    "    idx = 0\n",
    "    len_list = (len(int_list))\n",
    "    while len_list>0:\n",
    "        idx = (position+idx)%len_list\n",
    "        print(int_list.pop(idx))\n",
    "        len_list -= 1\n",
    "remove_nums([10,20,30,40,50,60,70,80,90])\n"
   ]
  },
  {
   "cell_type": "markdown",
   "metadata": {},
   "source": [
    "## 5 Write a Python program to create the combinations of 3 digit combo.\n",
    "\n"
   ]
  },
  {
   "cell_type": "code",
   "execution_count": null,
   "metadata": {},
   "outputs": [],
   "source": [
    "numbers = []\n",
    "for num in range(1000):\n",
    "    num=str(num).zfill(3)\n",
    "print(num)\n",
    "numbers.append(num)\n"
   ]
  },
  {
   "cell_type": "markdown",
   "metadata": {},
   "source": [
    "## 6 Write a Python program to print a long text, convert the string to a list and print all the words and their frequencies.\n",
    "\n"
   ]
  },
  {
   "cell_type": "code",
   "execution_count": null,
   "metadata": {},
   "outputs": [],
   "source": [
    "string_words = '''United States Declaration of Independence\n",
    "From Wikipedia, the free encyclopedia\n",
    "The United States Declaration of Independence is the statement\n",
    "adopted by the Second Continental Congress meeting at the Pennsylvania State\n",
    "House (Independence Hall) in Philadelphia on July 4, 1776, which announced\n",
    "that the thirteen American colonies, then at war with the Kingdom of Great\n",
    "Britain, regarded themselves as thirteen independent sovereign states, no longer\n",
    "under British rule. These states would found a new nation – the United States of\n",
    "America. John Adams was a leader in pushing for independence, which was passed\n",
    "on July 2 with no opposing vote cast. A committee of five had already drafted the\n",
    "formal declaration, to be ready when Congress voted on independence.\n",
    "\n",
    "John Adams persuaded the committee to select Thomas Jefferson to compose the original\n",
    "draft of the document, which Congress would edit to produce the final version.\n",
    "The Declaration was ultimately a formal explanation of why Congress had voted on July\n",
    "2 to declare independence from Great Britain, more than a year after the outbreak of\n",
    "the American Revolutionary War. The next day, Adams wrote to his wife Abigail: \"The\n",
    "Second Day of July 1776, will be the most memorable Epocha, in the History of America.\"\n",
    "But Independence Day is actually celebrated on July 4, the date that the Declaration of\n",
    "Independence was approved.\n",
    "\n",
    "After ratifying the text on July 4, Congress issued the Declaration of Independence in\n",
    "several forms. It was initially published as the printed Dunlap broadside that was widely\n",
    "distributed and read to the public. The source copy used for this printing has been lost,\n",
    "and may have been a copy in Thomas Jefferson's hand.[5] Jefferson's original draft, complete\n",
    "with changes made by John Adams and Benjamin Franklin, and Jefferson's notes of changes made\n",
    "by Congress, are preserved at the Library of Congress. The best-known version of the Declaration\n",
    "is a signed copy that is displayed at the National Archives in Washington, D.C., and which is\n",
    "popularly regarded as the official document. This engrossed copy was ordered by Congress on\n",
    "July 19 and signed primarily on August 2.\n",
    "\n",
    "The sources and interpretation of the Declaration have been the subject of much scholarly inquiry.\n",
    "The Declaration justified the independence of the United States by listing colonial grievances against\n",
    "King George III, and by asserting certain natural and legal rights, including a right of revolution.\n",
    "Having served its original purpose in announcing independence, references to the text of the\n",
    "Declaration were few in the following years. Abraham Lincoln made it the centerpiece of his rhetoric\n",
    "(as in the Gettysburg Address of 1863) and his policies. Since then, it has become a well-known statement\n",
    "on human rights, particularly its second sentence:\n",
    "\n",
    "We hold these truths to be self-evident, that all men are created equal, that they are endowed by their\n",
    "Creator with certain unalienable Rights, that among these are Life, Liberty and the pursuit of Happiness.\n",
    "\n",
    "This has been called \"one of the best-known sentences in the English language\", containing \"the most potent\n",
    "and consequential words in American history\". The passage came to represent a moral standard to which\n",
    "the United States should strive. This view was notably promoted by Abraham Lincoln, who considered the\n",
    "Declaration to be the foundation of his political philosophy and argued that it is a statement of principles\n",
    "through which the United States Constitution should be interpreted.\n",
    "\n",
    "The U.S. Declaration of Independence inspired many other similar documents in other countries, the first\n",
    "being the 1789 Declaration of Flanders issued during the Brabant Revolution in the Austrian Netherlands\n",
    "(modern-day Belgium). It also served as the primary model for numerous declarations of independence across\n",
    "Europe and Latin America, as well as Africa (Liberia) and Oceania (New Zealand) during the first half of the\n",
    "19th century.'''\n",
    "\n",
    "word_list = string_words.split()\n",
    "\n",
    "word_freq = [word_list.count(n) for n in word_list]\n",
    "\n",
    "print(\"String:\\n {} \\n\".format(string_words))\n",
    "print(\"List:\\n {} \\n\".format(str(word_list)))\n",
    "print(\"Pairs (Words and Frequencies:\\n {}\".format(str(list(zip(word_list, word_freq)))))\n"
   ]
  },
  {
   "cell_type": "markdown",
   "metadata": {},
   "source": [
    "## 7 Write a Python program to count the number of each character of a text file.\n",
    "\n"
   ]
  },
  {
   "cell_type": "code",
   "execution_count": 1,
   "metadata": {},
   "outputs": [
    {
     "name": "stdout",
     "output_type": "stream",
     "text": [
      "File Name: abc.txt\n",
      "Counter({' ': 192,\n",
      "         'E': 113,\n",
      "         'T': 97,\n",
      "         'A': 81,\n",
      "         'S': 74,\n",
      "         'R': 73,\n",
      "         'I': 68,\n",
      "         'O': 67,\n",
      "         'N': 60,\n",
      "         'H': 48,\n",
      "         'D': 48,\n",
      "         'M': 31,\n",
      "         'U': 31,\n",
      "         'Y': 27,\n",
      "         'P': 26,\n",
      "         'L': 26,\n",
      "         'G': 25,\n",
      "         'C': 24,\n",
      "         'F': 19,\n",
      "         'B': 14,\n",
      "         '.': 11,\n",
      "         ',': 10,\n",
      "         '[': 10,\n",
      "         ']': 10,\n",
      "         'W': 9,\n",
      "         '1': 7,\n",
      "         '8': 6,\n",
      "         'V': 5,\n",
      "         '0': 5,\n",
      "         'K': 5,\n",
      "         '2': 4,\n",
      "         '3': 4,\n",
      "         '\\n': 4,\n",
      "         'Q': 4,\n",
      "         '-': 3,\n",
      "         '6': 3,\n",
      "         'Z': 3,\n",
      "         \"'\": 2,\n",
      "         'J': 2,\n",
      "         'X': 2,\n",
      "         '4': 1,\n",
      "         '5': 1,\n",
      "         ':': 1,\n",
      "         'Â': 1,\n",
      "         '€': 1,\n",
      "         '“': 1,\n",
      "         '7': 1,\n",
      "         '9': 1})\n"
     ]
    }
   ],
   "source": [
    "import collections\n",
    "import pprint\n",
    "file_input = input('File Name: ')\n",
    "with open(file_input, 'r') as info:\n",
    "    count = collections.Counter(info.read().upper())\n",
    "    value = pprint.pformat(count)\n",
    "print(value)"
   ]
  },
  {
   "cell_type": "markdown",
   "metadata": {},
   "source": [
    "## 8 Write a Python program to get the top stories from Google news.\n",
    "\n"
   ]
  },
  {
   "cell_type": "code",
   "execution_count": 2,
   "metadata": {
    "scrolled": false
   },
   "outputs": [
    {
     "name": "stdout",
     "output_type": "stream",
     "text": [
      "Ammonium nitrate may have sparked the Beirut explosion. It happened in Texas, in 1947, too - CNN\n",
      "https://news.google.com/__i/rss/rd/articles/CBMiV2h0dHBzOi8vd3d3LmNubi5jb20vMjAyMC8wOC8wNS9taWRkbGVlYXN0L2FtbW9uaXVtLW5pdHJhdGUtYmVpcnV0LWJsYXN0LWludGwvaW5kZXguaHRtbNIBW2h0dHBzOi8vYW1wLmNubi5jb20vY25uLzIwMjAvMDgvMDUvbWlkZGxlZWFzdC9hbW1vbml1bS1uaXRyYXRlLWJlaXJ1dC1ibGFzdC1pbnRsL2luZGV4Lmh0bWw?oc=5\n",
      "Wed, 05 Aug 2020 16:51:00 GMT\n",
      "------------------------------------------------------------\n",
      "'Blatant disrespect of Black women': Women leaders criticize treatment of Black women being considered as Biden VP pick - USA TODAY\n",
      "https://news.google.com/__i/rss/rd/articles/CBMijwFodHRwczovL3d3dy51c2F0b2RheS5jb20vc3RvcnkvbmV3cy9wb2xpdGljcy9lbGVjdGlvbnMvMjAyMC8wOC8wNS9ibGFjay13b21lbi1sZWFkZXJzLWNyaXRpY2l6ZS10cmVhdG1lbnQtYmxhY2stYmlkZW4tdnAtY29udGVuZGVycy8zMjk4MjUyMDAxL9IBJ2h0dHBzOi8vYW1wLnVzYXRvZGF5LmNvbS9hbXAvMzI5ODI1MjAwMQ?oc=5\n",
      "Wed, 05 Aug 2020 16:01:00 GMT\n",
      "------------------------------------------------------------\n",
      "Johnson & Johnson reaches deal with U.S. for 100 million doses of coronavirus vaccine at more than $1 billion - CNBC\n",
      "https://news.google.com/__i/rss/rd/articles/CBMigAFodHRwczovL3d3dy5jbmJjLmNvbS8yMDIwLzA4LzA1L2pqLXJlYWNoZXMtZGVhbC13aXRoLXVzLWZvci0xMDAtbWlsbGlvbi1kb3Nlcy1vZi1jb3JvbmF2aXJ1cy12YWNjaW5lLWF0LW1vcmUtdGhhbi0xLWJpbGxpb24uaHRtbNIBhAFodHRwczovL3d3dy5jbmJjLmNvbS9hbXAvMjAyMC8wOC8wNS9qai1yZWFjaGVzLWRlYWwtd2l0aC11cy1mb3ItMTAwLW1pbGxpb24tZG9zZXMtb2YtY29yb25hdmlydXMtdmFjY2luZS1hdC1tb3JlLXRoYW4tMS1iaWxsaW9uLmh0bWw?oc=5\n",
      "Wed, 05 Aug 2020 12:54:00 GMT\n",
      "------------------------------------------------------------\n",
      "Sally Yates, Defending DOJ, Says Michael Flynn Talks Neutered U.S. Russia Policy - NPR\n",
      "https://news.google.com/__i/rss/rd/articles/CBMidmh0dHBzOi8vd3d3Lm5wci5vcmcvMjAyMC8wOC8wNS84OTkzMTk2NzYvc2FsbHkteWF0ZXMtZGVmZW5kaW5nLWRvai1zYXlzLW1pY2hhZWwtZmx5bm4tdGFsa3MtbmV1dGVyZWQtdS1zLXJ1c3NpYS1wb2xpY3nSAQA?oc=5\n",
      "Wed, 05 Aug 2020 15:48:59 GMT\n",
      "------------------------------------------------------------\n",
      "Cori Bush: leading organizer and 'true progressive' on course to make history - The Guardian\n",
      "https://news.google.com/__i/rss/rd/articles/CBMiVGh0dHBzOi8vd3d3LnRoZWd1YXJkaWFuLmNvbS91cy1uZXdzLzIwMjAvYXVnLzA1L2NvcmktYnVzaC1taXNzb3VyaS13aWxsaWFtLWxhY3ktY2xhedIBVGh0dHBzOi8vYW1wLnRoZWd1YXJkaWFuLmNvbS91cy1uZXdzLzIwMjAvYXVnLzA1L2NvcmktYnVzaC1taXNzb3VyaS13aWxsaWFtLWxhY3ktY2xheQ?oc=5\n",
      "Wed, 05 Aug 2020 15:57:00 GMT\n",
      "------------------------------------------------------------\n",
      "New York City sets up quarantine checkpoints as it toughens state travel restrictions - CNBC\n",
      "https://news.google.com/__i/rss/rd/articles/CBMiemh0dHBzOi8vd3d3LmNuYmMuY29tLzIwMjAvMDgvMDUvbmV3LXlvcmstY2l0eS1zZXRzLXVwLXF1YXJhbnRpbmUtY2hlY2twb2ludHMtYXMtaXQtdG91Z2hlbnMtc3RhdGUtdHJhdmVsLXJlc3RyaWN0aW9ucy5odG1s0gF-aHR0cHM6Ly93d3cuY25iYy5jb20vYW1wLzIwMjAvMDgvMDUvbmV3LXlvcmstY2l0eS1zZXRzLXVwLXF1YXJhbnRpbmUtY2hlY2twb2ludHMtYXMtaXQtdG91Z2hlbnMtc3RhdGUtdHJhdmVsLXJlc3RyaWN0aW9ucy5odG1s?oc=5\n",
      "Wed, 05 Aug 2020 14:54:00 GMT\n",
      "------------------------------------------------------------\n",
      "Top Senate Republican pushes back against Trump's unsubstantiated claims mail-in-voting leads to mass fraud - CNN\n",
      "https://news.google.com/__i/rss/rd/articles/CBMiWmh0dHBzOi8vd3d3LmNubi5jb20vMjAyMC8wOC8wNS9wb2xpdGljcy9yZXB1YmxpY2Fucy10cnVtcC12b3RlLWJ5LW1haWwtY29uY2VybnMvaW5kZXguaHRtbNIBXmh0dHBzOi8vYW1wLmNubi5jb20vY25uLzIwMjAvMDgvMDUvcG9saXRpY3MvcmVwdWJsaWNhbnMtdHJ1bXAtdm90ZS1ieS1tYWlsLWNvbmNlcm5zL2luZGV4Lmh0bWw?oc=5\n",
      "Wed, 05 Aug 2020 17:14:00 GMT\n",
      "------------------------------------------------------------\n",
      "Facebook’s fact-checkers have ruled claims in Trump ads are false — but no one is telling Facebook’s users - The Washington Post\n",
      "https://news.google.com/__i/rss/rd/articles/CBMiTmh0dHBzOi8vd3d3Lndhc2hpbmd0b25wb3N0LmNvbS90ZWNobm9sb2d5LzIwMjAvMDgvMDUvdHJ1bXAtZmFjZWJvb2stYWRzLWZhbHNlL9IBXWh0dHBzOi8vd3d3Lndhc2hpbmd0b25wb3N0LmNvbS90ZWNobm9sb2d5LzIwMjAvMDgvMDUvdHJ1bXAtZmFjZWJvb2stYWRzLWZhbHNlLz9vdXRwdXRUeXBlPWFtcA?oc=5\n",
      "Wed, 05 Aug 2020 16:30:00 GMT\n",
      "------------------------------------------------------------\n",
      "John Thompson, former US Census Bureau chief, on results of census deadline changing - ABC News\n",
      "https://news.google.com/__i/rss/rd/articles/CBMiK2h0dHBzOi8vd3d3LnlvdXR1YmUuY29tL3dhdGNoP3Y9YXp3bzB3UmZVTzDSAQA?oc=5\n",
      "Wed, 05 Aug 2020 01:26:58 GMT\n",
      "------------------------------------------------------------\n",
      "‘It’s clear we need the help’: Fast-dwindling federal aid pits Florida governments against each other - The Washington Post\n",
      "https://news.google.com/__i/rss/rd/articles/CBMiVGh0dHBzOi8vd3d3Lndhc2hpbmd0b25wb3N0LmNvbS9idXNpbmVzcy8yMDIwLzA4LzA1L2Zsb3JpZGEtY29yb25hdmlydXMtYWlkLWNvbmdyZXNzL9IBY2h0dHBzOi8vd3d3Lndhc2hpbmd0b25wb3N0LmNvbS9idXNpbmVzcy8yMDIwLzA4LzA1L2Zsb3JpZGEtY29yb25hdmlydXMtYWlkLWNvbmdyZXNzLz9vdXRwdXRUeXBlPWFtcA?oc=5\n",
      "Wed, 05 Aug 2020 10:00:00 GMT\n",
      "------------------------------------------------------------\n",
      "At Site Of Razed Mosque, India's Modi Lays Foundation For Controversial Hindu Temple - NPR\n",
      "https://news.google.com/__i/rss/rd/articles/CBMieWh0dHBzOi8vd3d3Lm5wci5vcmcvMjAyMC8wOC8wNS84OTkyNDc1MDcvYXQtc2l0ZS1vZi1yYXplZC1tb3NxdWUtaW5kaWFzLW1vZGktbGF5cy1mb3VuZGF0aW9uLWZvci1jb250cm92ZXJzaWFsLWhpbmR1LXRlbXDSAQA?oc=5\n",
      "Wed, 05 Aug 2020 12:22:02 GMT\n",
      "------------------------------------------------------------\n",
      "Top U.S. official's visit to Taiwan may anger China - Reuters\n",
      "https://news.google.com/__i/rss/rd/articles/CBMiK2h0dHBzOi8vd3d3LnlvdXR1YmUuY29tL3dhdGNoP3Y9Q0dHSzRfUWRGSmvSAQA?oc=5\n",
      "Wed, 05 Aug 2020 11:42:54 GMT\n",
      "------------------------------------------------------------\n",
      "Trump views China’s Communist Party as a threat. Young Chinese see it as a ticket to a better future. - The Washington Post\n",
      "https://news.google.com/__i/rss/rd/articles/CBMizwFodHRwczovL3d3dy53YXNoaW5ndG9ucG9zdC5jb20vd29ybGQvYXNpYV9wYWNpZmljL3RydW1wLXZpZXdzLWNoaW5hcy1jb21tdW5pc3QtcGFydHktYXMtYS10aHJlYXQteW91bmctY2hpbmVzZS1zZWUtaXQtYXMtYS10aWNrZXQtdG8tYS1iZXR0ZXItZnV0dXJlLzIwMjAvMDgvMDMvNmE5NTBjMGEtYzgwMy0xMWVhLWE4MjUtODcyMjAwNGU0MTUwX3N0b3J5Lmh0bWzSAd4BaHR0cHM6Ly93d3cud2FzaGluZ3RvbnBvc3QuY29tL3dvcmxkL2FzaWFfcGFjaWZpYy90cnVtcC12aWV3cy1jaGluYXMtY29tbXVuaXN0LXBhcnR5LWFzLWEtdGhyZWF0LXlvdW5nLWNoaW5lc2Utc2VlLWl0LWFzLWEtdGlja2V0LXRvLWEtYmV0dGVyLWZ1dHVyZS8yMDIwLzA4LzAzLzZhOTUwYzBhLWM4MDMtMTFlYS1hODI1LTg3MjIwMDRlNDE1MF9zdG9yeS5odG1sP291dHB1dFR5cGU9YW1w?oc=5\n",
      "Tue, 04 Aug 2020 10:00:00 GMT\n",
      "------------------------------------------------------------\n",
      "U.S., Chinese Officials to Meet Aug. 15, Assess Trade Deal - The Wall Street Journal\n",
      "https://news.google.com/__i/rss/rd/articles/CBMiR2h0dHBzOi8vd3d3Lndzai5jb20vYXJ0aWNsZXMvY2hpbmEtdS1zLXRvLWFzc2Vzcy10cmFkZS1kZWFsLTExNTk2NTcyMzUw0gEA?oc=5\n",
      "Wed, 05 Aug 2020 01:38:00 GMT\n",
      "------------------------------------------------------------\n",
      "3 Most Popular Coronavirus Stocks on Robinhood: Are They Buys? - Motley Fool\n",
      "https://news.google.com/__i/rss/rd/articles/CBMiYWh0dHBzOi8vd3d3LmZvb2wuY29tL2ludmVzdGluZy8yMDIwLzA4LzA1LzMtbW9zdC1wb3B1bGFyLWNvcm9uYXZpcnVzLXN0b2Nrcy1vbi1yb2Jpbmhvb2QtYXJlLmFzcHjSAWVodHRwczovL3d3dy5mb29sLmNvbS9hbXAvaW52ZXN0aW5nLzIwMjAvMDgvMDUvMy1tb3N0LXBvcHVsYXItY29yb25hdmlydXMtc3RvY2tzLW9uLXJvYmluaG9vZC1hcmUuYXNweA?oc=5\n",
      "Wed, 05 Aug 2020 10:41:00 GMT\n",
      "------------------------------------------------------------\n",
      "Instagram launches Reels, its attempt to keep you off TikTok - The Verge\n",
      "https://news.google.com/__i/rss/rd/articles/CBMieWh0dHBzOi8vd3d3LnRoZXZlcmdlLmNvbS8yMDIwLzgvNS8yMTM1NDExNy9pbnN0YWdyYW0tcmVlbHMtdGlrdG9rLXZpbmUtc2hvcnQtdmlkZW9zLXN0b3JpZXMtZXhwbG9yZS1tdXNpYy1lZmZlY3RzLWZpbHRlcnPSAYYBaHR0cHM6Ly93d3cudGhldmVyZ2UuY29tL3BsYXRmb3JtL2FtcC8yMDIwLzgvNS8yMTM1NDExNy9pbnN0YWdyYW0tcmVlbHMtdGlrdG9rLXZpbmUtc2hvcnQtdmlkZW9zLXN0b3JpZXMtZXhwbG9yZS1tdXNpYy1lZmZlY3RzLWZpbHRlcnM?oc=5\n",
      "Wed, 05 Aug 2020 13:00:00 GMT\n",
      "------------------------------------------------------------\n",
      "Moderna Earnings: Coronavirus Vaccine Maker Tops Views - Investor's Business Daily\n",
      "https://news.google.com/__i/rss/rd/articles/CBMiYGh0dHBzOi8vd3d3LmludmVzdG9ycy5jb20vbmV3cy90ZWNobm9sb2d5L21vZGVybmEtZWFybmluZ3MtY29yb25hdmlydXMtdmFjY2luZS1tYWtlci1tcm5hLXN0b2NrL9IBAA?oc=5\n",
      "Wed, 05 Aug 2020 13:43:00 GMT\n",
      "------------------------------------------------------------\n",
      "CVS raises profit forecast as low medical costs boost health insurance unit - Yahoo Finance\n",
      "https://news.google.com/__i/rss/rd/articles/CBMiT2h0dHBzOi8vZmluYW5jZS55YWhvby5jb20vbmV3cy9jdnMtcXVhcnRlcmx5LXByb2ZpdC1zb2Fycy1uZWFybHktMTA0NzEwNzQyLmh0bWzSAVdodHRwczovL2ZpbmFuY2UueWFob28uY29tL2FtcGh0bWwvbmV3cy9jdnMtcXVhcnRlcmx5LXByb2ZpdC1zb2Fycy1uZWFybHktMTA0NzEwNzQyLmh0bWw?oc=5\n",
      "Wed, 05 Aug 2020 10:47:00 GMT\n",
      "------------------------------------------------------------\n",
      "Samsung Galaxy Watch 3 heart monitoring ECG feature secures FDA clearance - The Verge\n",
      "https://news.google.com/__i/rss/rd/articles/CBMiZGh0dHBzOi8vd3d3LnRoZXZlcmdlLmNvbS8yMDIwLzgvNS8yMTM1NTY0Ni9zYW1zdW5nLWdhbGF4eS13YXRjaC0zLWhlYXJ0LW1vbml0b3JpbmctZWNnLWZkYS1jbGVhcmFuY2XSAXFodHRwczovL3d3dy50aGV2ZXJnZS5jb20vcGxhdGZvcm0vYW1wLzIwMjAvOC81LzIxMzU1NjQ2L3NhbXN1bmctZ2FsYXh5LXdhdGNoLTMtaGVhcnQtbW9uaXRvcmluZy1lY2ctZmRhLWNsZWFyYW5jZQ?oc=5\n",
      "Wed, 05 Aug 2020 16:50:37 GMT\n",
      "------------------------------------------------------------\n",
      "Samsung will offer an Xbox Game Pass Bundle with the Note 20 - Engadget\n",
      "https://news.google.com/__i/rss/rd/articles/CBMiaWh0dHBzOi8vd3d3LmVuZ2FkZ2V0LmNvbS9zYW1zdW5nLWNyZWRpdC14Ym94LWdhbWUtcGFzcy11bHRpbWF0ZS1idW5kbGUteGNsb3VkLWNsb3VkLWdhbWluZy0xNDU3NTY2MzIuaHRtbNIBbWh0dHBzOi8vd3d3LmVuZ2FkZ2V0LmNvbS9hbXAvc2Ftc3VuZy1jcmVkaXQteGJveC1nYW1lLXBhc3MtdWx0aW1hdGUtYnVuZGxlLXhjbG91ZC1jbG91ZC1nYW1pbmctMTQ1NzU2NjMyLmh0bWw?oc=5\n",
      "Wed, 05 Aug 2020 15:08:40 GMT\n",
      "------------------------------------------------------------\n",
      "As Call of Duty: Warzone popularity explodes, Activision prepares to reveal Black Ops Cold War within its battle royale - Eurogamer.net\n",
      "https://news.google.com/__i/rss/rd/articles/CBMiowFodHRwczovL3d3dy5ldXJvZ2FtZXIubmV0L2FydGljbGVzLzIwMjAtMDgtMDUtYXMtY2FsbC1vZi1kdXR5LXdhcnpvbmUtcG9wdWxhcml0eS1leHBsb2Rlcy1hY3RpdmlzaW9uLXByZXBhcmVzLXRvLXJldmVhbC1ibGFjay1vcHMtY29sZC13YXItd2l0aGluLWl0cy1iYXR0bGUtcm95YWxl0gGeAWh0dHBzOi8vd3d3LmV1cm9nYW1lci5uZXQvYW1wLzIwMjAtMDgtMDUtYXMtY2FsbC1vZi1kdXR5LXdhcnpvbmUtcG9wdWxhcml0eS1leHBsb2Rlcy1hY3RpdmlzaW9uLXByZXBhcmVzLXRvLXJldmVhbC1ibGFjay1vcHMtY29sZC13YXItd2l0aGluLWl0cy1iYXR0bGUtcm95YWxl?oc=5\n",
      "Wed, 05 Aug 2020 09:32:00 GMT\n",
      "------------------------------------------------------------\n",
      "Virginia becomes first US state to debut COVID-19 tracing app using Apple and Google API - 9to5Mac\n",
      "https://news.google.com/__i/rss/rd/articles/CBMieGh0dHBzOi8vOXRvNW1hYy5jb20vMjAyMC8wOC8wNS92aXJnaW5pYS1iZWNvbWVzLWZpcnN0LXVzLXN0YXRlLXRvLWRlYnV0LWNvdmlkLTE5LXRyYWNpbmctYXBwLXVzaW5nLWFwcGxlLWFuZC1nb29nbGUtYXBpL9IBfGh0dHBzOi8vOXRvNW1hYy5jb20vMjAyMC8wOC8wNS92aXJnaW5pYS1iZWNvbWVzLWZpcnN0LXVzLXN0YXRlLXRvLWRlYnV0LWNvdmlkLTE5LXRyYWNpbmctYXBwLXVzaW5nLWFwcGxlLWFuZC1nb29nbGUtYXBpL2FtcC8?oc=5\n",
      "Wed, 05 Aug 2020 13:16:00 GMT\n",
      "------------------------------------------------------------\n",
      "Ellen DeGeneres' brother calls attacks on his sister 'bulls--t' - New York Post \n",
      "https://news.google.com/__i/rss/rd/articles/CBMiWmh0dHBzOi8vbnlwb3N0LmNvbS8yMDIwLzA4LzA1L2VsbGVuLWRlZ2VuZXJlcy1icm90aGVyLWNhbGxzLWF0dGFja3Mtb24taGlzLXNpc3Rlci1idWxscy10L9IBXmh0dHBzOi8vbnlwb3N0LmNvbS8yMDIwLzA4LzA1L2VsbGVuLWRlZ2VuZXJlcy1icm90aGVyLWNhbGxzLWF0dGFja3Mtb24taGlzLXNpc3Rlci1idWxscy10L2FtcC8?oc=5\n",
      "Wed, 05 Aug 2020 17:41:00 GMT\n",
      "------------------------------------------------------------\n",
      "Megan Fox declares love for Machine Gun Kelly in steamy Instagram - Page Six\n",
      "https://news.google.com/__i/rss/rd/articles/CBMiYWh0dHBzOi8vcGFnZXNpeC5jb20vMjAyMC8wOC8wNS9tZWdhbi1mb3gtZGVjbGFyZXMtbG92ZS1mb3ItbWFjaGluZS1ndW4ta2VsbHktaW4tc3RlYW15LWluc3RhZ3JhbS_SAWVodHRwczovL3BhZ2VzaXguY29tLzIwMjAvMDgvMDUvbWVnYW4tZm94LWRlY2xhcmVzLWxvdmUtZm9yLW1hY2hpbmUtZ3VuLWtlbGx5LWluLXN0ZWFteS1pbnN0YWdyYW0vYW1wLw?oc=5\n",
      "Wed, 05 Aug 2020 16:54:00 GMT\n",
      "------------------------------------------------------------\n",
      "‘Harry Potter’ Films To Stream On Peacock After Wrapping HBO Max Cameo - Deadline\n",
      "https://news.google.com/__i/rss/rd/articles/CBMibWh0dHBzOi8vZGVhZGxpbmUuY29tLzIwMjAvMDgvaGFycnktcG90dGVyLWZpbG1zLXRvLXN0cmVhbS1vbi1wZWFjb2NrLWFmdGVyLXdyYXBwaW5nLWhiby1tYXgtY2FtZW8tMTIwMzAwNDg0MC_SAXFodHRwczovL2RlYWRsaW5lLmNvbS8yMDIwLzA4L2hhcnJ5LXBvdHRlci1maWxtcy10by1zdHJlYW0tb24tcGVhY29jay1hZnRlci13cmFwcGluZy1oYm8tbWF4LWNhbWVvLTEyMDMwMDQ4NDAvYW1wLw?oc=5\n",
      "Wed, 05 Aug 2020 16:25:00 GMT\n",
      "------------------------------------------------------------\n",
      "Kourtney Kardashian reveals her son, 5, shaved his waist-length hair: ‘I am not ok’ - Fox News\n",
      "https://news.google.com/__i/rss/rd/articles/CBMiXGh0dHBzOi8vd3d3LmZveG5ld3MuY29tL2VudGVydGFpbm1lbnQva291cnRuZXkta2FyZGFzaGlhbi1zb24tcmVpZ24td2Fpc3QtbGVuZ3RoLWhhaXItc2hhdmVk0gFgaHR0cHM6Ly93d3cuZm94bmV3cy5jb20vZW50ZXJ0YWlubWVudC9rb3VydG5leS1rYXJkYXNoaWFuLXNvbi1yZWlnbi13YWlzdC1sZW5ndGgtaGFpci1zaGF2ZWQuYW1w?oc=5\n",
      "Wed, 05 Aug 2020 13:06:19 GMT\n",
      "------------------------------------------------------------\n",
      "UConn cancels football season amid pandemic fears: 'An unacceptable level of risk' - Fox News\n",
      "https://news.google.com/__i/rss/rd/articles/CBMiUGh0dHBzOi8vd3d3LmZveG5ld3MuY29tL3Nwb3J0cy91Y29ubi1jYW5jZWxzLWZvb3RiYWxsLXNlYXNvbi1hbWlkLXBhbmRlbWljLWZlYXJz0gFUaHR0cHM6Ly93d3cuZm94bmV3cy5jb20vc3BvcnRzL3Vjb25uLWNhbmNlbHMtZm9vdGJhbGwtc2Vhc29uLWFtaWQtcGFuZGVtaWMtZmVhcnMuYW1w?oc=5\n",
      "Wed, 05 Aug 2020 14:09:05 GMT\n",
      "------------------------------------------------------------\n",
      "Dolphins WR Albert Wilson to opt out of 2020 season - ESPN\n",
      "https://news.google.com/__i/rss/rd/articles/CBMiVWh0dHBzOi8vd3d3LmVzcG4uY29tL25mbC9zdG9yeS9fL2lkLzI5NjAxMzcxL2RvcGhpbnMtd3ItYWxiZXJ0LXdpbHNvbi1vcHQtMjAyMC1zZWFzb27SAWJodHRwczovL3d3dy5lc3BuLmNvbS9uZmwvc3RvcnkvXy9pZC8yOTYwMTM3MS9kb3BoaW5zLXdyLWFsYmVydC13aWxzb24tb3B0LTIwMjAtc2Vhc29uP3BsYXRmb3JtPWFtcA?oc=5\n",
      "Wed, 05 Aug 2020 16:03:04 GMT\n",
      "------------------------------------------------------------\n",
      "NHL Highlights | Hurricanes @ Rangers, GM3 - Aug. 4, 2020 - NHL\n",
      "https://news.google.com/__i/rss/rd/articles/CBMiK2h0dHBzOi8vd3d3LnlvdXR1YmUuY29tL3dhdGNoP3Y9YUdWTFEyWFFwRHPSAQA?oc=5\n",
      "Wed, 05 Aug 2020 03:17:38 GMT\n",
      "------------------------------------------------------------\n",
      "How Tyrann Mathieu Found His Way Through the Chaos On and Off the Field - Sports Illustrated\n",
      "https://news.google.com/__i/rss/rd/articles/CBMiYmh0dHBzOi8vd3d3LnNpLmNvbS9uZmwvMjAyMC8wOC8wNS90eXJhbm4tbWF0aGlldS1zdXBlci1ib3dsLXllYXItYmxhY2stbGl2ZXMtbWF0dGVyLXNvY2lhbC1qdXN0aWNl0gFnaHR0cHM6Ly93d3cuc2kuY29tLy5hbXAvbmZsLzIwMjAvMDgvMDUvdHlyYW5uLW1hdGhpZXUtc3VwZXItYm93bC15ZWFyLWJsYWNrLWxpdmVzLW1hdHRlci1zb2NpYWwtanVzdGljZQ?oc=5\n",
      "Wed, 05 Aug 2020 12:30:00 GMT\n",
      "------------------------------------------------------------\n",
      "NASA astronaut on SpaceX Crew Dragon return: ‘Sounded like an animal’ - The Verge\n",
      "https://news.google.com/__i/rss/rd/articles/CBMiWGh0dHBzOi8vd3d3LnRoZXZlcmdlLmNvbS8yMTM1NDc0Mi9uYXNhLXNwYWNleC1jcmV3LWRyYWdvbi1ib2ItYmVobmtlbi1kb3VnLWh1cmxleS1yZXR1cm7SAWVodHRwczovL3d3dy50aGV2ZXJnZS5jb20vcGxhdGZvcm0vYW1wLzIxMzU0NzQyL25hc2Etc3BhY2V4LWNyZXctZHJhZ29uLWJvYi1iZWhua2VuLWRvdWctaHVybGV5LXJldHVybg?oc=5\n",
      "Wed, 05 Aug 2020 13:21:16 GMT\n",
      "------------------------------------------------------------\n",
      "SpaceX launches and lands prototype of its Mars rocket Starship in key short flight test - CNBC\n",
      "https://news.google.com/__i/rss/rd/articles/CBMiaWh0dHBzOi8vd3d3LmNuYmMuY29tLzIwMjAvMDgvMDUvc3BhY2V4LWxhdW5jaGVzLWxhbmRzLXN0YXJzaGlwLXByb3RvdHlwZS1yb2NrZXQtaW4tc2hvcnQtZmxpZ2h0LXRlc3QuaHRtbNIBbWh0dHBzOi8vd3d3LmNuYmMuY29tL2FtcC8yMDIwLzA4LzA1L3NwYWNleC1sYXVuY2hlcy1sYW5kcy1zdGFyc2hpcC1wcm90b3R5cGUtcm9ja2V0LWluLXNob3J0LWZsaWdodC10ZXN0Lmh0bWw?oc=5\n",
      "Wed, 05 Aug 2020 13:40:00 GMT\n",
      "------------------------------------------------------------\n",
      "Happy anniversary, Curiosity! NASA rover marks 8 years on Mars - Space.com\n",
      "https://news.google.com/__i/rss/rd/articles/CBMiQGh0dHBzOi8vd3d3LnNwYWNlLmNvbS9uYXNhLW1hcnMtcm92ZXItY3VyaW9zaXR5LWVpZ2h0LXllYXJzLmh0bWzSAURodHRwczovL3d3dy5zcGFjZS5jb20vYW1wL25hc2EtbWFycy1yb3Zlci1jdXJpb3NpdHktZWlnaHQteWVhcnMuaHRtbA?oc=5\n",
      "Wed, 05 Aug 2020 11:01:00 GMT\n",
      "------------------------------------------------------------\n",
      "Massive ancient temple complex may lurk beneath famous Northern Ireland fort - Live Science\n",
      "https://news.google.com/__i/rss/rd/articles/CBMiSGh0dHBzOi8vd3d3LmxpdmVzY2llbmNlLmNvbS9pcm9uLWFnZS10ZW1wbGVzLW1lZGlldmFsLWtpbmdzLWlyZWxhbmQuaHRtbNIBTGh0dHBzOi8vd3d3LmxpdmVzY2llbmNlLmNvbS9hbXAvaXJvbi1hZ2UtdGVtcGxlcy1tZWRpZXZhbC1raW5ncy1pcmVsYW5kLmh0bWw?oc=5\n",
      "Wed, 05 Aug 2020 11:00:00 GMT\n",
      "------------------------------------------------------------\n",
      "Floyd County sees 383 new COVID-19 cases in the past two weeks - Rome News-Tribune\n",
      "https://news.google.com/__i/rss/rd/articles/CBMiqAFodHRwczovL3d3dy5ub3J0aHdlc3RnZW9yZ2lhbmV3cy5jb20vcm9tZS9uZXdzL2JpZ3N0b3J5L2Zsb3lkLWNvdW50eS1zZWVzLTM4My1uZXctY292aWQtMTktY2FzZXMtaW4tdGhlLXBhc3QtdHdvLXdlZWtzL2FydGljbGVfODQ2ZWQyMTgtZDRmMi0xMWVhLTliNjItYmZkMjQ2Njc1NTQwLmh0bWzSAQA?oc=5\n",
      "Mon, 03 Aug 2020 19:00:00 GMT\n",
      "------------------------------------------------------------\n",
      "SARS-CoV-2 mRNA vaccine design enabled by prototype pathogen preparedness - Nature.com\n",
      "https://news.google.com/__i/rss/rd/articles/CBMiMWh0dHBzOi8vd3d3Lm5hdHVyZS5jb20vYXJ0aWNsZXMvczQxNTg2LTAyMC0yNjIyLTDSAQA?oc=5\n",
      "Wed, 05 Aug 2020 09:02:43 GMT\n",
      "------------------------------------------------------------\n",
      "CDC warns parents of an Acute Flaccid Myelitis outbreak that can cause permanent paralysis, respiratory failu - MassLive.com\n",
      "https://news.google.com/__i/rss/rd/articles/CBMimQFodHRwczovL3d3dy5tYXNzbGl2ZS5jb20vbmV3cy8yMDIwLzA4L2NkYy13YXJucy1wYXJlbnRzLW9mLWFuLWFjdXRlLWZsYWNjaWQtbXllbGl0aXMtb3V0YnJlYWstdGhhdC1jYW4tY2F1c2UtcGVybWFuZW50LXBhcmFseXNpcy1yZXNwaXJhdG9yeS1mYWlsdXJlLmh0bWzSAagBaHR0cHM6Ly93d3cubWFzc2xpdmUuY29tL25ld3MvMjAyMC8wOC9jZGMtd2FybnMtcGFyZW50cy1vZi1hbi1hY3V0ZS1mbGFjY2lkLW15ZWxpdGlzLW91dGJyZWFrLXRoYXQtY2FuLWNhdXNlLXBlcm1hbmVudC1wYXJhbHlzaXMtcmVzcGlyYXRvcnktZmFpbHVyZS5odG1sP291dHB1dFR5cGU9YW1w?oc=5\n",
      "Wed, 05 Aug 2020 11:51:00 GMT\n",
      "------------------------------------------------------------\n",
      "Weed is not good for your heart, studies say - CNN\n",
      "https://news.google.com/__i/rss/rd/articles/CBMiTmh0dHBzOi8vd3d3LmNubi5jb20vMjAyMC8wOC8wNS9oZWFsdGgvd2VlZC1tYXJpanVhbmEtaGVhcnQtd2VsbG5lc3MvaW5kZXguaHRtbNIBUmh0dHBzOi8vYW1wLmNubi5jb20vY25uLzIwMjAvMDgvMDUvaGVhbHRoL3dlZWQtbWFyaWp1YW5hLWhlYXJ0LXdlbGxuZXNzL2luZGV4Lmh0bWw?oc=5\n",
      "Wed, 05 Aug 2020 09:31:00 GMT\n",
      "------------------------------------------------------------\n"
     ]
    }
   ],
   "source": [
    "import bs4\n",
    "from bs4 import BeautifulSoup as soup\n",
    "from urllib.request import urlopen\n",
    "\n",
    "news_url=\"https://news.google.com/news/rss\"\n",
    "Client=urlopen(news_url)\n",
    "xml_page=Client.read()\n",
    "Client.close()\n",
    "\n",
    "soup_page=soup(xml_page,\"xml\")\n",
    "news_list=soup_page.findAll(\"item\")\n",
    "# Print news title, url and publish date\n",
    "for news in news_list:\n",
    "    print(news.title.text)\n",
    "    print(news.link.text)\n",
    "    print(news.pubDate.text)\n",
    "    print(\"-\"*60)\n"
   ]
  },
  {
   "cell_type": "markdown",
   "metadata": {},
   "source": [
    "## 9 Write a Python program to get a list of locally installed Python modules.\n",
    "\n"
   ]
  },
  {
   "cell_type": "code",
   "execution_count": 3,
   "metadata": {},
   "outputs": [
    {
     "name": "stdout",
     "output_type": "stream",
     "text": [
      "alabaster==0.7.12\n",
      "anaconda-client==1.7.2\n",
      "anaconda-navigator==1.9.12\n",
      "anaconda-project==0.8.3\n",
      "argh==0.26.2\n",
      "asn1crypto==1.3.0\n",
      "astroid==2.3.3\n",
      "astropy==4.0\n",
      "atomicwrites==1.3.0\n",
      "attrs==19.3.0\n",
      "autopep8==1.4.4\n",
      "babel==2.8.0\n",
      "backcall==0.1.0\n",
      "backports.functools-lru-cache==1.6.1\n",
      "backports.shutil-get-terminal-size==1.0.0\n",
      "backports.tempfile==1.0\n",
      "backports.weakref==1.0.post1\n",
      "bcrypt==3.1.7\n",
      "beautifulsoup4==4.8.2\n",
      "bitarray==1.2.1\n",
      "bkcharts==0.2\n",
      "bleach==3.1.0\n",
      "bokeh==1.4.0\n",
      "boto==2.49.0\n",
      "bottleneck==1.3.2\n",
      "certifi==2019.11.28\n",
      "cffi==1.14.0\n",
      "chardet==3.0.4\n",
      "click==7.0\n",
      "cloudpickle==1.3.0\n",
      "clyent==1.2.2\n",
      "colorama==0.4.3\n",
      "comtypes==1.1.7\n",
      "conda-build==3.18.11\n",
      "conda-package-handling==1.6.0\n",
      "conda-verify==3.4.2\n",
      "conda==4.8.2\n",
      "contextlib2==0.6.0.post1\n",
      "cryptography==2.8\n",
      "cycler==0.10.0\n",
      "cython==0.29.15\n",
      "cytoolz==0.10.1\n",
      "dask==2.11.0\n",
      "decorator==4.4.1\n",
      "defusedxml==0.6.0\n",
      "diff-match-patch==20181111\n",
      "distributed==2.11.0\n",
      "docutils==0.16\n",
      "entrypoints==0.3\n",
      "et-xmlfile==1.0.1\n",
      "fastcache==1.1.0\n",
      "filelock==3.0.12\n",
      "flake8==3.7.9\n",
      "flask==1.1.1\n",
      "fsspec==0.6.2\n",
      "future==0.18.2\n",
      "gevent==1.4.0\n",
      "glob2==0.7\n",
      "greenlet==0.4.15\n",
      "h5py==2.10.0\n",
      "heapdict==1.0.1\n",
      "html5lib==1.0.1\n",
      "hypothesis==5.5.4\n",
      "idna==2.8\n",
      "imageio==2.6.1\n",
      "imagesize==1.2.0\n",
      "importlib-metadata==1.5.0\n",
      "intervaltree==3.0.2\n",
      "ipykernel==5.1.4\n",
      "ipython-genutils==0.2.0\n",
      "ipython==7.12.0\n",
      "ipywidgets==7.5.1\n",
      "isort==4.3.21\n",
      "itsdangerous==1.1.0\n",
      "jdcal==1.4.1\n",
      "jedi==0.14.1\n",
      "jinja2==2.11.1\n",
      "joblib==0.14.1\n",
      "json5==0.9.1\n",
      "jsonschema==3.2.0\n",
      "jupyter-client==5.3.4\n",
      "jupyter-console==6.1.0\n",
      "jupyter-core==4.6.1\n",
      "jupyter==1.0.0\n",
      "jupyterlab-server==1.0.6\n",
      "jupyterlab==1.0.2\n",
      "keyring==21.1.0\n",
      "kiwisolver==1.1.0\n",
      "lazy-object-proxy==1.4.3\n",
      "libarchive-c==2.8\n",
      "llvmlite==0.31.0\n",
      "locket==0.2.0\n",
      "lxml==4.5.0\n",
      "markupsafe==1.1.1\n",
      "matplotlib==3.1.3\n",
      "mccabe==0.6.1\n",
      "menuinst==1.4.16\n",
      "mistune==0.8.4\n",
      "mkl-fft==1.0.15\n",
      "mkl-random==1.1.0\n",
      "mkl-service==2.3.0\n",
      "mock==4.0.1\n",
      "more-itertools==8.2.0\n",
      "mpmath==1.1.0\n",
      "msgpack==0.6.1\n",
      "multipledispatch==0.6.0\n",
      "navigator-updater==0.2.1\n",
      "nbconvert==5.6.1\n",
      "nbformat==5.0.4\n",
      "networkx==2.4\n",
      "nltk==3.4.5\n",
      "nose==1.3.7\n",
      "notebook==6.0.3\n",
      "numba==0.48.0\n",
      "numexpr==2.7.1\n",
      "numpy==1.18.1\n",
      "numpydoc==0.9.2\n",
      "olefile==0.46\n",
      "opencv-python==4.2.0.34\n",
      "openpyxl==3.0.3\n",
      "packaging==20.1\n",
      "pandas==1.0.1\n",
      "pandocfilters==1.4.2\n",
      "paramiko==2.7.1\n",
      "parso==0.5.2\n",
      "partd==1.1.0\n",
      "path==13.1.0\n",
      "pathlib2==2.3.5\n",
      "pathtools==0.1.2\n",
      "patsy==0.5.1\n",
      "pep8==1.7.1\n",
      "pexpect==4.8.0\n",
      "pickleshare==0.7.5\n",
      "pillow==7.0.0\n",
      "pip==20.0.2\n",
      "pkginfo==1.5.0.1\n",
      "pluggy==0.13.1\n",
      "ply==3.11\n",
      "prometheus-client==0.7.1\n",
      "prompt-toolkit==3.0.3\n",
      "psutil==5.6.7\n",
      "py==1.8.1\n",
      "pycodestyle==2.5.0\n",
      "pycosat==0.6.3\n",
      "pycparser==2.19\n",
      "pycrypto==2.6.1\n",
      "pycurl==7.43.0.5\n",
      "pydocstyle==4.0.1\n",
      "pyflakes==2.1.1\n",
      "pygments==2.5.2\n",
      "pylint==2.4.4\n",
      "pynacl==1.3.0\n",
      "pyodbc==4.0.0-unsupported\n",
      "pyopenssl==19.1.0\n",
      "pyparsing==2.4.6\n",
      "pyreadline==2.1\n",
      "pyrsistent==0.15.7\n",
      "pysocks==1.7.1\n",
      "pytest-arraydiff==0.3\n",
      "pytest-astropy-header==0.1.2\n",
      "pytest-astropy==0.8.0\n",
      "pytest-doctestplus==0.5.0\n",
      "pytest-openfiles==0.4.0\n",
      "pytest-remotedata==0.3.2\n",
      "pytest==5.3.5\n",
      "python-dateutil==2.8.1\n",
      "python-jsonrpc-server==0.3.4\n",
      "python-language-server==0.31.7\n",
      "pytz==2019.3\n",
      "pywavelets==1.1.1\n",
      "pywin32-ctypes==0.2.0\n",
      "pywin32==227\n",
      "pywinpty==0.5.7\n",
      "pyyaml==5.3\n",
      "pyzmq==18.1.1\n",
      "qdarkstyle==2.8\n",
      "qtawesome==0.6.1\n",
      "qtconsole==4.6.0\n",
      "qtpy==1.9.0\n",
      "requests==2.22.0\n",
      "rope==0.16.0\n",
      "rtree==0.9.3\n",
      "ruamel-yaml==0.15.87\n",
      "scikit-image==0.16.2\n",
      "scikit-learn==0.21.1\n",
      "scipy==1.4.1\n",
      "seaborn==0.10.0\n",
      "send2trash==1.5.0\n",
      "setuptools==45.2.0.post20200210\n",
      "simplegeneric==0.8.1\n",
      "singledispatch==3.4.0.3\n",
      "six==1.14.0\n",
      "snowballstemmer==2.0.0\n",
      "sortedcollections==1.1.2\n",
      "sortedcontainers==2.1.0\n",
      "soupsieve==1.9.5\n",
      "sphinx==2.4.0\n",
      "sphinxcontrib-applehelp==1.0.1\n",
      "sphinxcontrib-devhelp==1.0.1\n",
      "sphinxcontrib-htmlhelp==1.0.2\n",
      "sphinxcontrib-jsmath==1.0.1\n",
      "sphinxcontrib-qthelp==1.0.2\n",
      "sphinxcontrib-serializinghtml==1.1.3\n",
      "sphinxcontrib-websupport==1.2.0\n",
      "spyder-kernels==1.8.1\n",
      "spyder==4.0.1\n",
      "sqlalchemy==1.3.13\n",
      "statsmodels==0.11.0\n",
      "sympy==1.5.1\n",
      "tables==3.6.1\n",
      "tblib==1.6.0\n",
      "terminado==0.8.3\n",
      "testpath==0.4.4\n",
      "toolz==0.10.0\n",
      "tornado==6.0.3\n",
      "tqdm==4.42.1\n",
      "traitlets==4.3.3\n",
      "ujson==1.35\n",
      "unicodecsv==0.14.1\n",
      "urllib3==1.25.8\n",
      "watchdog==0.10.2\n",
      "wcwidth==0.1.8\n",
      "webencodings==0.5.1\n",
      "werkzeug==1.0.0\n",
      "wheel==0.34.2\n",
      "widgetsnbextension==3.5.1\n",
      "win-inet-pton==1.1.0\n",
      "win-unicode-console==0.5\n",
      "wincertstore==0.2\n",
      "wrapt==1.11.2\n",
      "xlrd==1.2.0\n",
      "xlsxwriter==1.2.7\n",
      "xlwings==0.17.1\n",
      "xlwt==1.3.0\n",
      "xmltodict==0.12.0\n",
      "yapf==0.28.0\n",
      "zict==1.0.0\n",
      "zipp==2.2.0\n"
     ]
    }
   ],
   "source": [
    "import pkg_resources\n",
    "installed_packages = pkg_resources.working_set\n",
    "installed_packages_list = sorted([\"%s==%s\" % (i.key, i.version)\n",
    "     for i in installed_packages])\n",
    "for m in installed_packages_list:\n",
    "    print(m)\n"
   ]
  },
  {
   "cell_type": "markdown",
   "metadata": {},
   "source": [
    "## 10 Write a Python program to display some information about the OS where the script is running.\n",
    "\n"
   ]
  },
  {
   "cell_type": "code",
   "execution_count": null,
   "metadata": {},
   "outputs": [],
   "source": [
    "import platform as pl\n",
    "\n",
    "os_profile = [\n",
    "        'architecture',\n",
    "        'linux_distribution',\n",
    "        'mac_ver',\n",
    "        'machine',\n",
    "        'node',\n",
    "        'platform',\n",
    "        'processor',\n",
    "        'python_build',\n",
    "        'python_compiler',\n",
    "        'python_version',\n",
    "        'release',\n",
    "        'system',\n",
    "        'uname',\n",
    "        'version',\n",
    "    ]\n",
    "for key in os_profile:\n",
    "    if hasattr(pl, key):\n",
    "        print(key +  \": \" + str(getattr(pl, key)()))\n"
   ]
  },
  {
   "cell_type": "markdown",
   "metadata": {},
   "source": [
    "## 11 Write a Python program to check the sum of three elements (each from an array) from three arrays is equal to a target value. Print all those three-element combinations.\n",
    "\n"
   ]
  },
  {
   "cell_type": "code",
   "execution_count": null,
   "metadata": {
    "scrolled": true
   },
   "outputs": [],
   "source": [
    "#perfect\n",
    "X = [10, 20, 20, 20]\n",
    "Y = [10, 20, 30, 40]\n",
    "Z = [10, 30, 40, 20]\n",
    "[(x, y, z) for x in X for y in Y for z in Z if x + y + z == 70]"
   ]
  },
  {
   "cell_type": "code",
   "execution_count": null,
   "metadata": {},
   "outputs": [],
   "source": [
    "from array import*\n",
    "X = array('i',[10, 20, 20, 20])\n",
    "Y = array('i',[10, 20, 30, 40])\n",
    "Z = array('i',[10, 30, 40, 20])\n",
    "target = 70\n",
    "list1=[]\n",
    "\n",
    "for x in X:\n",
    "    for y in Y:\n",
    "        for z in Z:\n",
    "            if x+y+z == target and (x,y,z) not in list1:\n",
    "                list1.append((x,y,z))\n",
    "                print(set(list1))"
   ]
  },
  {
   "cell_type": "markdown",
   "metadata": {},
   "source": [
    "## 12 Write a Python program to create all possible permutations from a given collection of distinct numbers.\n",
    "\n"
   ]
  },
  {
   "cell_type": "code",
   "execution_count": null,
   "metadata": {},
   "outputs": [],
   "source": [
    "from itertools import permutations\n",
    "def permutation():\n",
    "    a = input('Enter the elements of a list of 3 : ')\n",
    "    b = a.split()\n",
    "    print(b)\n",
    "    j = ''.join(b)\n",
    "    print(j)\n",
    "    r = [int (i) for i in str(j)]\n",
    "    p = list(permutations(r))\n",
    "    print(p)\n",
    "permutation()"
   ]
  },
  {
   "cell_type": "code",
   "execution_count": null,
   "metadata": {},
   "outputs": [],
   "source": [
    "import itertools\n",
    "def permu(*args):\n",
    "    for items in itertools.permutations(args):\n",
    "        print (items)\n",
    "permu(1,2,3)"
   ]
  },
  {
   "cell_type": "code",
   "execution_count": null,
   "metadata": {},
   "outputs": [],
   "source": [
    "import itertools\n",
    "num_list =[1,2,3]\n",
    "for items in itertools.permutations(num_list):\n",
    "    print (items)"
   ]
  },
  {
   "cell_type": "code",
   "execution_count": null,
   "metadata": {},
   "outputs": [],
   "source": [
    "import itertools\n",
    "l =[1,2,3]\n",
    "print(list(itertools.permutations(l)))"
   ]
  },
  {
   "cell_type": "code",
   "execution_count": null,
   "metadata": {},
   "outputs": [],
   "source": [
    "import itertools\n",
    "def permu():\n",
    "    l =input('enter a colection of three distinct numbers')\n",
    "    print(list(itertools.permutations(l)))\n",
    "permu()"
   ]
  },
  {
   "cell_type": "markdown",
   "metadata": {},
   "source": [
    "## 14 Write a Python program to add two positive integers without using the '+' operator. Go to the editor\n"
   ]
  },
  {
   "cell_type": "code",
   "execution_count": null,
   "metadata": {},
   "outputs": [],
   "source": [
    "import operator\n",
    "def summ(a,b):\n",
    "    return operator.add(a,b)\n",
    "summ(5,4)"
   ]
  },
  {
   "cell_type": "code",
   "execution_count": null,
   "metadata": {},
   "outputs": [],
   "source": [
    "sum([3, 4])"
   ]
  },
  {
   "cell_type": "markdown",
   "metadata": {},
   "source": [
    "## 15 Write a Python program to check the priority of the four operators (+, -, *, /).\n",
    "\n"
   ]
  },
  {
   "cell_type": "code",
   "execution_count": null,
   "metadata": {},
   "outputs": [],
   "source": [
    "from collections import deque\n",
    "import re\n",
    "\n",
    "__operators__ = \"+-/*\"\n",
    "__parenthesis__ = \"()\"\n",
    "__priority__ = {\n",
    "    '+': 0,\n",
    "    '-': 0,\n",
    "    '*': 1,\n",
    "    '/': 1,\n",
    "}\n",
    "\n",
    "def test_higher_priority(operator1, operator2):\n",
    "    return __priority__[operator1] >= __priority__[operator2]\n",
    "\n",
    "print(test_higher_priority('*','-'))\n",
    "print(test_higher_priority('+','-'))\n",
    "print(test_higher_priority('+','*'))\n",
    "print(test_higher_priority('+','/'))\n",
    "print(test_higher_priority('*','/'))\n"
   ]
  },
  {
   "cell_type": "markdown",
   "metadata": {},
   "source": [
    "## 17 Write a Python program to get all strobogrammatic numbers that are of length n.\n",
    "\n"
   ]
  },
  {
   "cell_type": "code",
   "execution_count": null,
   "metadata": {},
   "outputs": [],
   "source": [
    "#https://github.com/keon/algorithms/blob/master/math/generate_strobogrammtic.py\n",
    "def gen_strobogrammatic(n):\n",
    "    \"\"\"\n",
    "    :type n: int\n",
    "    :rtype: List[str]\n",
    "    \"\"\"\n",
    "    result = helper(n, n)\n",
    "    return result\n",
    "\n",
    "\n",
    "def helper(n, length):\n",
    "    if n == 0:\n",
    "        return [\"\"]\n",
    "    if n == 1:\n",
    "        return [\"1\", \"0\", \"8\"]\n",
    "    middles = helper(n-2, length)\n",
    "    result = []\n",
    "    for middle in middles:\n",
    "        if n != length:\n",
    "            result.append(\"0\" + middle + \"0\")\n",
    "        result.append(\"8\" + middle + \"8\")\n",
    "        result.append(\"1\" + middle + \"1\")\n",
    "        result.append(\"9\" + middle + \"6\")\n",
    "        result.append(\"6\" + middle + \"9\")\n",
    "    return result\n",
    "\n",
    "print(\"n = 2: \\n\",gen_strobogrammatic(2))\n",
    "print(\"n = 3: \\n\",gen_strobogrammatic(3))\n",
    "print(\"n = 4: \\n\",gen_strobogrammatic(4))\n"
   ]
  },
  {
   "cell_type": "markdown",
   "metadata": {},
   "source": [
    "## 18 Write a Python program to find the median among three given numbers. Go to the editor\n"
   ]
  },
  {
   "cell_type": "code",
   "execution_count": null,
   "metadata": {},
   "outputs": [],
   "source": [
    "a, b, c = input(\"Please enter three digits to calculate median from: \").split(' ')\n",
    "l = [int(a),int(b),int(c)]\n",
    "print(sum(l) - max(l) - min(l))"
   ]
  },
  {
   "cell_type": "code",
   "execution_count": null,
   "metadata": {},
   "outputs": [],
   "source": [
    "x = input(\"Input the first number\")\n",
    "y = input(\"Input the second number\")\n",
    "z = input(\"Input the third number\")\n",
    "print(\"Median of the above three numbers -\")\n",
    "\n",
    "if y < x and x < z:\n",
    "    print(x)\n",
    "elif z < x and x < y:\n",
    "    print(x)\n",
    "    \n",
    "elif z < y and y < x:\n",
    "    print(y)\n",
    "elif x < y and y < z:\n",
    "    print(y)\n",
    "    \n",
    "elif y < z and z < x:\n",
    "    print(z)    \n",
    "elif x < z and z < y:\n",
    "    print(z)\n"
   ]
  },
  {
   "cell_type": "code",
   "execution_count": null,
   "metadata": {},
   "outputs": [],
   "source": [
    "x = int(input(\"input the first number\"))\n",
    "y = int(input(\"Input the second number\"))\n",
    "z = int(input(\"Input the third number\"))\n",
    "median =(x+y+z) - max(x,y,z) - min(x,y,z)\n",
    "print(median)"
   ]
  },
  {
   "cell_type": "markdown",
   "metadata": {},
   "source": [
    "## 19 Write a Python program to find the value of n where n degrees of number 2 are written sequentially in a line without spaces.\n",
    "\n"
   ]
  },
  {
   "cell_type": "code",
   "execution_count": null,
   "metadata": {},
   "outputs": [],
   "source": [
    "def ndegrees(num):\n",
    "  ans = True\n",
    "  n, tempn, i = 2, 2, 2\n",
    "  while ans:\n",
    "    if str(tempn) in num:\n",
    "      i += 1\n",
    "      tempn = pow(n, i)\n",
    "    else:\n",
    "      ans = False\n",
    "  return i-1;\n",
    "print(ndegrees(\"2481632\"))\n",
    "print(ndegrees(\"248163264\"))\n"
   ]
  },
  {
   "cell_type": "markdown",
   "metadata": {},
   "source": [
    "## 20 Write a Python program to find the number of zeros at the end of a factorial of a given positive number. \n",
    "## Range of the number(n): (1 = n = 2*109).\n"
   ]
  },
  {
   "cell_type": "code",
   "execution_count": null,
   "metadata": {},
   "outputs": [],
   "source": [
    "def factendzero(n):\n",
    "  x = n // 5\n",
    "  y = x \n",
    "  while x > 0:\n",
    "    x /= 5\n",
    "    y += int(x)\n",
    "  return y\n",
    "       \n",
    "print(factendzero(5))\n",
    "print(factendzero(12))\n",
    "print(factendzero(100))\n"
   ]
  },
  {
   "cell_type": "markdown",
   "metadata": {},
   "source": [
    "## 21 Write a Python program to find the number of notes (Sample of notes: 10, 20, 50, 100, 200 and 500 ) against a given amount.\n",
    "\n",
    "## Range - Number of notes(n) : n (1 = n = 1000000).\n"
   ]
  },
  {
   "cell_type": "code",
   "execution_count": null,
   "metadata": {},
   "outputs": [],
   "source": [
    "def no_notes(a):\n",
    "  Q = [500, 200, 100, 50, 20, 10]\n",
    "  x = 0\n",
    "  for i in range(6):\n",
    "    q = Q[i]\n",
    "    x += int(a / q)\n",
    "    a = int(a % q)\n",
    "  if a > 0:\n",
    "    x = -1\n",
    "  return x\n",
    "print(no_notes(880))\n",
    "print(no_notes(1000))\n"
   ]
  },
  {
   "cell_type": "markdown",
   "metadata": {},
   "source": [
    "## 21 Write a Python program to find the number of notes (Sample of notes: 10, 20, 50, 100, 200 and 500 ) against a given amount. \n"
   ]
  },
  {
   "cell_type": "code",
   "execution_count": null,
   "metadata": {},
   "outputs": [],
   "source": [
    "def no_ofnotes(n):\n",
    "    notes=[500,200,100,50,20,10]\n",
    "    count=0\n",
    "    dict1={}\n",
    "    for i in range(6):\n",
    "        q=notes[i]\n",
    "        count=int(n/q)\n",
    "        dict1[q]=count\n",
    "        n=int(n%q)\n",
    "    return dict1\n",
    "no_ofnotes(950)"
   ]
  },
  {
   "cell_type": "code",
   "execution_count": null,
   "metadata": {},
   "outputs": [],
   "source": [
    "denominations = [1, 5, 10, 20, 50, 100, 200, 500]\n",
    "\n",
    "amount = int(input('enter the amount : '))\n",
    "\n",
    "for denom in sorted(denominations,reverse=True):\n",
    "    if amount >= denom:\n",
    "        print(amount//denom, ' notes of ', denom)\n",
    "        amount = amount%denom\n",
    "    if amount==0:\n",
    "        break"
   ]
  },
  {
   "cell_type": "code",
   "execution_count": null,
   "metadata": {},
   "outputs": [],
   "source": [
    "n=int(input(\"Enter the amount:\"))\n",
    "if n>=1000:\n",
    "    note1000=n//1000\n",
    "    print(\"1000:\",note1000)\n",
    "if n>=500:\n",
    "    note500=n//500\n",
    "    print(\"500:\",note500)\n",
    "    n=n%500\n",
    "if n>=100:\n",
    "    note100=n//100\n",
    "    print(\"100:\",note100)\n",
    "    n=n%100\n",
    "if n>=50:\n",
    "    note50=n//50\n",
    "    print(\"50:\",note50)\n",
    "if n>=20:\n",
    "    notes20=n//20\n",
    "    print('20:',notes20)\n",
    "if n>=10:\n",
    "    notes10=n//10\n",
    "    print(\"10:\",notes10)\n",
    "if n>=5:\n",
    "    notes5=n//5\n",
    "    print('5:',notes5)\n",
    "if n>=1:\n",
    "    notes1=n//1\n",
    "    print(\"1:\",notes1)"
   ]
  },
  {
   "cell_type": "markdown",
   "metadata": {},
   "source": [
    "## 22 Write a Python program to create a sequence where the first four members of the sequence are equal to one, and each successive term of the sequence is equal to the sum of the four previous ones. Find the Nth member of the sequence.\n",
    "\n"
   ]
  },
  {
   "cell_type": "code",
   "execution_count": null,
   "metadata": {},
   "outputs": [],
   "source": [
    "def new_seq(n):\n",
    "    if n==1 or n==2 or n==3 or n==4:\n",
    "        return 1\n",
    "    return new_seq(n-1) + new_seq(n-2) + new_seq(n-3) + new_seq(n-4)\n",
    "print(new_seq(5))\n",
    "print(new_seq(6))\n",
    "print(new_seq(7))\n"
   ]
  },
  {
   "cell_type": "markdown",
   "metadata": {},
   "source": [
    "## 23 Write a Python program that accept a positive number and subtract from this number the sum of its digits and so on. Continues this operation until the number is positive.\n",
    "\n"
   ]
  },
  {
   "cell_type": "code",
   "execution_count": null,
   "metadata": {},
   "outputs": [],
   "source": [
    "def repeat_times(n):\n",
    "  s = 0\n",
    "  n_str = str(n)\n",
    "  while (n > 0):\n",
    "    n -= sum([int(i) for i in list(n_str)])\n",
    "    n_str = list(str(n))\n",
    "    s += 1\n",
    "  return s\n",
    "print(repeat_times(5))\n",
    "print(repeat_times(36))\n"
   ]
  },
  {
   "cell_type": "markdown",
   "metadata": {},
   "source": [
    "## 25 Write a Python program to find the digits which are absent in a given mobile number.\n"
   ]
  },
  {
   "cell_type": "code",
   "execution_count": null,
   "metadata": {},
   "outputs": [],
   "source": [
    "mobile = input('Please enter a mobile number: ' )\n",
    "all = '0123456789'\n",
    "print('missing digits are ', set(all) - set(mobile))"
   ]
  },
  {
   "cell_type": "code",
   "execution_count": null,
   "metadata": {},
   "outputs": [],
   "source": [
    "value = input(\"Enter a mobile number:\")\n",
    "list1 = [int(digit) for digit in value]\n",
    "print(list1)\n",
    "m=[]\n",
    "for i in range(1,10):\n",
    "    if i in list1:\n",
    "        continue\n",
    "    else:\n",
    "        m.append(i)\n",
    "print(m)"
   ]
  },
  {
   "cell_type": "code",
   "execution_count": null,
   "metadata": {},
   "outputs": [],
   "source": [
    "n=[0,1,2,3,4,5,6,7,8,9]\n",
    "def dig(*n):\n",
    "    s=0\n",
    "    m=[]\n",
    "    while s<=9:\n",
    "        if s in n:\n",
    "            s+=1\n",
    "        else:\n",
    "            m.append(s)\n",
    "        s+=1\n",
    "    return m\n",
    "dig(8,3,5,1,2,4,2,6,1)"
   ]
  },
  {
   "cell_type": "code",
   "execution_count": null,
   "metadata": {},
   "outputs": [],
   "source": [
    "def absent_digits(lis):\n",
    "    k=[]\n",
    "    for i in range(10):\n",
    "        if i not in lis:\n",
    "            k.append(i)\n",
    "        else:\n",
    "            continue\n",
    "    return k\n",
    "\n",
    "print(absent_digits([9,8,3,2,2,0,9,7,6,3]))"
   ]
  },
  {
   "cell_type": "markdown",
   "metadata": {},
   "source": [
    "## 26 Write a Python program to compute the summation of the absolute difference of all distinct pairs in an given array (non-decreasing order). \n"
   ]
  },
  {
   "cell_type": "code",
   "execution_count": null,
   "metadata": {},
   "outputs": [],
   "source": [
    "sample = [1, 4, 5]\n",
    "\n",
    "result = []\n",
    "for i in range(len(sample)-1):\n",
    "    for j in range(i, len(sample)-1):\n",
    "        result.append(abs(sample[i] - sample[j+1]))\n",
    "print(sum(result))"
   ]
  },
  {
   "cell_type": "markdown",
   "metadata": {},
   "source": [
    "## 28 Write a Python program to print the length of the series and the series from the given 3rd term, 3rd last term and the sum of a series. \n"
   ]
  },
  {
   "cell_type": "code",
   "execution_count": null,
   "metadata": {},
   "outputs": [],
   "source": [
    "tn = int(input(\"Input third term of the series:\"))\n",
    "tltn = int(input(\"Input 3rd last term:\"))\n",
    "s_sum = int(input(\"Sum of the series:\"))\n",
    "n = int(2*s_sum/(tn+tltn))\n",
    "print(\"Length of the series: \",n)\n",
    "if n-5==0:\n",
    "  d = (s_sum-3*tn)//6\n",
    "else:\n",
    "  d = (tltn-tn)/(n-5)\n",
    "a = tn-2*d\n",
    "j = 0\n",
    "print(\"Series:\")\n",
    "for j in range(n-1):\n",
    "  print(int(a),end=\" \")\n",
    "  a+=d\n",
    "print(int(a),end=\" \")\n"
   ]
  },
  {
   "cell_type": "markdown",
   "metadata": {},
   "source": [
    "## 29 Write a Python program to find common divisors between two numbers in a given pair.\n",
    "\n"
   ]
  },
  {
   "cell_type": "code",
   "execution_count": null,
   "metadata": {
    "scrolled": true
   },
   "outputs": [],
   "source": [
    "# need to be revisied\n",
    "def ngcd(x,y):\n",
    "    result = []\n",
    "    i = 1\n",
    "    while i <= x and i <= y:\n",
    "        if x%i == 0 and y%i == 0:\n",
    "            gcd = i\n",
    "            result.append(i)\n",
    "            i += 1\n",
    "    return gcd, len(result)\n",
    "ngcd(12,24)"
   ]
  },
  {
   "cell_type": "markdown",
   "metadata": {},
   "source": [
    "## 30 Write a Python program to reverse the digits of a given number and add it to the original, If the sum is not a palindrome repeat this procedure.\n",
    "\n"
   ]
  },
  {
   "cell_type": "code",
   "execution_count": null,
   "metadata": {},
   "outputs": [],
   "source": [
    "def rev_number(n):\n",
    "  s = 0\n",
    "  while True:\n",
    "    k = str(n)\n",
    "    if k == k[::-1]:\n",
    "      break\n",
    "    else:\n",
    "      m = int(k[::-1])\n",
    "      n += m\n",
    "      s += 1\n",
    "  return n \n",
    "print(rev_number(9876))"
   ]
  },
  {
   "cell_type": "code",
   "execution_count": null,
   "metadata": {},
   "outputs": [],
   "source": [
    "num = int(input('Please enter a number: '))\n",
    "while str(num) != str(num)[::-1]:\n",
    "    num += int(str(num)[::-1])\n",
    "    print(num)"
   ]
  },
  {
   "cell_type": "markdown",
   "metadata": {},
   "source": [
    "## 32 Write a python program to find heights of the top three building in descending order from eight given buildings\n"
   ]
  },
  {
   "cell_type": "code",
   "execution_count": null,
   "metadata": {},
   "outputs": [],
   "source": [
    "l = [25, 35, 15, 16, 30, 45, 37, 39]\n",
    "l.sort()\n",
    "print(l[:4:-1])"
   ]
  },
  {
   "cell_type": "code",
   "execution_count": null,
   "metadata": {},
   "outputs": [],
   "source": [
    "heights = [25, 35, 15, 16, 30, 45, 37, 39]\n",
    "sorted(heights, reverse=True)[0:3]"
   ]
  },
  {
   "cell_type": "markdown",
   "metadata": {},
   "source": [
    "## 33 Write a Python program to compute the digit number of sum of two given integers.\n",
    "\n"
   ]
  },
  {
   "cell_type": "code",
   "execution_count": null,
   "metadata": {},
   "outputs": [],
   "source": [
    "\n",
    "x,y=int(input('enter the value of x : ')) ,int(input(\"enter the value of y : \"))\n",
    "o= len(str(x+y))\n",
    "print('the length os the sum of two integer :',o)"
   ]
  },
  {
   "cell_type": "code",
   "execution_count": null,
   "metadata": {},
   "outputs": [],
   "source": [
    "print(\"Input two integers(a b): \")\n",
    "x,y=[int(a) for a in input().split()]\n",
    "print(\"Number of digit of a and b.:\")\n",
    "import collections\n",
    "print(sum(collections.Counter(str(x+y)).values()))"
   ]
  },
  {
   "cell_type": "code",
   "execution_count": null,
   "metadata": {},
   "outputs": [],
   "source": [
    "## VI to get two values separated\n",
    "x,y=[int(a)for a in input().split()]"
   ]
  },
  {
   "cell_type": "markdown",
   "metadata": {},
   "source": [
    "## 34 Write a Python program to check whether three given lengths (integers) of three sides form a right triangle. Print \"Yes\" if the given sides form a right triangle otherwise print \"No\".\n",
    "\n"
   ]
  },
  {
   "cell_type": "code",
   "execution_count": null,
   "metadata": {},
   "outputs": [],
   "source": [
    "a = [5,7,3]\n",
    "a.sort()\n",
    "b = a[0]\n",
    "c = a[1]\n",
    "d = a[2]\n",
    "if d == (b**2 + c**2)**0.5:\n",
    "    print('Right triangle? Yes.')\n",
    "else:\n",
    "    print('Right triangle? No.')"
   ]
  },
  {
   "cell_type": "code",
   "execution_count": null,
   "metadata": {},
   "outputs": [],
   "source": [
    "b,c,d=int(input('enter first lesngth : ')),int(input('enter first lesngth : ')),int(input('enter first lesngth : '))\n",
    "if d == (b**2 + c**2)**0.5:\n",
    "    print('Right triangle? Yes.')\n",
    "else:\n",
    "    print('Right triangle? No.')"
   ]
  },
  {
   "cell_type": "code",
   "execution_count": null,
   "metadata": {},
   "outputs": [],
   "source": [
    "def triangle(b,c,d):\n",
    "    if d == (b**2 + c**2)**0.5:\n",
    "        print('Right triangle? Yes.')\n",
    "    else:\n",
    "        print('Right triangle? No.')\n",
    "triangle(10,5,4)"
   ]
  },
  {
   "cell_type": "markdown",
   "metadata": {},
   "source": [
    "## 35 Write a Python program which solve the equation:\n",
    "ax+by=c\n",
    "dx+ey=f\n",
    "Print the values of x, y where a, b, c, d, e and f are given.\n",
    "\n",
    "Input:\n",
    "a,b,c,d,e,f separated by a single space.\n",
    "(-1,000 ≤ a,b,c,d,e,f ≤ 1,000)\n",
    "\n"
   ]
  },
  {
   "cell_type": "code",
   "execution_count": null,
   "metadata": {},
   "outputs": [],
   "source": [
    "print(\"Input the value of a, b, c, d, e, f:\")\n",
    "a, b, c, d, e, f = map(float, input().split())\n",
    "n = a*e - b*d\n",
    "print(\"Values of x and y:\")\n",
    "if n != 0:\n",
    "    x = (c*e - b*f) / n\n",
    "    y = (a*f - c*d) / n\n",
    "    print('{:.3f} {:.3f}'.format(x+0, y+0))\n"
   ]
  },
  {
   "cell_type": "markdown",
   "metadata": {},
   "source": [
    "## 36 Write a Python program to compute the amount of the debt in n months. The borrowing amount is $100,000 and the loan adds 5% interest of the debt and rounds it to the nearest 1,000 above month by month."
   ]
  },
  {
   "cell_type": "code",
   "execution_count": null,
   "metadata": {},
   "outputs": [],
   "source": [
    "def round_n(n):\n",
    "    if n%1000:\n",
    "        return (1+n//1000)*1000\n",
    "    else:\n",
    "        return n\n",
    "     \n",
    "def compute_debt(n):\n",
    "    if n==0: return 100000\n",
    "    return int(round_n(compute_debt(n-1)*1.05))\n",
    "\n",
    "print(\"Input number of months:\")\n",
    "result = compute_debt(int(input()))\n",
    "print(\"Amount of debt: \",\"$\"+str(result).strip())\n"
   ]
  },
  {
   "cell_type": "code",
   "execution_count": null,
   "metadata": {},
   "outputs": [],
   "source": [
    "months = 7\n",
    "prc = 5\n",
    "amnt = 100000\n",
    "\n",
    "for n in range(months):\n",
    "    amnt = amnt + (amnt * prc) // 100\n",
    "    if amnt % 1000 >= 0.5:\n",
    "        amnt = (amnt // 1000 + 1) * 1000\n",
    "    else:\n",
    "        amnt = amnt // 1000 * 1000\n",
    "\n",
    "print(\"Amount of debt = \",amnt)"
   ]
  },
  {
   "cell_type": "markdown",
   "metadata": {},
   "source": [
    "## 37 Write a Python program which reads an integer n and find the number of combinations of a,b,c and d (0 ≤ a,b,c,d ≤ 9) where (a + b + c + d) will be equal to n.\n",
    "\n"
   ]
  },
  {
   "cell_type": "code",
   "execution_count": null,
   "metadata": {},
   "outputs": [],
   "source": [
    "import itertools\n",
    "n = 15\n",
    "count = 0\n",
    "a = list(range(10))\n",
    "z = itertools.product(a, repeat=4)\n",
    "for x in z:\n",
    "    if sum(x) == n:\n",
    "        count += 1\n",
    "\n",
    "print(count)"
   ]
  },
  {
   "cell_type": "code",
   "execution_count": null,
   "metadata": {},
   "outputs": [],
   "source": [
    "n = 15\n",
    "i = 0\n",
    "for a in range (10):\n",
    "    for b in range(10):\n",
    "        for c in range (10):\n",
    "            if 0 <= n-(a+b+c) <= 9 :# d = n-(a+b+c) \n",
    "                i += 1\n",
    "print(i)"
   ]
  },
  {
   "cell_type": "markdown",
   "metadata": {},
   "source": [
    "## 38 Write a Python program to print the number of prime numbers which are less than or equal to a given integer.\n"
   ]
  },
  {
   "cell_type": "code",
   "execution_count": null,
   "metadata": {},
   "outputs": [],
   "source": [
    "def prime(a):\n",
    "    list = []\n",
    "    while a > 2:\n",
    "        for i in range(2,a):\n",
    "            b = i\n",
    "        for j in range(2,b-1):\n",
    "            if b % j == 0:\n",
    "                break\n",
    "            else:\n",
    "                list.append(b)\n",
    "                a -= 1\n",
    "                return list\n",
    "\n",
    "            a = int(input(\"Enter a number: \"))\n",
    "            print(prime(a))\n",
    "prime(19)"
   ]
  },
  {
   "cell_type": "markdown",
   "metadata": {},
   "source": [
    "## 39. Write a program to compute the radius and the central coordinate (x, y) of a circle which is constructed by three given points on the plane surface\n"
   ]
  },
  {
   "cell_type": "code",
   "execution_count": null,
   "metadata": {},
   "outputs": [],
   "source": [
    "print(\"Input three coordinate of the circle:\")\n",
    "x1, y1, x2, y2, x3, y3 = map(float, input().split())\n",
    "\n",
    "#----------------------------\n",
    "# (x-xm)**2 +(y-ym)**2 = r**2\n",
    "# x**2 -2*xm*x +xm**2 +y**2 - 2*ym*y +ym**2 = r**2\n",
    "#A := r**2 - xm**2 -ym**2\n",
    "#B := 2*xm\n",
    "#C := 2*ym\n",
    "#----------------------------\n",
    "E = x1**2 + y1**2\n",
    "F = x2**2 + y2**2\n",
    "G = x3**2 + y3**2\n",
    "#----------------------------\n",
    "C = (((G-E)*(x2-x1))-((F-E)*(x3-x1))) / (((y3-y1)*(x2-x1))-((y2-y1)*(x3-x1)))\n",
    "B = (F-E-(C*(y2-y1))) / (x2-x1)\n",
    "A = E - B*x1 - C*y1\n",
    "\n",
    "xm = B/2\n",
    "ym = C/2\n",
    "r = (A + xm**2 + ym**2)**.5\n",
    "\n",
    "print('Radius of the said circle: {:.3f}'.format(r))\n",
    "print('Central coordinate (x, y) of the circle: {:.3f} {:.3f}'.format(xm,ym))"
   ]
  },
  {
   "cell_type": "code",
   "execution_count": null,
   "metadata": {},
   "outputs": [],
   "source": [
    "print(\"Input three coordinate of the circle:\")\n",
    "x1, y1, x2, y2, x3, y3 = map(float, input().split())\n",
    "c = (x1-x2)**2 + (y1-y2)**2\n",
    "a = (x2-x3)**2 + (y2-y3)**2\n",
    "b = (x3-x1)**2 + (y3-y1)**2\n",
    "s = 2*(a*b + b*c + c*a) - (a*a + b*b + c*c) \n",
    "px = (a*(b+c-a)*x1 + b*(c+a-b)*x2 + c*(a+b-c)*x3) / s\n",
    "py = (a*(b+c-a)*y1 + b*(c+a-b)*y2 + c*(a+b-c)*y3) / s \n",
    "ar = a**0.5\n",
    "br = b**0.5\n",
    "cr = c**0.5 \n",
    "r = ar*br*cr / ((ar+br+cr)*(-ar+br+cr)*(ar-br+cr)*(ar+br-cr))**0.5\n",
    "print(\"Radius of the said circle:\")\n",
    "print(\"{:>.3f}\".format(r))\n",
    "print(\"Central coordinate (x, y) of the circle:\")\n",
    "print(\"{:>.3f}\".format(px),\"{:>.3f}\".format(py))\n"
   ]
  },
  {
   "cell_type": "markdown",
   "metadata": {},
   "source": [
    "## 40 Write a Python program to check whether a point (x,y) is in a triangle or not. There is a triangle formed by three points.\n",
    "\n"
   ]
  },
  {
   "cell_type": "code",
   "execution_count": null,
   "metadata": {},
   "outputs": [],
   "source": [
    "#print(\"Input x1,y1,x2,y2,x3,y3,xp,yp:\")\n",
    "x1,y1,x2,y2,x3,y3,xp,yp = map(float, input().split())\n",
    "c1 = (x2-x1)*(yp-y1)-(y2-y1)*(xp-x1)\n",
    "c2 = (x3-x2)*(yp-y2)-(y3-y2)*(xp-x2)\n",
    "c3 = (x1-x3)*(yp-y3)-(y1-y3)*(xp-x3)\n",
    "if (c1<0 and c2<0 and c3<0) or (c1>0 and c2>0 and c3>0):\n",
    "    print(\"The point is in the triangle.\")\n",
    "else:\n",
    "    print(\"The point is outside the triangle.\")\n"
   ]
  },
  {
   "cell_type": "markdown",
   "metadata": {},
   "source": [
    "## 41 Write a Python program to compute and print sum of two given integers (more than or equal to zero). If given integers or the sum have more than 80 digits, print \"overflow\".\n",
    "\n"
   ]
  },
  {
   "cell_type": "code",
   "execution_count": null,
   "metadata": {},
   "outputs": [],
   "source": [
    "print(\"Input first integer:\")\n",
    "x = int(input())\n",
    "print(\"Input second integer:\")\n",
    "y = int(input())\n",
    "if x >= 10 ** 80 or y >= 10 ** 80 or x + y >= 10 ** 80:\n",
    "    print(\"Overflow!\")\n",
    "else:\n",
    "    print(\"Sum of the two integers: \",x + y)\n"
   ]
  },
  {
   "cell_type": "code",
   "execution_count": null,
   "metadata": {},
   "outputs": [],
   "source": [
    "print(\"Input first integer:\")\n",
    "a=int(input())\n",
    "print(\"Input second integer:\")\n",
    "b=int(input())\n",
    "if len(str(a))>80 or len(str(b))>80 or len(str(a+b))>80:\n",
    "    print(\"Overflow\")\n",
    "else:\n",
    "    print(\"Sum of the two integers:\",a+b)"
   ]
  },
  {
   "cell_type": "markdown",
   "metadata": {},
   "source": [
    "## 42 Write a Python program that accepts six numbers as input and sorts them in descending order.\n"
   ]
  },
  {
   "cell_type": "code",
   "execution_count": null,
   "metadata": {},
   "outputs": [],
   "source": [
    "print(\"Input six integers:\")\n",
    "nums = list(map(int, input().split()))\n",
    "nums.sort()\n",
    "nums.reverse()\n",
    "print(\"After sorting the said ntegers:\")\n",
    "print(*nums)\n"
   ]
  },
  {
   "cell_type": "code",
   "execution_count": null,
   "metadata": {},
   "outputs": [],
   "source": [
    "##\n",
    "print(sorted([input() for i in range(6)], reverse=True))\n",
    "\n"
   ]
  },
  {
   "cell_type": "markdown",
   "metadata": {},
   "source": [
    "\n",
    "## 43. Write a Python program to test whether two lines PQ and RS are parallel. The four points are P(x1, y1), Q(x2, y2), R(x3, y3), S(x4, y4).\n"
   ]
  },
  {
   "cell_type": "code",
   "execution_count": null,
   "metadata": {},
   "outputs": [],
   "source": [
    "print(\"Input x1,y1,x2,y2,x3,y3,xp,yp:\")\n",
    "x1, y1,x2, y2, x3, y3, x4, y4 = map(float, input().split())\n",
    "print('PQ and RS are parallel.' if abs((x2 - x1)*(y4 - y3) - (x4 - x3)*(y2 - y1)) < 1e-10 else 'PQ and RS are not parallel')\n"
   ]
  },
  {
   "cell_type": "markdown",
   "metadata": {},
   "source": [
    "## 46 Write a Python program to that reads a date (from 2016/1/1 to 2016/12/31) and prints the day of the date. Jan. 1, 2016, is Friday. Note that 2016 is a leap year.\n",
    "\n"
   ]
  },
  {
   "cell_type": "code",
   "execution_count": null,
   "metadata": {},
   "outputs": [],
   "source": [
    "from datetime import date\n",
    "print(\"Input month and date (separated by a single space):\")\n",
    "m, d = map(int, input().split())\n",
    "weeks = {1:'Monday',2:'Tuesday',3:'Wednesday',4:'Thursday',5:'Friday',6:'Saturday',7:'Sunday'}\n",
    "w = date.isoweekday(date(2016, m, d))\n",
    "print(\"Name of the date: \",weeks[w])\n"
   ]
  },
  {
   "cell_type": "markdown",
   "metadata": {},
   "source": [
    "## 47 Write a Python program which reads a text (only alphabetical characters and spaces.) and prints two words. The first one is the word which is arise most frequently in the text. The second one is the word which has the maximum number of letters.\n",
    "\n"
   ]
  },
  {
   "cell_type": "code",
   "execution_count": null,
   "metadata": {},
   "outputs": [],
   "source": [
    "import collections\n",
    "print(\"Input a text in a line.\")\n",
    "text_list = list(map(str, input().split()))\n",
    "sc = collections.Counter(text_list)\n",
    "common_word = sc.most_common()[0][0]\n",
    "max_char = \"\"\n",
    "for s in text_list:\n",
    "    if len(max_char) < len(s):\n",
    "        max_char = s\n",
    "print(\"\\nMost frequent text and the word which has the maximum number of letters.\")\n",
    "print(common_word, max_char)\n"
   ]
  },
  {
   "cell_type": "markdown",
   "metadata": {},
   "source": [
    "## 50 Write a Python program to replace a string \"Python\" with \"Java\" and \"Java\" with \"Python\" in a given string.\n",
    "\n",
    "\n"
   ]
  },
  {
   "cell_type": "code",
   "execution_count": null,
   "metadata": {},
   "outputs": [],
   "source": [
    "n = input('Input a text with two words \"Python\" and \"Java\" : ')\n",
    "new = n.split()\n",
    "for i in new:\n",
    "    if i=='Python':\n",
    "        new[new.index(i)] = 'java'\n",
    "    elif i=='Java':\n",
    "        new[new.index(i)] = 'python'\n",
    "        result = ' '.join(new)\n",
    "        print(result)\n"
   ]
  },
  {
   "cell_type": "markdown",
   "metadata": {},
   "source": [
    "## 51 Write a Python program to find the difference between the largest integer and the smallest integer which are created by 8 numbers from 0 to 9. The number that can be rearranged shall start with 0 as in 00135668. \n"
   ]
  },
  {
   "cell_type": "code",
   "execution_count": null,
   "metadata": {},
   "outputs": [],
   "source": [
    "print(\"Input an integer created by 8 numbers from 0 to 9.:\")\n",
    "num = list(input())\n",
    "print(\"Difference between the largest and the smallest integer from the given integer:\")\n",
    "print(int(\"\".join(sorted(num,reverse=True))) - int(\"\".join(sorted(num))))\n"
   ]
  },
  {
   "cell_type": "markdown",
   "metadata": {},
   "source": [
    "## VP to get the prime number\n"
   ]
  },
  {
   "cell_type": "code",
   "execution_count": null,
   "metadata": {},
   "outputs": [],
   "source": [
    "import timeit\n",
    "def is_prime(n):\n",
    "    for i in range(2, int(n**(1/2))+1):\n",
    "        if n%i == 0:\n",
    "            return False\n",
    "    return True\n",
    "is_prime(19)"
   ]
  },
  {
   "cell_type": "markdown",
   "metadata": {},
   "source": [
    "## 52 Write a Python program to compute the sum of first n given prime numbers. \n"
   ]
  },
  {
   "cell_type": "code",
   "execution_count": null,
   "metadata": {},
   "outputs": [],
   "source": [
    "MAX = 105000\n",
    "print(\"Input a number (n≤10000) to compute the sum:(0 to exit)\") \n",
    "is_prime = [True for _ in range(MAX)]\n",
    "is_prime[0] = is_prime[1] = False\n",
    "for i in range(2, int(MAX ** (1 / 2)) + 1):\n",
    "  if is_prime[i]:\n",
    "    for j in range(i ** 2, MAX, i):\n",
    "      is_prime[j] = False \n",
    "primes = [i for i in range(MAX) if is_prime[i]] \n",
    "while True:\n",
    "  n = int(input())\n",
    "  if not n:\n",
    "    break\n",
    "  print(\"Sum of first\",n,\"prime numbers:\")\n",
    "  print(sum(primes[:n]))\n"
   ]
  },
  {
   "cell_type": "markdown",
   "metadata": {},
   "source": [
    "## 54 if you draw a straight line on a plane, the plane is divided into two regions. For example, if you pull two straight lines in parallel, you get three areas, and if you draw vertically one to the other you get 4 areas.\n",
    "\n"
   ]
  },
  {
   "cell_type": "code",
   "execution_count": null,
   "metadata": {},
   "outputs": [],
   "source": [
    "while True:\n",
    "    print(\"Input number of straight lines (o to exit): \")\n",
    "    n=int(input())\n",
    "    if n<=0:\n",
    "        break\n",
    "    print(\"Number of regions:\") \n",
    "    print((n*n+n+2)//2)\n"
   ]
  },
  {
   "cell_type": "code",
   "execution_count": null,
   "metadata": {},
   "outputs": [],
   "source": [
    "def L(n):\n",
    "    if n == 1: \n",
    "        return 2\n",
    "    return L(n-1) + n\n",
    "L(5)"
   ]
  },
  {
   "cell_type": "code",
   "execution_count": null,
   "metadata": {},
   "outputs": [],
   "source": [
    "def orthogonal():\n",
    "    input_coordinates_of_points = (input(\" Input coordinates => \")).split(\" \")\n",
    "\n",
    "    X_1 = float(input_coordinates_of_points[2]) - float(input_coordinates_of_points[0])\n",
    "\n",
    "    Y_1 = float(input_coordinates_of_points[3]) - float(input_coordinates_of_points[1])\n",
    "\n",
    "    X_2 = float(input_coordinates_of_points[6]) - float(input_coordinates_of_points[4])\n",
    "\n",
    "    Y_2 = float(input_coordinates_of_points[7]) - float(input_coordinates_of_points[5])\n",
    "\n",
    "    k_1 = Y_1 / X_1\n",
    "    k_2 = Y_2 / X_2\n",
    "\n",
    "    if k_1 * k_2 == -1:\n",
    "        print(\" AB and CD are orthogonal \")\n",
    "    else:\n",
    "        print(\" AB and CD are not orthogonal \")\n",
    "\n",
    "orthogonal()"
   ]
  },
  {
   "cell_type": "markdown",
   "metadata": {},
   "source": [
    "## 58 Write a Python program to restore the original string by entering the compressed string with this rule. However, the # character does not appear in the restored character string. \n"
   ]
  },
  {
   "cell_type": "code",
   "execution_count": null,
   "metadata": {},
   "outputs": [],
   "source": [
    "def restore_original_str(a1):\n",
    "  result = \"\"\n",
    "  ind = 0\n",
    "  end = len(a1)\n",
    "  while ind < end:\n",
    "    if a1[ind] == \"#\":\n",
    "      result += a1[ind + 2] * int(a1[ind + 1])\n",
    "      ind += 3\n",
    "    else:\n",
    "      result += a1[ind]\n",
    "      ind += 1\n",
    "  return result\n",
    "print(\"Original text:\",\"XY#6Z1#4023\")\n",
    "print(restore_original_str(\"XY#6Z1#4023\"))\n",
    "print(\"Original text:\",\"#39+1=1#30\")\n",
    "print(restore_original_str(\"#39+1=1#30\"))\n"
   ]
  },
  {
   "cell_type": "markdown",
   "metadata": {},
   "source": [
    "## 59 Write a Python program that compute the area of the polygon . The vertices have the names vertex 1, vertex 2, vertex 3, ... vertex n according to the order of edge connections.\n",
    "\n"
   ]
  },
  {
   "cell_type": "code",
   "execution_count": null,
   "metadata": {},
   "outputs": [],
   "source": [
    "def poly_area(c):\n",
    "  add = []\n",
    "  for i in range(0, (len(c) - 2), 2):\n",
    "    add.append(c[i] * c[i + 3] - c[i + 1] * c[i + 2])\n",
    "    add.append(c[len(c) - 2] * c[1] - c[len(c) - 1] * c[0])\n",
    "    return abs(sum(add) / 2)\n",
    "\n",
    "print(poly_area([1, 0, 0, 0, 1, 1, 2, 0, -1, 1]))\n"
   ]
  },
  {
   "cell_type": "markdown",
   "metadata": {},
   "source": [
    "## 60 Write a Python program to cut out words of 3 to 6 characters length from a given sentence not more than 1024 characters. \n"
   ]
  },
  {
   "cell_type": "code",
   "execution_count": null,
   "metadata": {},
   "outputs": [],
   "source": [
    "print(\"Input a sentence (1024 characters. max.)\")\n",
    "yy = input()\n",
    "yy = yy.replace(\",\", \" \")\n",
    "yy = yy.replace(\".\", \" \")\n",
    "print(\"3 to 6 characters length of words:\")\n",
    "print(*[y for y in yy.split() if 3 <= len(y) <= 6])\n"
   ]
  },
  {
   "cell_type": "markdown",
   "metadata": {},
   "source": [
    "## 62. Write a Python program to find the number of combinations that satisfy p + q + r + s = n where n is a given number <= 4000 and p, q, r, s in the range of 0 to 1000. \n"
   ]
  },
  {
   "cell_type": "code",
   "execution_count": null,
   "metadata": {},
   "outputs": [],
   "source": [
    "from collections import Counter\n",
    "print(\"Input a positive integer: (ctrl+d to exit)\") \n",
    "pair_dict = Counter()\n",
    "for i in range(2001):\n",
    "  pair_dict[i] = min(i, 2000 - i) + 1 \n",
    " \n",
    "while True:\n",
    "  try:\n",
    "    n = int(input())\n",
    "    ans = 0\n",
    "    for i in range(n + 1):\n",
    "      ans += pair_dict[i] * pair_dict[n - i]\n",
    "    print(\"Number of combinations of a,b,c,d:\",ans) \n",
    "  except EOFError:\n",
    "    break\n"
   ]
  },
  {
   "cell_type": "markdown",
   "metadata": {},
   "source": [
    "## 63. Write a Python program which adds up columns and rows of given table as shown in the specified figure.\n"
   ]
  },
  {
   "cell_type": "code",
   "execution_count": null,
   "metadata": {},
   "outputs": [],
   "source": [
    "while True:\n",
    "    print(\"Input number of rows/columns (0 to exit)\")\n",
    "    n = int(input())\n",
    "    if n == 0:\n",
    "        break\n",
    "    print(\"Input cell value:\")\n",
    "    x = []\n",
    "    for i in range(n):\n",
    "        x.append([int(num) for num in input().split()])\n",
    "\n",
    "    for i in range(n):\n",
    "        sum = 0\n",
    "        for j in range(n):\n",
    "            sum += x[i][j]\n",
    "        x[i].append(sum)\n",
    "\n",
    "    x.append([])\n",
    "    for i in range(n + 1):\n",
    "        sum = 0\n",
    "        for j in range(n):\n",
    "            sum += x[j][i]\n",
    "        x[n].append(sum)\n",
    "    print(\"Result:\")\n",
    "    for i in range(n + 1):\n",
    "        for j in range(n + 1):\n",
    "            print('{0:>5}'.format(x[i][j]), end=\"\")\n",
    "        print()\n"
   ]
  },
  {
   "cell_type": "markdown",
   "metadata": {},
   "source": [
    "## 64 Given a list of numbers and a number k, write a Python program to check whether the sum of any two numbers from the list is equal to k or not.\n"
   ]
  },
  {
   "cell_type": "code",
   "execution_count": null,
   "metadata": {},
   "outputs": [],
   "source": [
    "def check_sum(nums, k):   \n",
    "    for i in range(len(nums)):\n",
    "        for j in range(i+1, len(nums)):\n",
    "            if nums[i] + nums[j] == k:\n",
    "                return True\n",
    "    return False\n",
    "print(check_sum([12, 5, 0, 5], 10))"
   ]
  },
  {
   "cell_type": "code",
   "execution_count": null,
   "metadata": {},
   "outputs": [],
   "source": [
    "from itertools import combinations\n",
    "\n",
    "lst = [1, 15, 11, 5]\n",
    "lst2 = [1, 1, 0]\n",
    "k = 22\n",
    "k2 = 0\n",
    "\n",
    "def sum_of_two(lst, k):\n",
    "    comb = list(combinations(lst, 2))\n",
    "# alternative\n",
    "# return bool(len([i for i in comb if sum(i) == k]))\n",
    "    return any(filter(lambda x: sum(x) == k, comb))\n",
    "\n",
    "print(sum_of_two(lst, k))\n",
    "print(sum_of_two(lst2,k2))\n",
    "            "
   ]
  },
  {
   "cell_type": "markdown",
   "metadata": {},
   "source": [
    "## 65 Write a Python program to find the longest word in set of words which is a subsequence of a given string.\n",
    "\n"
   ]
  },
  {
   "cell_type": "code",
   "execution_count": null,
   "metadata": {},
   "outputs": [],
   "source": [
    "def longest_word_sequence(s, d):\n",
    "\tlong_word = \"\"\n",
    "\t\n",
    "\tfor word in d: \n",
    "\t\ttemp_word = ''\t\n",
    "\t\tj = 0\n",
    "\t\tfor letter in word: \n",
    "\n",
    "\t\t\tfor i in range(j, len(s)): \n",
    "\n",
    "\t\t\t\tif letter == s[i]: \n",
    "\t\t\t\t\ttemp_word += letter \n",
    "\t\t\t\t\tj = i                  \n",
    "\t\t\t\t\tbreak\n",
    "\t\t\t\telse:\t\t\t\t\n",
    "\t\t\t\t\tcontinue        \n",
    "\n",
    "\t\tif (temp_word) == word and len(long_word) < len(temp_word):\n",
    "\t\t\tlong_word = temp_word\n",
    "\n",
    "\t\telse:\n",
    "\t\t\tcontinue\n",
    "\treturn long_word\n",
    "\n",
    "\n",
    "print(longest_word_sequence(\"Green\", {\"Gn\", \"Gren\", \"ree\", \"en\"}))\n",
    "print(longest_word_sequence(\"pythonexercises\", {\"py\", \"ex\", \"exercises\"}))\n"
   ]
  },
  {
   "cell_type": "markdown",
   "metadata": {},
   "source": [
    "## 66 Write a Python program to check whether a number is \"happy\" or not.\n",
    "\n"
   ]
  },
  {
   "cell_type": "code",
   "execution_count": null,
   "metadata": {},
   "outputs": [],
   "source": [
    "def is_Happy_num(num):       \n",
    "    while num != 1:\n",
    "        \n",
    "        num = str(num)\n",
    "        sum_square = 0\n",
    "        \n",
    "        for i in num:\n",
    "            sum_square += int(i) ** 2\n",
    "        \n",
    "        num = sum_square\n",
    "    \n",
    "    return True\n",
    "\n",
    "print(is_Happy_num(7))\n",
    "print(is_Happy_num(932))\n"
   ]
  },
  {
   "cell_type": "markdown",
   "metadata": {},
   "source": [
    "## 67 Write a Python program to find and print the first 10 happy numbers.\n",
    "\n"
   ]
  },
  {
   "cell_type": "code",
   "execution_count": null,
   "metadata": {},
   "outputs": [],
   "source": [
    "def happy_numbers(n):\n",
    "    past = set()\t\t\t\n",
    "    while n != 1:\n",
    "        n = sum(int(i)**2 for i in str(n))\n",
    "        if n in past:\n",
    "            return False\n",
    "        past.add(n)\n",
    "    return True\n",
    "print([x for x in range(500) if happy_numbers(x)][:10])\n"
   ]
  },
  {
   "cell_type": "markdown",
   "metadata": {},
   "source": [
    "## 68 Write a Python program to count the number of prime numbers less than a given non-negative number.\n",
    "\n"
   ]
  },
  {
   "cell_type": "code",
   "execution_count": null,
   "metadata": {},
   "outputs": [],
   "source": [
    "def count_Primes_nums(n):\n",
    "    ctr = 0\n",
    "    \n",
    "    for num in range(n):\n",
    "        if num <= 1:\n",
    "            continue\n",
    "        for i in range(2, num):\n",
    "            if (num % i) == 0:\n",
    "                break\n",
    "        else:\n",
    "            ctr += 1\n",
    "\n",
    "    return ctr\n",
    "\n",
    "print(count_Primes_nums(10))\n",
    "print(count_Primes_nums(100))\n"
   ]
  },
  {
   "cell_type": "code",
   "execution_count": null,
   "metadata": {},
   "outputs": [],
   "source": [
    "num=int(input(\"Enter a number: \"))\n",
    "\n",
    "for j in range(0,num):\n",
    "    newnum=num-j\n",
    "#print(newnum)\n",
    "    l=[]\n",
    "    for i in range(1,newnum+1):\n",
    "        if newnum%i==0:\n",
    "            l.append(i)\n",
    "        if len(l)==2 and newnum==l[1]:\n",
    "            print(list({newnum}))"
   ]
  },
  {
   "cell_type": "markdown",
   "metadata": {},
   "source": [
    "## 69 Write a Python program to check if two given strings are isomorphic to each other or not.\n",
    "\n"
   ]
  },
  {
   "cell_type": "code",
   "execution_count": null,
   "metadata": {},
   "outputs": [],
   "source": [
    "\n",
    "word1=input(\"Enter first word: \")\n",
    "word2=input(\"Enter second word: \")\n",
    "\n",
    "dict1={}\n",
    "dict2={}\n",
    "\n",
    "for ind,letter in enumerate(word1):\n",
    "    if letter not in dict1:\n",
    "        dict1[ind]=word1.count(letter)\n",
    "#print(dict1)\n",
    "\n",
    "print()\n",
    "for ind,letter in enumerate(word2):\n",
    "    if letter not in dict2:\n",
    "        dict2[ind]=word2.count(letter)\n",
    "#print(dict2)\n",
    "\n",
    "print()\n",
    "\n",
    "if dict1==dict2:\n",
    "    print(\"True\")\n",
    "else:\n",
    "    print(\"False\")"
   ]
  },
  {
   "cell_type": "code",
   "execution_count": null,
   "metadata": {},
   "outputs": [],
   "source": [
    "str1 = \"abcdefgh\"\n",
    "str2 = \"abcefgh\"\n",
    "\n",
    "def longest_prefix(str1, str2):\n",
    "    touple_res = zip(str1, str2)\n",
    "    return ''.join(i[0] for i in touple_res if i[0] == i[1])\n",
    "\n",
    "    print(longest_prefix(str1, str2))\n",
    "longest_prefix(\"abcdefgh\", \"abcefgh\")\n"
   ]
  },
  {
   "cell_type": "markdown",
   "metadata": {},
   "source": [
    "## 72 Write a Python program to reverse only the vowels of a given string.\n",
    "\n"
   ]
  },
  {
   "cell_type": "code",
   "execution_count": null,
   "metadata": {
    "scrolled": true
   },
   "outputs": [],
   "source": [
    "word=input(\"Enter 1st word: \")\n",
    "\n",
    "index=[]\n",
    "letters=[]\n",
    "for ind,letter in enumerate(word):\n",
    "    if letter in \"aeiouAEIOU\":\n",
    "        index.append(ind)\n",
    "        letters.append(letter)\n",
    "        #print(index)\n",
    "        #print(letters)\n",
    "\n",
    "for i in range(len(word)):\n",
    "    if word[i] in \"aeiouAEIOU\":\n",
    "            word=word.replace(word[i],\"#\",1)\n",
    "#print(word)\n",
    "for i in range(len(letters)):\n",
    "    word=word.replace(\"#\",letters[-i-1], 1)\n",
    "    print(word)"
   ]
  },
  {
   "cell_type": "markdown",
   "metadata": {},
   "source": [
    "## 73 Write a Python program to remove the duplicate elements of a given array of numbers such that each element appear only once and return the new length of the given array.\n",
    "\n"
   ]
  },
  {
   "cell_type": "code",
   "execution_count": null,
   "metadata": {},
   "outputs": [],
   "source": [
    "list=[1,3,3,3,3,5,7,10,10]\n",
    "print(set(list))\n",
    "print(len(set(list)))"
   ]
  },
  {
   "cell_type": "code",
   "execution_count": null,
   "metadata": {},
   "outputs": [],
   "source": [
    "def remove_duplicates(nums):\n",
    "    for i in range (len(nums)-1, 0, -1):\n",
    "        if nums[i] == nums[i-1]:\n",
    "            del nums[i-1]\n",
    "    return len(nums)\n",
    "\n",
    "print(remove_duplicates([0,0,1,1,2,2,3,3,4,4,4]))\n",
    "print(remove_duplicates([1, 2, 2, 3, 4, 4]))\n"
   ]
  },
  {
   "cell_type": "markdown",
   "metadata": {},
   "source": [
    "## 74 Write a Python program to calculate the maximum profit from selling and buying values of stock. An array of numbers represent the stock prices in chronological order.\n",
    "## For example, given [8, 10, 7, 5, 7, 15], the function will return 10, since the buying value of the stock is 5 dollars and sell value is 15 dollars.\n",
    "\n"
   ]
  },
  {
   "cell_type": "code",
   "execution_count": null,
   "metadata": {},
   "outputs": [],
   "source": [
    "def buy_and_sell(stock_price):\n",
    "    max_profit_val, current_max_val = 0, 0 \n",
    "    for price in reversed(stock_price):                       \n",
    "        current_max_val = max(current_max_val, price)          \n",
    "        potential_profit = current_max_val - price          \n",
    "        max_profit_val = max(potential_profit, max_profit_val)\n",
    "\n",
    "    return max_profit_val\n",
    "\n",
    "print(buy_and_sell([8, 10, 7, 5, 7, 15]))\n",
    "print(buy_and_sell([1, 2, 8, 1])) #7\n",
    "print(buy_and_sell([]))\n"
   ]
  },
  {
   "cell_type": "code",
   "execution_count": null,
   "metadata": {},
   "outputs": [],
   "source": [
    "stock_prices = [8, 10, 7, 5, 7, 15]\n",
    "stock_prices.sort()\n",
    "print(stock_prices[-1] - stock_prices[0])\n",
    "\n"
   ]
  },
  {
   "cell_type": "markdown",
   "metadata": {},
   "source": [
    "## 75 Write a Python program to remove all instances of a given value from a given array of integers and find the length of the new array.\n",
    "\n"
   ]
  },
  {
   "cell_type": "code",
   "execution_count": null,
   "metadata": {},
   "outputs": [],
   "source": [
    " def remove_element(array_nums, val):\n",
    "    i = 0\n",
    "    while i < len(array_nums):\n",
    "        if array_nums[i] == val:\n",
    "            array_nums.remove(array_nums[i])\n",
    "\n",
    "        else:\n",
    "            i += 1\n",
    "\n",
    "    return len(array_nums)\n",
    "print(remove_element([1, 2, 3, 4, 5, 6, 7, 5], 5))\n",
    "print(remove_element([10,10,10,10,10], 10)) \n",
    "print(remove_element([10,10,10,10,10], 20)) \n",
    "print(remove_element([], 1))\n"
   ]
  },
  {
   "cell_type": "markdown",
   "metadata": {},
   "source": [
    "## 76 Write a Python program to find the starting and ending position of a given value in a given array of integers, sorted in ascending order.\n"
   ]
  },
  {
   "cell_type": "code",
   "execution_count": null,
   "metadata": {},
   "outputs": [],
   "source": [
    "def search_Range(array_nums, target_val):\n",
    "  result_arra = []\n",
    "  start_pos = 0\n",
    "  end_pos = 0\n",
    "  for i in range(len(array_nums)):\n",
    "      if target_val == array_nums[i] and start_pos == -1:\n",
    "          start_pos = i\n",
    "          end_pos = i\n",
    "      elif target_val == array_nums[i] and start_pos != -1:\n",
    "          end_pos = i\n",
    "  result_arra.append(start_pos)\n",
    "  result_arra.append(end_pos)\n",
    "  return result_arra\n",
    "print(search_Range([5, 7, 7, 8, 8, 8], 8))\n",
    "print(search_Range([1, 3, 6, 9, 13, 14], 4))\n",
    "print(search_Range([5, 7, 7, 8, 10], 8))\n"
   ]
  },
  {
   "cell_type": "markdown",
   "metadata": {},
   "source": [
    "## 77 Write a Python program to find the maximum profit in one transaction i.e., buy one and sell one share of the stock from the given price value of the said array. You cannot sell a stock before you buy one.\n"
   ]
  },
  {
   "cell_type": "code",
   "execution_count": null,
   "metadata": {},
   "outputs": [],
   "source": [
    " def max_profit(stock_price):\n",
    "\tmax_profit_amt = 0\n",
    "\n",
    "\tfor i in range(len(stock_price)):\n",
    "\t\tprofit_amt = 0\n",
    "\t\tfor j in range(i+1, len(stock_price)):\n",
    "\t\t\tprofit_amt = stock_price[j] - stock_price[i]\n",
    "\t\t\tif  profit_amt > max_profit_amt:\n",
    "\t\t\t\tmax_profit_amt = profit_amt\n",
    "\treturn max_profit_amt\n",
    "print(max_profit([224, 236, 247, 258, 259, 225]))\n"
   ]
  },
  {
   "cell_type": "markdown",
   "metadata": {},
   "source": [
    "## 78 Write a Python program to print a given N by M matrix of numbers line by line in forward > backwards > forward >... order.\n",
    "\n"
   ]
  },
  {
   "cell_type": "code",
   "execution_count": null,
   "metadata": {},
   "outputs": [],
   "source": [
    " def print_matrix(nums):\n",
    "    flag = True \n",
    "    \n",
    "    for line in nums:\n",
    "\n",
    "        if flag == True: \n",
    "            i = 0\n",
    "            while i < len(line):\n",
    "                print(line[i])\n",
    "                i += 1\n",
    "            flag = False\n",
    "\n",
    "        else: \n",
    "            i = -1\n",
    "            while i > -1 * len(line) - 1:\n",
    "                print(line[i])\n",
    "                i = i - 1\n",
    "            flag = True\n",
    "print_matrix([[1, 2, 3, 4],\n",
    "              [5, 6, 7, 8],\n",
    "              [0, 6, 2, 8],\n",
    "              [2, 3, 0, 2]])\n",
    "\n"
   ]
  },
  {
   "cell_type": "markdown",
   "metadata": {},
   "source": [
    "## 79 Write a Python program to compute the largest product of three integers from a given list of integers.\n",
    "\n"
   ]
  },
  {
   "cell_type": "code",
   "execution_count": null,
   "metadata": {},
   "outputs": [],
   "source": [
    "def matrix(matrix):\n",
    "    read_matrix = []\n",
    "    for i in matrix:\n",
    "        if (matrix.index(i))%2 == 0:\n",
    "            read_matrix.extend(i)\n",
    "        else:\n",
    "            read_matrix.extend(i[::-1])\n",
    "    print(*read_matrix, sep = '\\n')"
   ]
  },
  {
   "cell_type": "code",
   "execution_count": null,
   "metadata": {},
   "outputs": [],
   "source": [
    "from itertools import combinations\n",
    "from functools import reduce\n",
    "\n",
    "import operator\n",
    "\n",
    "def largest_product_of_three(lst):\n",
    "    return max([(reduce(operator.mul, list(i))) for i in list(combinations(lst, 3))])\n",
    "largest_product_of_three([-10, -20, 20, 1])"
   ]
  },
  {
   "cell_type": "markdown",
   "metadata": {},
   "source": [
    "## 80 Write a Python program to find the first missing positive integer that does not exist in a given list.\n",
    "\n"
   ]
  },
  {
   "cell_type": "code",
   "execution_count": null,
   "metadata": {},
   "outputs": [],
   "source": [
    "def first_missing_number(nums):\n",
    "    if len(nums) == 0:\n",
    "        return 1\n",
    "        \n",
    "    nums.sort()\n",
    "    smallest_int_num = 0\n",
    "    \n",
    "    for i in range(len(nums) - 1):\n",
    "\n",
    "        if nums[i] <= 0 or nums[i] == nums[i + 1]:\n",
    "            continue\n",
    "        else:\n",
    "            if nums[i + 1] - nums[i] != 1:\n",
    "                smallest_int_num = nums[i] + 1\n",
    "                return smallest_int_num    \n",
    "    if smallest_int_num == 0:\n",
    "        smallest_int_num = nums[-1] + 1\n",
    "    return smallest_int_num\n",
    "\n",
    "print(first_missing_number([2, 3, 7, 6, 8, -1, -10, 15, 16])) \n",
    "print(first_missing_number([1, 2, 4, -7, 6, 8, 1, -10, 15]))\n",
    "print(first_missing_number([1, 2, 3, 4, 5, 6, 7]))\n",
    "print(first_missing_number([-2, -3, -1, 1, 2, 3]))\n"
   ]
  },
  {
   "cell_type": "code",
   "execution_count": null,
   "metadata": {},
   "outputs": [],
   "source": []
  }
 ],
 "metadata": {
  "kernelspec": {
   "display_name": "Python 3",
   "language": "python",
   "name": "python3"
  },
  "language_info": {
   "codemirror_mode": {
    "name": "ipython",
    "version": 3
   },
   "file_extension": ".py",
   "mimetype": "text/x-python",
   "name": "python",
   "nbconvert_exporter": "python",
   "pygments_lexer": "ipython3",
   "version": "3.7.6"
  }
 },
 "nbformat": 4,
 "nbformat_minor": 4
}
